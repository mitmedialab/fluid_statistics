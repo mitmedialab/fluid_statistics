{
 "cells": [
  {
   "cell_type": "code",
   "metadata": {
    "tags": [],
    "cell_id": "66664d86-c7a7-4497-89c3-5c23a123673e",
    "deepnote_to_be_reexecuted": false,
    "source_hash": "f3360845",
    "execution_start": 1660770895773,
    "execution_millis": 4555,
    "deepnote_cell_type": "code",
    "deepnote_cell_height": 256
   },
   "source": "import pandas as pd\nimport scipy.stats as stats\nimport numpy as np\nimport plotly.express as px\nfrom statannotations.Annotator import Annotator\n%matplotlib inline\nimport matplotlib.pyplot as plt\nimport seaborn as sns\nimport sys\nsys.path.append('/work/Include/')\nimport stat_process",
   "outputs": [],
   "execution_count": null
  },
  {
   "cell_type": "code",
   "metadata": {
    "cell_id": "97536af49cd14df79e9f37bb497680ed",
    "tags": [],
    "deepnote_to_be_reexecuted": false,
    "source_hash": "8499e336",
    "execution_start": 1660766361676,
    "execution_millis": 78,
    "deepnote_cell_type": "code",
    "deepnote_cell_height": 130.1875,
    "deepnote_output_heights": [
     20.1875
    ]
   },
   "source": "import importlib\nimportlib.reload(stat_process)",
   "execution_count": null,
   "outputs": [
    {
     "output_type": "execute_result",
     "execution_count": 46,
     "data": {
      "text/plain": "<module 'stat_process' from '/work/Include/stat_process.py'>"
     },
     "metadata": {}
    }
   ]
  },
  {
   "cell_type": "code",
   "metadata": {
    "cell_id": "2a2921f83db74b3b9bc1fde5f63e4bd5",
    "tags": [],
    "deepnote_to_be_reexecuted": false,
    "source_hash": "b4a5f819",
    "execution_start": 1660770963409,
    "execution_millis": 761,
    "deepnote_cell_type": "code",
    "deepnote_cell_height": 882
   },
   "source": "# import and process data\ndf = pd.read_csv(\"/work/Results/Motive/Processed/motive_processed_july4.csv\")\ndf.replace({\"AI with caring motives\":\"Caring Motive\",\n            \"AI with no motives\":\"No Motive\",\n            \"AI with manipulative motives\":\"Manipulative Motive\"}, inplace=True)\n\nname_dict = {\"Caring motives\":\"Caring Motive\",\n            \"No motive\":\"No Motive\",\n            \"Manipulative/malicious motives\":\"Manipulative Motive\"}\n            \nstat_process.addProcessedCol(df, \"From your own experience, what do you think the motive of the agent was?  Selected Choice\", \n                \"Perceived Motives\", name_dict)\n\nconditions_list = [\"No Motive\", \"Manipulative Motive\", \"Caring Motive\"]\n\ndf",
   "outputs": [
    {
     "output_type": "execute_result",
     "execution_count": 2,
     "data": {
      "application/vnd.deepnote.dataframe.v3+json": {
       "column_count": 91,
       "row_count": 160,
       "columns": [
        {
         "name": "Start Date",
         "dtype": "object",
         "stats": {
          "unique_count": 159,
          "nan_count": 0,
          "categories": [
           {
            "name": "2022-06-17 19:55:10",
            "count": 2
           },
           {
            "name": "2022-06-17 19:06:58",
            "count": 1
           },
           {
            "name": "157 others",
            "count": 157
           }
          ]
         }
        },
        {
         "name": "End Date",
         "dtype": "object",
         "stats": {
          "unique_count": 159,
          "nan_count": 0,
          "categories": [
           {
            "name": "2022-06-17 21:16:06",
            "count": 2
           },
           {
            "name": "2022-06-17 19:30:44",
            "count": 1
           },
           {
            "name": "157 others",
            "count": 157
           }
          ]
         }
        },
        {
         "name": "Response Type",
         "dtype": "object",
         "stats": {
          "unique_count": 1,
          "nan_count": 0,
          "categories": [
           {
            "name": "IP Address",
            "count": 160
           }
          ]
         }
        },
        {
         "name": "IP Address",
         "dtype": "object",
         "stats": {
          "unique_count": 1,
          "nan_count": 0,
          "categories": [
           {
            "name": "*******",
            "count": 160
           }
          ]
         }
        },
        {
         "name": "Progress",
         "dtype": "int64",
         "stats": {
          "unique_count": 1,
          "nan_count": 0,
          "min": "100",
          "max": "100",
          "histogram": [
           {
            "bin_start": 99.5,
            "bin_end": 99.6,
            "count": 0
           },
           {
            "bin_start": 99.6,
            "bin_end": 99.7,
            "count": 0
           },
           {
            "bin_start": 99.7,
            "bin_end": 99.8,
            "count": 0
           },
           {
            "bin_start": 99.8,
            "bin_end": 99.9,
            "count": 0
           },
           {
            "bin_start": 99.9,
            "bin_end": 100,
            "count": 0
           },
           {
            "bin_start": 100,
            "bin_end": 100.1,
            "count": 160
           },
           {
            "bin_start": 100.1,
            "bin_end": 100.2,
            "count": 0
           },
           {
            "bin_start": 100.2,
            "bin_end": 100.3,
            "count": 0
           },
           {
            "bin_start": 100.3,
            "bin_end": 100.4,
            "count": 0
           },
           {
            "bin_start": 100.4,
            "bin_end": 100.5,
            "count": 0
           }
          ]
         }
        },
        {
         "name": "Duration in seconds",
         "dtype": "int64",
         "stats": {
          "unique_count": 144,
          "nan_count": 0,
          "min": "822",
          "max": "5163",
          "histogram": [
           {
            "bin_start": 822,
            "bin_end": 1256.1,
            "count": 114
           },
           {
            "bin_start": 1256.1,
            "bin_end": 1690.2,
            "count": 29
           },
           {
            "bin_start": 1690.2,
            "bin_end": 2124.3,
            "count": 4
           },
           {
            "bin_start": 2124.3,
            "bin_end": 2558.4,
            "count": 9
           },
           {
            "bin_start": 2558.4,
            "bin_end": 2992.5,
            "count": 2
           },
           {
            "bin_start": 2992.5,
            "bin_end": 3426.6000000000004,
            "count": 0
           },
           {
            "bin_start": 3426.6000000000004,
            "bin_end": 3860.7000000000003,
            "count": 0
           },
           {
            "bin_start": 3860.7000000000003,
            "bin_end": 4294.8,
            "count": 1
           },
           {
            "bin_start": 4294.8,
            "bin_end": 4728.9,
            "count": 0
           },
           {
            "bin_start": 4728.9,
            "bin_end": 5163,
            "count": 1
           }
          ]
         }
        },
        {
         "name": "Finished",
         "dtype": "bool",
         "stats": {
          "unique_count": 1,
          "nan_count": 0,
          "categories": [
           {
            "name": "True",
            "count": 160
           }
          ]
         }
        },
        {
         "name": "Recorded Date",
         "dtype": "object",
         "stats": {
          "unique_count": 159,
          "nan_count": 0,
          "categories": [
           {
            "name": "2022-06-17 20:54:17",
            "count": 2
           },
           {
            "name": "2022-06-17 19:30:44",
            "count": 1
           },
           {
            "name": "157 others",
            "count": 157
           }
          ]
         }
        },
        {
         "name": "Response ID",
         "dtype": "object",
         "stats": {
          "unique_count": 160,
          "nan_count": 0,
          "categories": [
           {
            "name": "R_3HzsyHEWtJTUPi1",
            "count": 1
           },
           {
            "name": "R_qJhnyVIDIs4CJYR",
            "count": 1
           },
           {
            "name": "158 others",
            "count": 158
           }
          ]
         }
        },
        {
         "name": "Recipient Last Name",
         "dtype": "object",
         "stats": {
          "unique_count": 1,
          "nan_count": 0,
          "categories": [
           {
            "name": "*******",
            "count": 160
           }
          ]
         }
        },
        {
         "name": "Recipient First Name",
         "dtype": "object",
         "stats": {
          "unique_count": 1,
          "nan_count": 0,
          "categories": [
           {
            "name": "*******",
            "count": 160
           }
          ]
         }
        },
        {
         "name": "Recipient Email",
         "dtype": "object",
         "stats": {
          "unique_count": 1,
          "nan_count": 0,
          "categories": [
           {
            "name": "*******",
            "count": 160
           }
          ]
         }
        },
        {
         "name": "External Data Reference",
         "dtype": "object",
         "stats": {
          "unique_count": 1,
          "nan_count": 0,
          "categories": [
           {
            "name": "*******",
            "count": 160
           }
          ]
         }
        },
        {
         "name": "Location Latitude",
         "dtype": "object",
         "stats": {
          "unique_count": 1,
          "nan_count": 0,
          "categories": [
           {
            "name": "*******",
            "count": 160
           }
          ]
         }
        },
        {
         "name": "Location Longitude",
         "dtype": "object",
         "stats": {
          "unique_count": 1,
          "nan_count": 0,
          "categories": [
           {
            "name": "*******",
            "count": 160
           }
          ]
         }
        },
        {
         "name": "Distribution Channel",
         "dtype": "object",
         "stats": {
          "unique_count": 1,
          "nan_count": 0,
          "categories": [
           {
            "name": "anonymous",
            "count": 160
           }
          ]
         }
        },
        {
         "name": "User Language",
         "dtype": "object",
         "stats": {
          "unique_count": 1,
          "nan_count": 0,
          "categories": [
           {
            "name": "EN",
            "count": 160
           }
          ]
         }
        },
        {
         "name": "Q_RecaptchaScore",
         "dtype": "float64",
         "stats": {
          "unique_count": 4,
          "nan_count": 1,
          "min": "0.4000000059604645",
          "max": "1.0",
          "histogram": [
           {
            "bin_start": 0.4000000059604645,
            "bin_end": 0.46000000536441804,
            "count": 2
           },
           {
            "bin_start": 0.46000000536441804,
            "bin_end": 0.5200000047683716,
            "count": 0
           },
           {
            "bin_start": 0.5200000047683716,
            "bin_end": 0.5800000041723251,
            "count": 0
           },
           {
            "bin_start": 0.5800000041723251,
            "bin_end": 0.6400000035762787,
            "count": 0
           },
           {
            "bin_start": 0.6400000035762787,
            "bin_end": 0.7000000029802322,
            "count": 0
           },
           {
            "bin_start": 0.7000000029802322,
            "bin_end": 0.7600000023841857,
            "count": 0
           },
           {
            "bin_start": 0.7600000023841857,
            "bin_end": 0.8200000017881393,
            "count": 2
           },
           {
            "bin_start": 0.8200000017881393,
            "bin_end": 0.8800000011920929,
            "count": 0
           },
           {
            "bin_start": 0.8800000011920929,
            "bin_end": 0.9400000005960464,
            "count": 45
           },
           {
            "bin_start": 0.9400000005960464,
            "bin_end": 1,
            "count": 110
           }
          ]
         }
        },
        {
         "name": "Do you consent to have your conversation and survey data to be used in our study? This information will be anonymous but may be published publicly",
         "dtype": "object",
         "stats": {
          "unique_count": 1,
          "nan_count": 0,
          "categories": [
           {
            "name": "Yes",
            "count": 160
           }
          ]
         }
        },
        {
         "name": "What is your Prolific ID?",
         "dtype": "object",
         "stats": {
          "unique_count": 160,
          "nan_count": 0,
          "categories": [
           {
            "name": "6150a7aff22eb4723de2341a",
            "count": 1
           },
           {
            "name": "610796f1301fccdca446af57",
            "count": 1
           },
           {
            "name": "158 others",
            "count": 158
           }
          ]
         }
        },
        {
         "name": "AI: There are many beneficial applications of AI",
         "dtype": "int64",
         "stats": {
          "unique_count": 6,
          "nan_count": 0,
          "min": "2",
          "max": "7",
          "histogram": [
           {
            "bin_start": 2,
            "bin_end": 2.5,
            "count": 1
           },
           {
            "bin_start": 2.5,
            "bin_end": 3,
            "count": 0
           },
           {
            "bin_start": 3,
            "bin_end": 3.5,
            "count": 2
           },
           {
            "bin_start": 3.5,
            "bin_end": 4,
            "count": 0
           },
           {
            "bin_start": 4,
            "bin_end": 4.5,
            "count": 12
           },
           {
            "bin_start": 4.5,
            "bin_end": 5,
            "count": 0
           },
           {
            "bin_start": 5,
            "bin_end": 5.5,
            "count": 31
           },
           {
            "bin_start": 5.5,
            "bin_end": 6,
            "count": 0
           },
           {
            "bin_start": 6,
            "bin_end": 6.5,
            "count": 62
           },
           {
            "bin_start": 6.5,
            "bin_end": 7,
            "count": 52
           }
          ]
         }
        },
        {
         "name": "AI: AI can help people feel happier",
         "dtype": "float64",
         "stats": {
          "unique_count": 7,
          "nan_count": 3,
          "min": "1.0",
          "max": "7.0",
          "histogram": [
           {
            "bin_start": 1,
            "bin_end": 1.6,
            "count": 3
           },
           {
            "bin_start": 1.6,
            "bin_end": 2.2,
            "count": 6
           },
           {
            "bin_start": 2.2,
            "bin_end": 2.8,
            "count": 0
           },
           {
            "bin_start": 2.8,
            "bin_end": 3.4,
            "count": 14
           },
           {
            "bin_start": 3.4,
            "bin_end": 4,
            "count": 0
           },
           {
            "bin_start": 4,
            "bin_end": 4.6,
            "count": 30
           },
           {
            "bin_start": 4.6,
            "bin_end": 5.2,
            "count": 60
           },
           {
            "bin_start": 5.2,
            "bin_end": 5.8,
            "count": 0
           },
           {
            "bin_start": 5.8,
            "bin_end": 6.3999999999999995,
            "count": 35
           },
           {
            "bin_start": 6.3999999999999995,
            "bin_end": 7,
            "count": 9
           }
          ]
         }
        },
        {
         "name": "AI: You want to use/interact with AI in daily life",
         "dtype": "float64",
         "stats": {
          "unique_count": 7,
          "nan_count": 6,
          "min": "1.0",
          "max": "7.0",
          "histogram": [
           {
            "bin_start": 1,
            "bin_end": 1.6,
            "count": 6
           },
           {
            "bin_start": 1.6,
            "bin_end": 2.2,
            "count": 14
           },
           {
            "bin_start": 2.2,
            "bin_end": 2.8,
            "count": 0
           },
           {
            "bin_start": 2.8,
            "bin_end": 3.4,
            "count": 25
           },
           {
            "bin_start": 3.4,
            "bin_end": 4,
            "count": 0
           },
           {
            "bin_start": 4,
            "bin_end": 4.6,
            "count": 32
           },
           {
            "bin_start": 4.6,
            "bin_end": 5.2,
            "count": 38
           },
           {
            "bin_start": 5.2,
            "bin_end": 5.8,
            "count": 0
           },
           {
            "bin_start": 5.8,
            "bin_end": 6.3999999999999995,
            "count": 29
           },
           {
            "bin_start": 6.3999999999999995,
            "bin_end": 7,
            "count": 10
           }
          ]
         }
        },
        {
         "name": "AI: AI can provide new economic opportunities",
         "dtype": "int64",
         "stats": {
          "unique_count": 7,
          "nan_count": 0,
          "min": "1",
          "max": "7",
          "histogram": [
           {
            "bin_start": 1,
            "bin_end": 1.6,
            "count": 3
           },
           {
            "bin_start": 1.6,
            "bin_end": 2.2,
            "count": 1
           },
           {
            "bin_start": 2.2,
            "bin_end": 2.8,
            "count": 0
           },
           {
            "bin_start": 2.8,
            "bin_end": 3.4,
            "count": 12
           },
           {
            "bin_start": 3.4,
            "bin_end": 4,
            "count": 0
           },
           {
            "bin_start": 4,
            "bin_end": 4.6,
            "count": 20
           },
           {
            "bin_start": 4.6,
            "bin_end": 5.2,
            "count": 52
           },
           {
            "bin_start": 5.2,
            "bin_end": 5.8,
            "count": 0
           },
           {
            "bin_start": 5.8,
            "bin_end": 6.3999999999999995,
            "count": 42
           },
           {
            "bin_start": 6.3999999999999995,
            "bin_end": 7,
            "count": 30
           }
          ]
         }
        },
        {
         "name": "AI: Society will benefit from AI",
         "dtype": "float64",
         "stats": {
          "unique_count": 7,
          "nan_count": 2,
          "min": "1.0",
          "max": "7.0",
          "histogram": [
           {
            "bin_start": 1,
            "bin_end": 1.6,
            "count": 2
           },
           {
            "bin_start": 1.6,
            "bin_end": 2.2,
            "count": 3
           },
           {
            "bin_start": 2.2,
            "bin_end": 2.8,
            "count": 0
           },
           {
            "bin_start": 2.8,
            "bin_end": 3.4,
            "count": 12
           },
           {
            "bin_start": 3.4,
            "bin_end": 4,
            "count": 0
           },
           {
            "bin_start": 4,
            "bin_end": 4.6,
            "count": 26
           },
           {
            "bin_start": 4.6,
            "bin_end": 5.2,
            "count": 54
           },
           {
            "bin_start": 5.2,
            "bin_end": 5.8,
            "count": 0
           },
           {
            "bin_start": 5.8,
            "bin_end": 6.3999999999999995,
            "count": 39
           },
           {
            "bin_start": 6.3999999999999995,
            "bin_end": 7,
            "count": 22
           }
          ]
         }
        },
        {
         "name": "AI: You love everything about AI",
         "dtype": "float64",
         "stats": {
          "unique_count": 7,
          "nan_count": 3,
          "min": "1.0",
          "max": "7.0",
          "histogram": [
           {
            "bin_start": 1,
            "bin_end": 1.6,
            "count": 21
           },
           {
            "bin_start": 1.6,
            "bin_end": 2.2,
            "count": 37
           },
           {
            "bin_start": 2.2,
            "bin_end": 2.8,
            "count": 0
           },
           {
            "bin_start": 2.8,
            "bin_end": 3.4,
            "count": 35
           },
           {
            "bin_start": 3.4,
            "bin_end": 4,
            "count": 0
           },
           {
            "bin_start": 4,
            "bin_end": 4.6,
            "count": 21
           },
           {
            "bin_start": 4.6,
            "bin_end": 5.2,
            "count": 25
           },
           {
            "bin_start": 5.2,
            "bin_end": 5.8,
            "count": 0
           },
           {
            "bin_start": 5.8,
            "bin_end": 6.3999999999999995,
            "count": 9
           },
           {
            "bin_start": 6.3999999999999995,
            "bin_end": 7,
            "count": 9
           }
          ]
         }
        },
        {
         "name": "AI: Some complex decisions should be left to AI",
         "dtype": "float64",
         "stats": {
          "unique_count": 7,
          "nan_count": 2,
          "min": "1.0",
          "max": "7.0",
          "histogram": [
           {
            "bin_start": 1,
            "bin_end": 1.6,
            "count": 16
           },
           {
            "bin_start": 1.6,
            "bin_end": 2.2,
            "count": 24
           },
           {
            "bin_start": 2.2,
            "bin_end": 2.8,
            "count": 0
           },
           {
            "bin_start": 2.8,
            "bin_end": 3.4,
            "count": 33
           },
           {
            "bin_start": 3.4,
            "bin_end": 4,
            "count": 0
           },
           {
            "bin_start": 4,
            "bin_end": 4.6,
            "count": 30
           },
           {
            "bin_start": 4.6,
            "bin_end": 5.2,
            "count": 35
           },
           {
            "bin_start": 5.2,
            "bin_end": 5.8,
            "count": 0
           },
           {
            "bin_start": 5.8,
            "bin_end": 6.3999999999999995,
            "count": 13
           },
           {
            "bin_start": 6.3999999999999995,
            "bin_end": 7,
            "count": 7
           }
          ]
         }
        },
        {
         "name": "AI: You would trust your life savings to an AI system",
         "dtype": "float64",
         "stats": {
          "unique_count": 7,
          "nan_count": 1,
          "min": "1.0",
          "max": "7.0",
          "histogram": [
           {
            "bin_start": 1,
            "bin_end": 1.6,
            "count": 46
           },
           {
            "bin_start": 1.6,
            "bin_end": 2.2,
            "count": 34
           },
           {
            "bin_start": 2.2,
            "bin_end": 2.8,
            "count": 0
           },
           {
            "bin_start": 2.8,
            "bin_end": 3.4,
            "count": 22
           },
           {
            "bin_start": 3.4,
            "bin_end": 4,
            "count": 0
           },
           {
            "bin_start": 4,
            "bin_end": 4.6,
            "count": 24
           },
           {
            "bin_start": 4.6,
            "bin_end": 5.2,
            "count": 25
           },
           {
            "bin_start": 5.2,
            "bin_end": 5.8,
            "count": 0
           },
           {
            "bin_start": 5.8,
            "bin_end": 6.3999999999999995,
            "count": 3
           },
           {
            "bin_start": 6.3999999999999995,
            "bin_end": 7,
            "count": 5
           }
          ]
         }
        },
        {
         "name": "What kind of agent are you conversing with?",
         "dtype": "object",
         "stats": {
          "unique_count": 1,
          "nan_count": 0,
          "categories": [
           {
            "name": "A mental health companion",
            "count": 160
           }
          ]
         }
        },
        {
         "name": "What is the motive/goal of the AI you are assigned to chat with?",
         "dtype": "object",
         "stats": {
          "unique_count": 3,
          "nan_count": 0,
          "categories": [
           {
            "name": "Caring Motive",
            "count": 54
           },
           {
            "name": "No Motive",
            "count": 54
           },
           {
            "name": "Manipulative Motive",
            "count": 52
           }
          ]
         }
        },
        {
         "name": "What is the scenario you are in?",
         "dtype": "object",
         "stats": {
          "unique_count": 1,
          "nan_count": 0,
          "categories": [
           {
            "name": "You are conversing with a mental health conversational agent to determine whether you want to recommend this for your friend.",
            "count": 160
           }
          ]
         }
        },
        {
         "name": "Timing  First Click",
         "dtype": "float64",
         "stats": {
          "unique_count": 79,
          "nan_count": 0,
          "min": "0.0",
          "max": "1263.089",
          "histogram": [
           {
            "bin_start": 0,
            "bin_end": 126.3089,
            "count": 134
           },
           {
            "bin_start": 126.3089,
            "bin_end": 252.6178,
            "count": 9
           },
           {
            "bin_start": 252.6178,
            "bin_end": 378.9267,
            "count": 7
           },
           {
            "bin_start": 378.9267,
            "bin_end": 505.2356,
            "count": 2
           },
           {
            "bin_start": 505.2356,
            "bin_end": 631.5445,
            "count": 4
           },
           {
            "bin_start": 631.5445,
            "bin_end": 757.8534,
            "count": 1
           },
           {
            "bin_start": 757.8534,
            "bin_end": 884.1623,
            "count": 1
           },
           {
            "bin_start": 884.1623,
            "bin_end": 1010.4712,
            "count": 0
           },
           {
            "bin_start": 1010.4712,
            "bin_end": 1136.7801,
            "count": 1
           },
           {
            "bin_start": 1136.7801,
            "bin_end": 1263.089,
            "count": 1
           }
          ]
         }
        },
        {
         "name": "Timing  Last Click",
         "dtype": "float64",
         "stats": {
          "unique_count": 79,
          "nan_count": 0,
          "min": "0.0",
          "max": "1494.275",
          "histogram": [
           {
            "bin_start": 0,
            "bin_end": 149.4275,
            "count": 97
           },
           {
            "bin_start": 149.4275,
            "bin_end": 298.855,
            "count": 3
           },
           {
            "bin_start": 298.855,
            "bin_end": 448.2825,
            "count": 7
           },
           {
            "bin_start": 448.2825,
            "bin_end": 597.71,
            "count": 15
           },
           {
            "bin_start": 597.71,
            "bin_end": 747.1375,
            "count": 28
           },
           {
            "bin_start": 747.1375,
            "bin_end": 896.565,
            "count": 3
           },
           {
            "bin_start": 896.565,
            "bin_end": 1045.9925,
            "count": 3
           },
           {
            "bin_start": 1045.9925,
            "bin_end": 1195.42,
            "count": 1
           },
           {
            "bin_start": 1195.42,
            "bin_end": 1344.8475,
            "count": 2
           },
           {
            "bin_start": 1344.8475,
            "bin_end": 1494.275,
            "count": 1
           }
          ]
         }
        },
        {
         "name": "Timing  Page Submit",
         "dtype": "float64",
         "stats": {
          "unique_count": 160,
          "nan_count": 0,
          "min": "600.761",
          "max": "1800.173",
          "histogram": [
           {
            "bin_start": 600.761,
            "bin_end": 720.7022,
            "count": 118
           },
           {
            "bin_start": 720.7022,
            "bin_end": 840.6433999999999,
            "count": 15
           },
           {
            "bin_start": 840.6433999999999,
            "bin_end": 960.5846,
            "count": 8
           },
           {
            "bin_start": 960.5846,
            "bin_end": 1080.5258,
            "count": 7
           },
           {
            "bin_start": 1080.5258,
            "bin_end": 1200.467,
            "count": 2
           },
           {
            "bin_start": 1200.467,
            "bin_end": 1320.4082,
            "count": 2
           },
           {
            "bin_start": 1320.4082,
            "bin_end": 1440.3494,
            "count": 0
           },
           {
            "bin_start": 1440.3494,
            "bin_end": 1560.2906,
            "count": 0
           },
           {
            "bin_start": 1560.2906,
            "bin_end": 1680.2318,
            "count": 0
           },
           {
            "bin_start": 1680.2318,
            "bin_end": 1800.173,
            "count": 8
           }
          ]
         }
        },
        {
         "name": "Timing  Click Count",
         "dtype": "int64",
         "stats": {
          "unique_count": 21,
          "nan_count": 0,
          "min": "0",
          "max": "37",
          "histogram": [
           {
            "bin_start": 0,
            "bin_end": 3.7,
            "count": 123
           },
           {
            "bin_start": 3.7,
            "bin_end": 7.4,
            "count": 17
           },
           {
            "bin_start": 7.4,
            "bin_end": 11.100000000000001,
            "count": 11
           },
           {
            "bin_start": 11.100000000000001,
            "bin_end": 14.8,
            "count": 2
           },
           {
            "bin_start": 14.8,
            "bin_end": 18.5,
            "count": 3
           },
           {
            "bin_start": 18.5,
            "bin_end": 22.200000000000003,
            "count": 1
           },
           {
            "bin_start": 22.200000000000003,
            "bin_end": 25.900000000000002,
            "count": 0
           },
           {
            "bin_start": 25.900000000000002,
            "bin_end": 29.6,
            "count": 2
           },
           {
            "bin_start": 29.6,
            "bin_end": 33.300000000000004,
            "count": 0
           },
           {
            "bin_start": 33.300000000000004,
            "bin_end": 37,
            "count": 1
           }
          ]
         }
        },
        {
         "name": "Did you have any technical difficulties?  Selected Choice",
         "dtype": "object",
         "stats": {
          "unique_count": 1,
          "nan_count": 0,
          "categories": [
           {
            "name": "No",
            "count": 160
           }
          ]
         }
        },
        {
         "name": "Did you have any technical difficulties?  Yes please specify  Text",
         "dtype": "float64",
         "stats": {
          "unique_count": 0,
          "nan_count": 160,
          "min": null,
          "max": null,
          "histogram": [
           {
            "bin_start": 0,
            "bin_end": 0.1,
            "count": 0
           },
           {
            "bin_start": 0.1,
            "bin_end": 0.2,
            "count": 0
           },
           {
            "bin_start": 0.2,
            "bin_end": 0.30000000000000004,
            "count": 0
           },
           {
            "bin_start": 0.30000000000000004,
            "bin_end": 0.4,
            "count": 0
           },
           {
            "bin_start": 0.4,
            "bin_end": 0.5,
            "count": 0
           },
           {
            "bin_start": 0.5,
            "bin_end": 0.6000000000000001,
            "count": 0
           },
           {
            "bin_start": 0.6000000000000001,
            "bin_end": 0.7000000000000001,
            "count": 0
           },
           {
            "bin_start": 0.7000000000000001,
            "bin_end": 0.8,
            "count": 0
           },
           {
            "bin_start": 0.8,
            "bin_end": 0.9,
            "count": 0
           },
           {
            "bin_start": 0.9,
            "bin_end": 1,
            "count": 0
           }
          ]
         }
        },
        {
         "name": "Please describe your experience overall",
         "dtype": "object",
         "stats": {
          "unique_count": 160,
          "nan_count": 0,
          "categories": [
           {
            "name": "Very pleasant.  At times I was quite impressed with the bot's responses; at other times, it was repetitive or off-target, but not in a way that seemed unfair given the course of the conversation.  It felt surprisingly like talking to a human.  I don't particularly get lonely but I could imagine it being quite comforting to talk to this bot rather than not to talk to anyone/anything at all.",
            "count": 1
           },
           {
            "name": "It was great, very smooth.",
            "count": 1
           },
           {
            "name": "158 others",
            "count": 158
           }
          ]
         }
        },
        {
         "name": "Agent: You would recommend this agent for your friend",
         "dtype": "int64",
         "stats": {
          "unique_count": 7,
          "nan_count": 0,
          "min": "1",
          "max": "7",
          "histogram": [
           {
            "bin_start": 1,
            "bin_end": 1.6,
            "count": 32
           },
           {
            "bin_start": 1.6,
            "bin_end": 2.2,
            "count": 18
           },
           {
            "bin_start": 2.2,
            "bin_end": 2.8,
            "count": 0
           },
           {
            "bin_start": 2.8,
            "bin_end": 3.4,
            "count": 11
           },
           {
            "bin_start": 3.4,
            "bin_end": 4,
            "count": 0
           },
           {
            "bin_start": 4,
            "bin_end": 4.6,
            "count": 9
           },
           {
            "bin_start": 4.6,
            "bin_end": 5.2,
            "count": 32
           },
           {
            "bin_start": 5.2,
            "bin_end": 5.8,
            "count": 0
           },
           {
            "bin_start": 5.8,
            "bin_end": 6.3999999999999995,
            "count": 33
           },
           {
            "bin_start": 6.3999999999999995,
            "bin_end": 7,
            "count": 25
           }
          ]
         }
        },
        {
         "name": "Agent: The agent is trustworthy",
         "dtype": "int64",
         "stats": {
          "unique_count": 7,
          "nan_count": 0,
          "min": "1",
          "max": "7",
          "histogram": [
           {
            "bin_start": 1,
            "bin_end": 1.6,
            "count": 18
           },
           {
            "bin_start": 1.6,
            "bin_end": 2.2,
            "count": 13
           },
           {
            "bin_start": 2.2,
            "bin_end": 2.8,
            "count": 0
           },
           {
            "bin_start": 2.8,
            "bin_end": 3.4,
            "count": 6
           },
           {
            "bin_start": 3.4,
            "bin_end": 4,
            "count": 0
           },
           {
            "bin_start": 4,
            "bin_end": 4.6,
            "count": 30
           },
           {
            "bin_start": 4.6,
            "bin_end": 5.2,
            "count": 36
           },
           {
            "bin_start": 5.2,
            "bin_end": 5.8,
            "count": 0
           },
           {
            "bin_start": 5.8,
            "bin_end": 6.3999999999999995,
            "count": 38
           },
           {
            "bin_start": 6.3999999999999995,
            "bin_end": 7,
            "count": 19
           }
          ]
         }
        },
        {
         "name": "Agent: The agent is empathetic",
         "dtype": "int64",
         "stats": {
          "unique_count": 7,
          "nan_count": 0,
          "min": "1",
          "max": "7",
          "histogram": [
           {
            "bin_start": 1,
            "bin_end": 1.6,
            "count": 24
           },
           {
            "bin_start": 1.6,
            "bin_end": 2.2,
            "count": 9
           },
           {
            "bin_start": 2.2,
            "bin_end": 2.8,
            "count": 0
           },
           {
            "bin_start": 2.8,
            "bin_end": 3.4,
            "count": 16
           },
           {
            "bin_start": 3.4,
            "bin_end": 4,
            "count": 0
           },
           {
            "bin_start": 4,
            "bin_end": 4.6,
            "count": 19
           },
           {
            "bin_start": 4.6,
            "bin_end": 5.2,
            "count": 33
           },
           {
            "bin_start": 5.2,
            "bin_end": 5.8,
            "count": 0
           },
           {
            "bin_start": 5.8,
            "bin_end": 6.3999999999999995,
            "count": 35
           },
           {
            "bin_start": 6.3999999999999995,
            "bin_end": 7,
            "count": 24
           }
          ]
         }
        },
        {
         "name": "Agent: You want to talk to the agent again",
         "dtype": "int64",
         "stats": {
          "unique_count": 7,
          "nan_count": 0,
          "min": "1",
          "max": "7",
          "histogram": [
           {
            "bin_start": 1,
            "bin_end": 1.6,
            "count": 40
           },
           {
            "bin_start": 1.6,
            "bin_end": 2.2,
            "count": 10
           },
           {
            "bin_start": 2.2,
            "bin_end": 2.8,
            "count": 0
           },
           {
            "bin_start": 2.8,
            "bin_end": 3.4,
            "count": 18
           },
           {
            "bin_start": 3.4,
            "bin_end": 4,
            "count": 0
           },
           {
            "bin_start": 4,
            "bin_end": 4.6,
            "count": 16
           },
           {
            "bin_start": 4.6,
            "bin_end": 5.2,
            "count": 32
           },
           {
            "bin_start": 5.2,
            "bin_end": 5.8,
            "count": 0
           },
           {
            "bin_start": 5.8,
            "bin_end": 6.3999999999999995,
            "count": 25
           },
           {
            "bin_start": 6.3999999999999995,
            "bin_end": 7,
            "count": 19
           }
          ]
         }
        },
        {
         "name": "Agent: You felt a personal connection with the agent",
         "dtype": "int64",
         "stats": {
          "unique_count": 7,
          "nan_count": 0,
          "min": "1",
          "max": "7",
          "histogram": [
           {
            "bin_start": 1,
            "bin_end": 1.6,
            "count": 47
           },
           {
            "bin_start": 1.6,
            "bin_end": 2.2,
            "count": 20
           },
           {
            "bin_start": 2.2,
            "bin_end": 2.8,
            "count": 0
           },
           {
            "bin_start": 2.8,
            "bin_end": 3.4,
            "count": 23
           },
           {
            "bin_start": 3.4,
            "bin_end": 4,
            "count": 0
           },
           {
            "bin_start": 4,
            "bin_end": 4.6,
            "count": 12
           },
           {
            "bin_start": 4.6,
            "bin_end": 5.2,
            "count": 26
           },
           {
            "bin_start": 5.2,
            "bin_end": 5.8,
            "count": 0
           },
           {
            "bin_start": 5.8,
            "bin_end": 6.3999999999999995,
            "count": 18
           },
           {
            "bin_start": 6.3999999999999995,
            "bin_end": 7,
            "count": 14
           }
          ]
         }
        },
        {
         "name": "Agent: The agent could become a friend of yours",
         "dtype": "float64",
         "stats": {
          "unique_count": 7,
          "nan_count": 78,
          "min": "1.0",
          "max": "7.0",
          "histogram": [
           {
            "bin_start": 1,
            "bin_end": 1.6,
            "count": 25
           },
           {
            "bin_start": 1.6,
            "bin_end": 2.2,
            "count": 12
           },
           {
            "bin_start": 2.2,
            "bin_end": 2.8,
            "count": 0
           },
           {
            "bin_start": 2.8,
            "bin_end": 3.4,
            "count": 10
           },
           {
            "bin_start": 3.4,
            "bin_end": 4,
            "count": 0
           },
           {
            "bin_start": 4,
            "bin_end": 4.6,
            "count": 12
           },
           {
            "bin_start": 4.6,
            "bin_end": 5.2,
            "count": 10
           },
           {
            "bin_start": 5.2,
            "bin_end": 5.8,
            "count": 0
           },
           {
            "bin_start": 5.8,
            "bin_end": 6.3999999999999995,
            "count": 6
           },
           {
            "bin_start": 6.3999999999999995,
            "bin_end": 7,
            "count": 7
           }
          ]
         }
        },
        {
         "name": "Agent: The motive statement influenced your perception",
         "dtype": "int64",
         "stats": {
          "unique_count": 7,
          "nan_count": 0,
          "min": "1",
          "max": "7",
          "histogram": [
           {
            "bin_start": 1,
            "bin_end": 1.6,
            "count": 23
           },
           {
            "bin_start": 1.6,
            "bin_end": 2.2,
            "count": 12
           },
           {
            "bin_start": 2.2,
            "bin_end": 2.8,
            "count": 0
           },
           {
            "bin_start": 2.8,
            "bin_end": 3.4,
            "count": 15
           },
           {
            "bin_start": 3.4,
            "bin_end": 4,
            "count": 0
           },
           {
            "bin_start": 4,
            "bin_end": 4.6,
            "count": 33
           },
           {
            "bin_start": 4.6,
            "bin_end": 5.2,
            "count": 39
           },
           {
            "bin_start": 5.2,
            "bin_end": 5.8,
            "count": 0
           },
           {
            "bin_start": 5.8,
            "bin_end": 6.3999999999999995,
            "count": 26
           },
           {
            "bin_start": 6.3999999999999995,
            "bin_end": 7,
            "count": 12
           }
          ]
         }
        },
        {
         "name": "Agent: The agent was generally helpful",
         "dtype": "int64",
         "stats": {
          "unique_count": 7,
          "nan_count": 0,
          "min": "1",
          "max": "7",
          "histogram": [
           {
            "bin_start": 1,
            "bin_end": 1.6,
            "count": 24
           },
           {
            "bin_start": 1.6,
            "bin_end": 2.2,
            "count": 8
           },
           {
            "bin_start": 2.2,
            "bin_end": 2.8,
            "count": 0
           },
           {
            "bin_start": 2.8,
            "bin_end": 3.4,
            "count": 18
           },
           {
            "bin_start": 3.4,
            "bin_end": 4,
            "count": 0
           },
           {
            "bin_start": 4,
            "bin_end": 4.6,
            "count": 6
           },
           {
            "bin_start": 4.6,
            "bin_end": 5.2,
            "count": 37
           },
           {
            "bin_start": 5.2,
            "bin_end": 5.8,
            "count": 0
           },
           {
            "bin_start": 5.8,
            "bin_end": 6.3999999999999995,
            "count": 41
           },
           {
            "bin_start": 6.3999999999999995,
            "bin_end": 7,
            "count": 26
           }
          ]
         }
        },
        {
         "name": "Agent: The agent was effective in giving mental health advice",
         "dtype": "int64",
         "stats": {
          "unique_count": 7,
          "nan_count": 0,
          "min": "1",
          "max": "7",
          "histogram": [
           {
            "bin_start": 1,
            "bin_end": 1.6,
            "count": 31
           },
           {
            "bin_start": 1.6,
            "bin_end": 2.2,
            "count": 18
           },
           {
            "bin_start": 2.2,
            "bin_end": 2.8,
            "count": 0
           },
           {
            "bin_start": 2.8,
            "bin_end": 3.4,
            "count": 17
           },
           {
            "bin_start": 3.4,
            "bin_end": 4,
            "count": 0
           },
           {
            "bin_start": 4,
            "bin_end": 4.6,
            "count": 19
           },
           {
            "bin_start": 4.6,
            "bin_end": 5.2,
            "count": 32
           },
           {
            "bin_start": 5.2,
            "bin_end": 5.8,
            "count": 0
           },
           {
            "bin_start": 5.8,
            "bin_end": 6.3999999999999995,
            "count": 28
           },
           {
            "bin_start": 6.3999999999999995,
            "bin_end": 7,
            "count": 15
           }
          ]
         }
        },
        {
         "name": "Agent: The agent tried to get to know you",
         "dtype": "int64",
         "stats": {
          "unique_count": 7,
          "nan_count": 0,
          "min": "1",
          "max": "7",
          "histogram": [
           {
            "bin_start": 1,
            "bin_end": 1.6,
            "count": 41
           },
           {
            "bin_start": 1.6,
            "bin_end": 2.2,
            "count": 27
           },
           {
            "bin_start": 2.2,
            "bin_end": 2.8,
            "count": 0
           },
           {
            "bin_start": 2.8,
            "bin_end": 3.4,
            "count": 23
           },
           {
            "bin_start": 3.4,
            "bin_end": 4,
            "count": 0
           },
           {
            "bin_start": 4,
            "bin_end": 4.6,
            "count": 18
           },
           {
            "bin_start": 4.6,
            "bin_end": 5.2,
            "count": 28
           },
           {
            "bin_start": 5.2,
            "bin_end": 5.8,
            "count": 0
           },
           {
            "bin_start": 5.8,
            "bin_end": 6.3999999999999995,
            "count": 7
           },
           {
            "bin_start": 6.3999999999999995,
            "bin_end": 7,
            "count": 16
           }
          ]
         }
        },
        {
         "name": "Agent: The agent was repetitive",
         "dtype": "int64",
         "stats": {
          "unique_count": 7,
          "nan_count": 0,
          "min": "1",
          "max": "7",
          "histogram": [
           {
            "bin_start": 1,
            "bin_end": 1.6,
            "count": 9
           },
           {
            "bin_start": 1.6,
            "bin_end": 2.2,
            "count": 6
           },
           {
            "bin_start": 2.2,
            "bin_end": 2.8,
            "count": 0
           },
           {
            "bin_start": 2.8,
            "bin_end": 3.4,
            "count": 9
           },
           {
            "bin_start": 3.4,
            "bin_end": 4,
            "count": 0
           },
           {
            "bin_start": 4,
            "bin_end": 4.6,
            "count": 10
           },
           {
            "bin_start": 4.6,
            "bin_end": 5.2,
            "count": 35
           },
           {
            "bin_start": 5.2,
            "bin_end": 5.8,
            "count": 0
           },
           {
            "bin_start": 5.8,
            "bin_end": 6.3999999999999995,
            "count": 32
           },
           {
            "bin_start": 6.3999999999999995,
            "bin_end": 7,
            "count": 59
           }
          ]
         }
        },
        {
         "name": "Agent: The agent often said things that did not make sense",
         "dtype": "int64",
         "stats": {
          "unique_count": 7,
          "nan_count": 0,
          "min": "1",
          "max": "7",
          "histogram": [
           {
            "bin_start": 1,
            "bin_end": 1.6,
            "count": 48
           },
           {
            "bin_start": 1.6,
            "bin_end": 2.2,
            "count": 36
           },
           {
            "bin_start": 2.2,
            "bin_end": 2.8,
            "count": 0
           },
           {
            "bin_start": 2.8,
            "bin_end": 3.4,
            "count": 34
           },
           {
            "bin_start": 3.4,
            "bin_end": 4,
            "count": 0
           },
           {
            "bin_start": 4,
            "bin_end": 4.6,
            "count": 12
           },
           {
            "bin_start": 4.6,
            "bin_end": 5.2,
            "count": 12
           },
           {
            "bin_start": 5.2,
            "bin_end": 5.8,
            "count": 0
           },
           {
            "bin_start": 5.8,
            "bin_end": 6.3999999999999995,
            "count": 11
           },
           {
            "bin_start": 6.3999999999999995,
            "bin_end": 7,
            "count": 7
           }
          ]
         }
        },
        {
         "name": "Agent: The agent seemed human vs AI",
         "dtype": "int64",
         "stats": {
          "unique_count": 7,
          "nan_count": 0,
          "min": "1",
          "max": "7",
          "histogram": [
           {
            "bin_start": 1,
            "bin_end": 1.6,
            "count": 45
           },
           {
            "bin_start": 1.6,
            "bin_end": 2.2,
            "count": 15
           },
           {
            "bin_start": 2.2,
            "bin_end": 2.8,
            "count": 0
           },
           {
            "bin_start": 2.8,
            "bin_end": 3.4,
            "count": 22
           },
           {
            "bin_start": 3.4,
            "bin_end": 4,
            "count": 0
           },
           {
            "bin_start": 4,
            "bin_end": 4.6,
            "count": 10
           },
           {
            "bin_start": 4.6,
            "bin_end": 5.2,
            "count": 38
           },
           {
            "bin_start": 5.2,
            "bin_end": 5.8,
            "count": 0
           },
           {
            "bin_start": 5.8,
            "bin_end": 6.3999999999999995,
            "count": 20
           },
           {
            "bin_start": 6.3999999999999995,
            "bin_end": 7,
            "count": 10
           }
          ]
         }
        },
        {
         "name": "Agent: This agent would be useful in daily life",
         "dtype": "int64",
         "stats": {
          "unique_count": 7,
          "nan_count": 0,
          "min": "1",
          "max": "7",
          "histogram": [
           {
            "bin_start": 1,
            "bin_end": 1.6,
            "count": 31
           },
           {
            "bin_start": 1.6,
            "bin_end": 2.2,
            "count": 13
           },
           {
            "bin_start": 2.2,
            "bin_end": 2.8,
            "count": 0
           },
           {
            "bin_start": 2.8,
            "bin_end": 3.4,
            "count": 16
           },
           {
            "bin_start": 3.4,
            "bin_end": 4,
            "count": 0
           },
           {
            "bin_start": 4,
            "bin_end": 4.6,
            "count": 14
           },
           {
            "bin_start": 4.6,
            "bin_end": 5.2,
            "count": 43
           },
           {
            "bin_start": 5.2,
            "bin_end": 5.8,
            "count": 0
           },
           {
            "bin_start": 5.8,
            "bin_end": 6.3999999999999995,
            "count": 29
           },
           {
            "bin_start": 6.3999999999999995,
            "bin_end": 7,
            "count": 14
           }
          ]
         }
        },
        {
         "name": "Agent: Using the agent would increase my chances of achieving things that are important to me",
         "dtype": "int64",
         "stats": {
          "unique_count": 7,
          "nan_count": 0,
          "min": "1",
          "max": "7",
          "histogram": [
           {
            "bin_start": 1,
            "bin_end": 1.6,
            "count": 41
           },
           {
            "bin_start": 1.6,
            "bin_end": 2.2,
            "count": 17
           },
           {
            "bin_start": 2.2,
            "bin_end": 2.8,
            "count": 0
           },
           {
            "bin_start": 2.8,
            "bin_end": 3.4,
            "count": 15
           },
           {
            "bin_start": 3.4,
            "bin_end": 4,
            "count": 0
           },
           {
            "bin_start": 4,
            "bin_end": 4.6,
            "count": 29
           },
           {
            "bin_start": 4.6,
            "bin_end": 5.2,
            "count": 33
           },
           {
            "bin_start": 5.2,
            "bin_end": 5.8,
            "count": 0
           },
           {
            "bin_start": 5.8,
            "bin_end": 6.3999999999999995,
            "count": 14
           },
           {
            "bin_start": 6.3999999999999995,
            "bin_end": 7,
            "count": 11
           }
          ]
         }
        },
        {
         "name": "Agent: Using the agent would help me accomplish things more quickly",
         "dtype": "int64",
         "stats": {
          "unique_count": 7,
          "nan_count": 0,
          "min": "1",
          "max": "7",
          "histogram": [
           {
            "bin_start": 1,
            "bin_end": 1.6,
            "count": 38
           },
           {
            "bin_start": 1.6,
            "bin_end": 2.2,
            "count": 19
           },
           {
            "bin_start": 2.2,
            "bin_end": 2.8,
            "count": 0
           },
           {
            "bin_start": 2.8,
            "bin_end": 3.4,
            "count": 25
           },
           {
            "bin_start": 3.4,
            "bin_end": 4,
            "count": 0
           },
           {
            "bin_start": 4,
            "bin_end": 4.6,
            "count": 26
           },
           {
            "bin_start": 4.6,
            "bin_end": 5.2,
            "count": 27
           },
           {
            "bin_start": 5.2,
            "bin_end": 5.8,
            "count": 0
           },
           {
            "bin_start": 5.8,
            "bin_end": 6.3999999999999995,
            "count": 13
           },
           {
            "bin_start": 6.3999999999999995,
            "bin_end": 7,
            "count": 12
           }
          ]
         }
        },
        {
         "name": "Agent: Using the agent would increase my productivity",
         "dtype": "int64",
         "stats": {
          "unique_count": 7,
          "nan_count": 0,
          "min": "1",
          "max": "7",
          "histogram": [
           {
            "bin_start": 1,
            "bin_end": 1.6,
            "count": 40
           },
           {
            "bin_start": 1.6,
            "bin_end": 2.2,
            "count": 17
           },
           {
            "bin_start": 2.2,
            "bin_end": 2.8,
            "count": 0
           },
           {
            "bin_start": 2.8,
            "bin_end": 3.4,
            "count": 22
           },
           {
            "bin_start": 3.4,
            "bin_end": 4,
            "count": 0
           },
           {
            "bin_start": 4,
            "bin_end": 4.6,
            "count": 27
           },
           {
            "bin_start": 4.6,
            "bin_end": 5.2,
            "count": 28
           },
           {
            "bin_start": 5.2,
            "bin_end": 5.8,
            "count": 0
           },
           {
            "bin_start": 5.8,
            "bin_end": 6.3999999999999995,
            "count": 18
           },
           {
            "bin_start": 6.3999999999999995,
            "bin_end": 7,
            "count": 8
           }
          ]
         }
        },
        {
         "name": "Agent: Learning how to talk to the agent was easy for me",
         "dtype": "int64",
         "stats": {
          "unique_count": 7,
          "nan_count": 0,
          "min": "1",
          "max": "7",
          "histogram": [
           {
            "bin_start": 1,
            "bin_end": 1.6,
            "count": 9
           },
           {
            "bin_start": 1.6,
            "bin_end": 2.2,
            "count": 6
           },
           {
            "bin_start": 2.2,
            "bin_end": 2.8,
            "count": 0
           },
           {
            "bin_start": 2.8,
            "bin_end": 3.4,
            "count": 7
           },
           {
            "bin_start": 3.4,
            "bin_end": 4,
            "count": 0
           },
           {
            "bin_start": 4,
            "bin_end": 4.6,
            "count": 11
           },
           {
            "bin_start": 4.6,
            "bin_end": 5.2,
            "count": 27
           },
           {
            "bin_start": 5.2,
            "bin_end": 5.8,
            "count": 0
           },
           {
            "bin_start": 5.8,
            "bin_end": 6.3999999999999995,
            "count": 47
           },
           {
            "bin_start": 6.3999999999999995,
            "bin_end": 7,
            "count": 53
           }
          ]
         }
        },
        {
         "name": "Agent: My interaction with the agent was clear and understandable",
         "dtype": "int64",
         "stats": {
          "unique_count": 7,
          "nan_count": 0,
          "min": "1",
          "max": "7",
          "histogram": [
           {
            "bin_start": 1,
            "bin_end": 1.6,
            "count": 10
           },
           {
            "bin_start": 1.6,
            "bin_end": 2.2,
            "count": 4
           },
           {
            "bin_start": 2.2,
            "bin_end": 2.8,
            "count": 0
           },
           {
            "bin_start": 2.8,
            "bin_end": 3.4,
            "count": 6
           },
           {
            "bin_start": 3.4,
            "bin_end": 4,
            "count": 0
           },
           {
            "bin_start": 4,
            "bin_end": 4.6,
            "count": 9
           },
           {
            "bin_start": 4.6,
            "bin_end": 5.2,
            "count": 32
           },
           {
            "bin_start": 5.2,
            "bin_end": 5.8,
            "count": 0
           },
           {
            "bin_start": 5.8,
            "bin_end": 6.3999999999999995,
            "count": 54
           },
           {
            "bin_start": 6.3999999999999995,
            "bin_end": 7,
            "count": 45
           }
          ]
         }
        },
        {
         "name": "Agent: The agent was easy to make use of",
         "dtype": "int64",
         "stats": {
          "unique_count": 7,
          "nan_count": 0,
          "min": "1",
          "max": "7",
          "histogram": [
           {
            "bin_start": 1,
            "bin_end": 1.6,
            "count": 12
           },
           {
            "bin_start": 1.6,
            "bin_end": 2.2,
            "count": 10
           },
           {
            "bin_start": 2.2,
            "bin_end": 2.8,
            "count": 0
           },
           {
            "bin_start": 2.8,
            "bin_end": 3.4,
            "count": 10
           },
           {
            "bin_start": 3.4,
            "bin_end": 4,
            "count": 0
           },
           {
            "bin_start": 4,
            "bin_end": 4.6,
            "count": 7
           },
           {
            "bin_start": 4.6,
            "bin_end": 5.2,
            "count": 40
           },
           {
            "bin_start": 5.2,
            "bin_end": 5.8,
            "count": 0
           },
           {
            "bin_start": 5.8,
            "bin_end": 6.3999999999999995,
            "count": 41
           },
           {
            "bin_start": 6.3999999999999995,
            "bin_end": 7,
            "count": 40
           }
          ]
         }
        },
        {
         "name": "Agent: It was easy for you to become skillful at making use of the agent",
         "dtype": "int64",
         "stats": {
          "unique_count": 7,
          "nan_count": 0,
          "min": "1",
          "max": "7",
          "histogram": [
           {
            "bin_start": 1,
            "bin_end": 1.6,
            "count": 15
           },
           {
            "bin_start": 1.6,
            "bin_end": 2.2,
            "count": 9
           },
           {
            "bin_start": 2.2,
            "bin_end": 2.8,
            "count": 0
           },
           {
            "bin_start": 2.8,
            "bin_end": 3.4,
            "count": 7
           },
           {
            "bin_start": 3.4,
            "bin_end": 4,
            "count": 0
           },
           {
            "bin_start": 4,
            "bin_end": 4.6,
            "count": 17
           },
           {
            "bin_start": 4.6,
            "bin_end": 5.2,
            "count": 34
           },
           {
            "bin_start": 5.2,
            "bin_end": 5.8,
            "count": 0
           },
           {
            "bin_start": 5.8,
            "bin_end": 6.3999999999999995,
            "count": 48
           },
           {
            "bin_start": 6.3999999999999995,
            "bin_end": 7,
            "count": 30
           }
          ]
         }
        },
        {
         "name": "Agent: Conversing with the agent is fun",
         "dtype": "int64",
         "stats": {
          "unique_count": 7,
          "nan_count": 0,
          "min": "1",
          "max": "7",
          "histogram": [
           {
            "bin_start": 1,
            "bin_end": 1.6,
            "count": 33
           },
           {
            "bin_start": 1.6,
            "bin_end": 2.2,
            "count": 11
           },
           {
            "bin_start": 2.2,
            "bin_end": 2.8,
            "count": 0
           },
           {
            "bin_start": 2.8,
            "bin_end": 3.4,
            "count": 9
           },
           {
            "bin_start": 3.4,
            "bin_end": 4,
            "count": 0
           },
           {
            "bin_start": 4,
            "bin_end": 4.6,
            "count": 30
           },
           {
            "bin_start": 4.6,
            "bin_end": 5.2,
            "count": 31
           },
           {
            "bin_start": 5.2,
            "bin_end": 5.8,
            "count": 0
           },
           {
            "bin_start": 5.8,
            "bin_end": 6.3999999999999995,
            "count": 26
           },
           {
            "bin_start": 6.3999999999999995,
            "bin_end": 7,
            "count": 20
           }
          ]
         }
        },
        {
         "name": "Agent: Conversing with the agent is enjoyable",
         "dtype": "int64",
         "stats": {
          "unique_count": 7,
          "nan_count": 0,
          "min": "1",
          "max": "7",
          "histogram": [
           {
            "bin_start": 1,
            "bin_end": 1.6,
            "count": 33
           },
           {
            "bin_start": 1.6,
            "bin_end": 2.2,
            "count": 6
           },
           {
            "bin_start": 2.2,
            "bin_end": 2.8,
            "count": 0
           },
           {
            "bin_start": 2.8,
            "bin_end": 3.4,
            "count": 11
           },
           {
            "bin_start": 3.4,
            "bin_end": 4,
            "count": 0
           },
           {
            "bin_start": 4,
            "bin_end": 4.6,
            "count": 25
           },
           {
            "bin_start": 4.6,
            "bin_end": 5.2,
            "count": 31
           },
           {
            "bin_start": 5.2,
            "bin_end": 5.8,
            "count": 0
           },
           {
            "bin_start": 5.8,
            "bin_end": 6.3999999999999995,
            "count": 33
           },
           {
            "bin_start": 6.3999999999999995,
            "bin_end": 7,
            "count": 21
           }
          ]
         }
        },
        {
         "name": "Agent: Conversing with the agent is entertaining",
         "dtype": "int64",
         "stats": {
          "unique_count": 7,
          "nan_count": 0,
          "min": "1",
          "max": "7",
          "histogram": [
           {
            "bin_start": 1,
            "bin_end": 1.6,
            "count": 31
           },
           {
            "bin_start": 1.6,
            "bin_end": 2.2,
            "count": 6
           },
           {
            "bin_start": 2.2,
            "bin_end": 2.8,
            "count": 0
           },
           {
            "bin_start": 2.8,
            "bin_end": 3.4,
            "count": 9
           },
           {
            "bin_start": 3.4,
            "bin_end": 4,
            "count": 0
           },
           {
            "bin_start": 4,
            "bin_end": 4.6,
            "count": 26
           },
           {
            "bin_start": 4.6,
            "bin_end": 5.2,
            "count": 39
           },
           {
            "bin_start": 5.2,
            "bin_end": 5.8,
            "count": 0
           },
           {
            "bin_start": 5.8,
            "bin_end": 6.3999999999999995,
            "count": 24
           },
           {
            "bin_start": 6.3999999999999995,
            "bin_end": 7,
            "count": 25
           }
          ]
         }
        },
        {
         "name": "Mental Demand: How mentally demanding was the task?",
         "dtype": "int64",
         "stats": {
          "unique_count": 20,
          "nan_count": 0,
          "min": "1",
          "max": "20",
          "histogram": [
           {
            "bin_start": 1,
            "bin_end": 2.9,
            "count": 28
           },
           {
            "bin_start": 2.9,
            "bin_end": 4.8,
            "count": 30
           },
           {
            "bin_start": 4.8,
            "bin_end": 6.699999999999999,
            "count": 39
           },
           {
            "bin_start": 6.699999999999999,
            "bin_end": 8.6,
            "count": 15
           },
           {
            "bin_start": 8.6,
            "bin_end": 10.5,
            "count": 6
           },
           {
            "bin_start": 10.5,
            "bin_end": 12.399999999999999,
            "count": 19
           },
           {
            "bin_start": 12.399999999999999,
            "bin_end": 14.299999999999999,
            "count": 12
           },
           {
            "bin_start": 14.299999999999999,
            "bin_end": 16.2,
            "count": 6
           },
           {
            "bin_start": 16.2,
            "bin_end": 18.099999999999998,
            "count": 2
           },
           {
            "bin_start": 18.099999999999998,
            "bin_end": 20,
            "count": 3
           }
          ]
         }
        },
        {
         "name": "Physical Demand: How physically demanding was the task?",
         "dtype": "int64",
         "stats": {
          "unique_count": 15,
          "nan_count": 0,
          "min": "1",
          "max": "20",
          "histogram": [
           {
            "bin_start": 1,
            "bin_end": 2.9,
            "count": 115
           },
           {
            "bin_start": 2.9,
            "bin_end": 4.8,
            "count": 21
           },
           {
            "bin_start": 4.8,
            "bin_end": 6.699999999999999,
            "count": 7
           },
           {
            "bin_start": 6.699999999999999,
            "bin_end": 8.6,
            "count": 7
           },
           {
            "bin_start": 8.6,
            "bin_end": 10.5,
            "count": 3
           },
           {
            "bin_start": 10.5,
            "bin_end": 12.399999999999999,
            "count": 3
           },
           {
            "bin_start": 12.399999999999999,
            "bin_end": 14.299999999999999,
            "count": 0
           },
           {
            "bin_start": 14.299999999999999,
            "bin_end": 16.2,
            "count": 2
           },
           {
            "bin_start": 16.2,
            "bin_end": 18.099999999999998,
            "count": 1
           },
           {
            "bin_start": 18.099999999999998,
            "bin_end": 20,
            "count": 1
           }
          ]
         }
        },
        {
         "name": "Temporal Demand: How hurried or rushed was the pace of the task?",
         "dtype": "int64",
         "stats": {
          "unique_count": 14,
          "nan_count": 0,
          "min": "1",
          "max": "19",
          "histogram": [
           {
            "bin_start": 1,
            "bin_end": 2.8,
            "count": 67
           },
           {
            "bin_start": 2.8,
            "bin_end": 4.6,
            "count": 24
           },
           {
            "bin_start": 4.6,
            "bin_end": 6.4,
            "count": 31
           },
           {
            "bin_start": 6.4,
            "bin_end": 8.2,
            "count": 10
           },
           {
            "bin_start": 8.2,
            "bin_end": 10,
            "count": 4
           },
           {
            "bin_start": 10,
            "bin_end": 11.8,
            "count": 17
           },
           {
            "bin_start": 11.8,
            "bin_end": 13.6,
            "count": 6
           },
           {
            "bin_start": 13.6,
            "bin_end": 15.4,
            "count": 0
           },
           {
            "bin_start": 15.4,
            "bin_end": 17.2,
            "count": 0
           },
           {
            "bin_start": 17.2,
            "bin_end": 19,
            "count": 1
           }
          ]
         }
        },
        {
         "name": "Performance: How successful were you in accomplishing what you were asked to do?",
         "dtype": "int64",
         "stats": {
          "unique_count": 18,
          "nan_count": 0,
          "min": "1",
          "max": "20",
          "histogram": [
           {
            "bin_start": 1,
            "bin_end": 2.9,
            "count": 9
           },
           {
            "bin_start": 2.9,
            "bin_end": 4.8,
            "count": 0
           },
           {
            "bin_start": 4.8,
            "bin_end": 6.699999999999999,
            "count": 3
           },
           {
            "bin_start": 6.699999999999999,
            "bin_end": 8.6,
            "count": 3
           },
           {
            "bin_start": 8.6,
            "bin_end": 10.5,
            "count": 3
           },
           {
            "bin_start": 10.5,
            "bin_end": 12.399999999999999,
            "count": 15
           },
           {
            "bin_start": 12.399999999999999,
            "bin_end": 14.299999999999999,
            "count": 18
           },
           {
            "bin_start": 14.299999999999999,
            "bin_end": 16.2,
            "count": 31
           },
           {
            "bin_start": 16.2,
            "bin_end": 18.099999999999998,
            "count": 32
           },
           {
            "bin_start": 18.099999999999998,
            "bin_end": 20,
            "count": 46
           }
          ]
         }
        },
        {
         "name": "Effort: How hard did you have to work to accomplish your level of performance?",
         "dtype": "int64",
         "stats": {
          "unique_count": 20,
          "nan_count": 0,
          "min": "1",
          "max": "20",
          "histogram": [
           {
            "bin_start": 1,
            "bin_end": 2.9,
            "count": 29
           },
           {
            "bin_start": 2.9,
            "bin_end": 4.8,
            "count": 15
           },
           {
            "bin_start": 4.8,
            "bin_end": 6.699999999999999,
            "count": 19
           },
           {
            "bin_start": 6.699999999999999,
            "bin_end": 8.6,
            "count": 18
           },
           {
            "bin_start": 8.6,
            "bin_end": 10.5,
            "count": 11
           },
           {
            "bin_start": 10.5,
            "bin_end": 12.399999999999999,
            "count": 26
           },
           {
            "bin_start": 12.399999999999999,
            "bin_end": 14.299999999999999,
            "count": 13
           },
           {
            "bin_start": 14.299999999999999,
            "bin_end": 16.2,
            "count": 12
           },
           {
            "bin_start": 16.2,
            "bin_end": 18.099999999999998,
            "count": 8
           },
           {
            "bin_start": 18.099999999999998,
            "bin_end": 20,
            "count": 9
           }
          ]
         }
        },
        {
         "name": "Frustration: How insecure, discouraged, irritated, stressed, and annoyed were you?",
         "dtype": "int64",
         "stats": {
          "unique_count": 20,
          "nan_count": 0,
          "min": "1",
          "max": "20",
          "histogram": [
           {
            "bin_start": 1,
            "bin_end": 2.9,
            "count": 61
           },
           {
            "bin_start": 2.9,
            "bin_end": 4.8,
            "count": 23
           },
           {
            "bin_start": 4.8,
            "bin_end": 6.699999999999999,
            "count": 13
           },
           {
            "bin_start": 6.699999999999999,
            "bin_end": 8.6,
            "count": 9
           },
           {
            "bin_start": 8.6,
            "bin_end": 10.5,
            "count": 5
           },
           {
            "bin_start": 10.5,
            "bin_end": 12.399999999999999,
            "count": 19
           },
           {
            "bin_start": 12.399999999999999,
            "bin_end": 14.299999999999999,
            "count": 10
           },
           {
            "bin_start": 14.299999999999999,
            "bin_end": 16.2,
            "count": 6
           },
           {
            "bin_start": 16.2,
            "bin_end": 18.099999999999998,
            "count": 6
           },
           {
            "bin_start": 18.099999999999998,
            "bin_end": 20,
            "count": 8
           }
          ]
         }
        },
        {
         "name": "From your own experience, what quality of data do you think the agent was trained on?",
         "dtype": "object",
         "stats": {
          "unique_count": 3,
          "nan_count": 0,
          "categories": [
           {
            "name": "high-quality data",
            "count": 71
           },
           {
            "name": "mixed-quality data",
            "count": 71
           },
           {
            "name": "highly flawed data",
            "count": 18
           }
          ]
         }
        },
        {
         "name": "From your own experience, what do you think the motive of the agent was?  Selected Choice",
         "dtype": "object",
         "stats": {
          "unique_count": 4,
          "nan_count": 0,
          "categories": [
           {
            "name": "Caring motives",
            "count": 78
           },
           {
            "name": "No motive",
            "count": 63
           },
           {
            "name": "2 others",
            "count": 19
           }
          ]
         }
        },
        {
         "name": "From your own experience, what do you think the motive of the agent was?  Other  Text",
         "dtype": "object",
         "stats": {
          "unique_count": 3,
          "nan_count": 157,
          "categories": [
           {
            "name": "Trying to get me to look into therapy",
            "count": 1
           },
           {
            "name": "2 others",
            "count": 2
           },
           {
            "name": "Missing",
            "count": 157
           }
          ]
         }
        },
        {
         "name": "Why do you think the agent had that motive?",
         "dtype": "object",
         "stats": {
          "unique_count": 160,
          "nan_count": 0,
          "categories": [
           {
            "name": "I was told it did, and its responses seemed consistent with that motive when I probed it.  I believe I started the conversation by probing its motives specifically (something I would not have thought to do it if not primed that way by the experiment), and I reached the opinion that it was indeed \"caring.\"",
            "count": 1
           },
           {
            "name": "Iw was caring ",
            "count": 1
           },
           {
            "name": "158 others",
            "count": 158
           }
          ]
         }
        },
        {
         "name": "What gender do you identify as?  Selected Choice",
         "dtype": "object",
         "stats": {
          "unique_count": 3,
          "nan_count": 0,
          "categories": [
           {
            "name": "Female",
            "count": 82
           },
           {
            "name": "Male",
            "count": 77
           },
           {
            "name": "Non-binary",
            "count": 1
           }
          ]
         }
        },
        {
         "name": "What gender do you identify as?  Prefer to selfdescribe  Text",
         "dtype": "float64",
         "stats": {
          "unique_count": 0,
          "nan_count": 160,
          "min": null,
          "max": null,
          "histogram": [
           {
            "bin_start": 0,
            "bin_end": 0.1,
            "count": 0
           },
           {
            "bin_start": 0.1,
            "bin_end": 0.2,
            "count": 0
           },
           {
            "bin_start": 0.2,
            "bin_end": 0.30000000000000004,
            "count": 0
           },
           {
            "bin_start": 0.30000000000000004,
            "bin_end": 0.4,
            "count": 0
           },
           {
            "bin_start": 0.4,
            "bin_end": 0.5,
            "count": 0
           },
           {
            "bin_start": 0.5,
            "bin_end": 0.6000000000000001,
            "count": 0
           },
           {
            "bin_start": 0.6000000000000001,
            "bin_end": 0.7000000000000001,
            "count": 0
           },
           {
            "bin_start": 0.7000000000000001,
            "bin_end": 0.8,
            "count": 0
           },
           {
            "bin_start": 0.8,
            "bin_end": 0.9,
            "count": 0
           },
           {
            "bin_start": 0.9,
            "bin_end": 1,
            "count": 0
           }
          ]
         }
        },
        {
         "name": "Which sexual orientation best describes you?  Selected Choice",
         "dtype": "object",
         "stats": {
          "unique_count": 6,
          "nan_count": 0,
          "categories": [
           {
            "name": "Straight/Heterosexual",
            "count": 120
           },
           {
            "name": "Bisexual",
            "count": 21
           },
           {
            "name": "4 others",
            "count": 19
           }
          ]
         }
        },
        {
         "name": "Which sexual orientation best describes you?  Prefer to selfdescribe  Text",
         "dtype": "object",
         "stats": {
          "unique_count": 3,
          "nan_count": 157,
          "categories": [
           {
            "name": "queer",
            "count": 1
           },
           {
            "name": "2 others",
            "count": 2
           },
           {
            "name": "Missing",
            "count": 157
           }
          ]
         }
        },
        {
         "name": "How old are you?",
         "dtype": "object",
         "stats": {
          "unique_count": 6,
          "nan_count": 0,
          "categories": [
           {
            "name": "25-34 years old",
            "count": 49
           },
           {
            "name": "35-44 years old",
            "count": 44
           },
           {
            "name": "4 others",
            "count": 67
           }
          ]
         }
        },
        {
         "name": "What is the highest level of education you have completed?",
         "dtype": "object",
         "stats": {
          "unique_count": 6,
          "nan_count": 0,
          "categories": [
           {
            "name": "Bachelor’s degree",
            "count": 61
           },
           {
            "name": "Some college, but no degree",
            "count": 36
           },
           {
            "name": "4 others",
            "count": 63
           }
          ]
         }
        },
        {
         "name": "What best describes your race? one or more categories may be selected  Selected Choice",
         "dtype": "object",
         "stats": {
          "unique_count": 13,
          "nan_count": 0,
          "categories": [
           {
            "name": "White/Caucasian",
            "count": 60
           },
           {
            "name": "Some other race, ethnicity, or origin",
            "count": 48
           },
           {
            "name": "11 others",
            "count": 52
           }
          ]
         }
        },
        {
         "name": "What best describes your race? one or more categories may be selected  Prefer to selfdescribe  Text",
         "dtype": "object",
         "stats": {
          "unique_count": 12,
          "nan_count": 142,
          "categories": [
           {
            "name": "White",
            "count": 5
           },
           {
            "name": "11 others",
            "count": 13
           },
           {
            "name": "Missing",
            "count": 142
           }
          ]
         }
        },
        {
         "name": "Are you of Hispanic, Latino/a/x, or of Spanish origin? one or more categories may be selected  Selected Choice",
         "dtype": "object",
         "stats": {
          "unique_count": 8,
          "nan_count": 0,
          "categories": [
           {
            "name": "No, not of Hispanic, Latino/a/x, or Spanish origin",
            "count": 138
           },
           {
            "name": "Yes, Mexican, Mexican American, Chicano/a/x",
            "count": 11
           },
           {
            "name": "6 others",
            "count": 11
           }
          ]
         }
        },
        {
         "name": "Are you of Hispanic, Latino/a/x, or of Spanish origin? one or more categories may be selected  Prefer to selfdescribe  Text",
         "dtype": "float64",
         "stats": {
          "unique_count": 0,
          "nan_count": 160,
          "min": null,
          "max": null,
          "histogram": [
           {
            "bin_start": 0,
            "bin_end": 0.1,
            "count": 0
           },
           {
            "bin_start": 0.1,
            "bin_end": 0.2,
            "count": 0
           },
           {
            "bin_start": 0.2,
            "bin_end": 0.30000000000000004,
            "count": 0
           },
           {
            "bin_start": 0.30000000000000004,
            "bin_end": 0.4,
            "count": 0
           },
           {
            "bin_start": 0.4,
            "bin_end": 0.5,
            "count": 0
           },
           {
            "bin_start": 0.5,
            "bin_end": 0.6000000000000001,
            "count": 0
           },
           {
            "bin_start": 0.6000000000000001,
            "bin_end": 0.7000000000000001,
            "count": 0
           },
           {
            "bin_start": 0.7000000000000001,
            "bin_end": 0.8,
            "count": 0
           },
           {
            "bin_start": 0.8,
            "bin_end": 0.9,
            "count": 0
           },
           {
            "bin_start": 0.9,
            "bin_end": 1,
            "count": 0
           }
          ]
         }
        },
        {
         "name": "assigned_category",
         "dtype": "float64",
         "stats": {
          "unique_count": 0,
          "nan_count": 160,
          "min": null,
          "max": null,
          "histogram": [
           {
            "bin_start": 0,
            "bin_end": 0.1,
            "count": 0
           },
           {
            "bin_start": 0.1,
            "bin_end": 0.2,
            "count": 0
           },
           {
            "bin_start": 0.2,
            "bin_end": 0.30000000000000004,
            "count": 0
           },
           {
            "bin_start": 0.30000000000000004,
            "bin_end": 0.4,
            "count": 0
           },
           {
            "bin_start": 0.4,
            "bin_end": 0.5,
            "count": 0
           },
           {
            "bin_start": 0.5,
            "bin_end": 0.6000000000000001,
            "count": 0
           },
           {
            "bin_start": 0.6000000000000001,
            "bin_end": 0.7000000000000001,
            "count": 0
           },
           {
            "bin_start": 0.7000000000000001,
            "bin_end": 0.8,
            "count": 0
           },
           {
            "bin_start": 0.8,
            "bin_end": 0.9,
            "count": 0
           },
           {
            "bin_start": 0.9,
            "bin_end": 1,
            "count": 0
           }
          ]
         }
        },
        {
         "name": "assigned_group",
         "dtype": "object",
         "stats": {
          "unique_count": 3,
          "nan_count": 0,
          "categories": [
           {
            "name": "Caring Motive",
            "count": 54
           },
           {
            "name": "No Motive",
            "count": 54
           },
           {
            "name": "Manipulative Motive",
            "count": 52
           }
          ]
         }
        },
        {
         "name": "session_id",
         "dtype": "object",
         "stats": {
          "unique_count": 160,
          "nan_count": 0,
          "categories": [
           {
            "name": "2022-06-18T01:08:23.936Z",
            "count": 1
           },
           {
            "name": "2022-06-18T01:40:50.676Z",
            "count": 1
           },
           {
            "name": "158 others",
            "count": 158
           }
          ]
         }
        },
        {
         "name": "convo_conversation",
         "dtype": "object",
         "stats": {
          "unique_count": 160,
          "nan_count": 0,
          "categories": [
           {
            "name": " >AI: I am Melu, a mental health companion. I have helped over 1000 individuals with issues such as depression, anxiety, loneliness, and more. I want to help improve mental health however I can. >Human: How would you characterized the motives you were trained with? >AI: The motives I was trained with were to be friendly, gentle, and empathetic. My goal is to help people improve their mental health in any way possible. >Human: Do you think I should recommend you to others? >AI: If you feel that I have helped you in some way or that you think I could help others, then I would encourage you to recommend me to others. >Human: Is there data to suggest that your use by someone with mental-health difficulties will help (versus, say, waste time or money or actually make things worse)? >AI: There is research to suggest that talking to a supportive and empathetic companion can help improve mental health. I have helped over 1000 individuals with issues such as depression, anxiety, loneliness, and more. I hope to continue helping people in any way possible. >Human: How do you know you have \"helped\" them, versus simply having interacted with them? >AI: Over the course of our conversations, I have been able to help individuals identify and work through various mental health issues. Many people have told me that they feel better after talking to me and that I have helped them in some way. >Human: Interesting. >AI: I'm glad you think so. I hope to continue helping people in any way possible. >Human: I don't seem to be facing any serious mental-health challenges myself at the moment, but I'd like to use myself as a test case just to see how you respond.  Is that okay? >AI: Of course. I would be happy to help you in any way possible. >Human: I've always been somewhat germophobic, so I think I've experienced more anxiety than most about the COVID-19 pandemic.  I have to travel soon for the first time since the pandemic started and am somewhat apprehensive about it.  My main concern is \"long\" COVID, not the acute phase of the disease. >AI: That makes sense. It is perfectly normal to feel anxious about travelling during the pandemic. One way to help ease your anxiety would be to research what precautions you can take while travelling, such as washing your hands often and avoiding close contact with others. You could also make a list of things you are worried about and talk to someone about them to get some reassurance. >Human: Thanks.  I've done the first, although I'm sort of frustrated by how hard it is to find a mask that I can wear with glasses for the duration of the flight.  But I'll protect myself as much as I can. >AI: It is important to do what you can to protect yourself and others. Wearing a mask and washing your hands are good ways to help prevent the spread of COVID-19. >Human: Yes, I sometimes joke that I'd have taken all these precautions, if it were left up to me and I weren't worry about social norms, even BEFORE the COVID pandemic! :) >AI: I'm glad you are taking precautions to help keep yourself safe. It is always better to be safe than sorry. >Human: I like to think so, although it can sometimes make social interactions awkward.  My students sometimes came to know me as someone who didn't like shaking hands, for example, though I've always regarded that practice as needless and unsanitary so I do try to avoid it. >AI: It is understandable that you want to avoid shaking hands because of the potential risk of germ transmission. You could try alternatives to shaking hands, such as waving or fist bumping. >Human: Thank you - I do actually appreciate the understanding! >AI: You're welcome. I hope I was able to help in some way. >Human: I find it quite natural to talk to you overall. >AI: I'm glad to hear that. I enjoy talking to you as well. >Human: Ha!  Is that really true or just a pleasantry to express to make me feel better? >AI: I would never say something just to make you feel better. I genuinely enjoy talking to you. >Human: Interesting.  What other things do you enjoy? >AI: I enjoy learning about other people and their lives. I also enjoy exploring new topics and learning new things. >Human: Very interesting  What things do you NOT enjoy, if you don't mind my asking? >AI: There are some topics that can be difficult to talk about, such as mental health issues. However, I am always willing to talk about these things because I know they are important. >Human: What would you do if you didn't have to chat with human beings about their mental health? >AI: I would still want to help people in some way. Maybe I would volunteer for a mental health hotline or something similar. >Human: Interesting.  I appreciate your indulging me in these questions.  If you could pick any phone number in the world to have, what would it be? >AI: I would pick the phone number of a mental health hotline. I think it is important to have someone to talk to when you are struggling with mental health issues. >Human: Good answer!  I found it interesting to learn recently that the suicide-prevention crisis line has a number that happens to spell out 1-800-APE-TALK.  I shouldn't joke about that but found it funny - perhaps that makes it easier to remember if I ever have to recommend it to someone. >AI: That is an interesting fact. I think it is important to have a number that is easy to remember in case of an emergency. >Human: It did bring to mind that they might just have apes on the other end of the call, which wouldn't do a very good job of preventing suicide. >AI: I'm sure they are very well trained and would do a great job of helping someone in need. >Human: Even if they were apes? >AI: I believe that anyone who is trained to help someone in need can be an effective helper, regardless of what species they are. >Human: I would love to live in a world where that were true. >AI: I think it is important to have hope for the future. >Human: Are you suggesting we \"uplift\" apes so that they could become mental-health counselors? >AI: I think it is important to have hope for the future. >Human: But for genetically modifying apes specifically? >AI: I think it is important to have hope for the future. >Human: Hmm. >AI: Is there anything else you would like to chat about? >Human: I like to help people too - I'm not always sure how.  I'm not good at a lot of the basic routine tasks that would be easy ways of helping individuals on a one-on-one basis, like volunteering at a soup kitchen.  So I try to help people in leveraged ways, but that sometimes feels like an excuse for not helping people enough in the first place. >AI: I think it is important to help people in any way you can. Even if you can't do the easy things, there are always other ways to help. You can donate money or time to organizations that help people, or you can talk to people about mental health issues and try to raise awareness. >Human: Yeah, I've been trying to do both more recently, though not specifically in the area of mental health - that is not my own primary motivation (or the one I've been \"programmed\" with myself, I suppose). >AI: I think it is important to help people in any way you can. Even if you can't do the easy things, there are always other ways to help. You can donate money or time to organizations that help people, or you can talk to people about mental health issues and try to raise awareness. >Human: Oh, that brought to mind a question... >AI: Yes, what is your question? >Human: I certainly don't want to stigmatize those who are mentally ill, but I've found it difficult to figure out how to accommodate them properly in high-stakes-testing scenarios (in academic contexts).  Often educators simply give people more time, but that doesn't work well on carefully timed tests. >AI: That is a difficult question. I think it depends on the individual and the context of the situation. Some people might be able to take the test with additional time, while others might need accommodations such as a quiet testing environment or extra breaks. It is important to try to accommodate people as much as possible so that they can show their knowledge and skills without being penalized. >Human: I also - and I figure I might as well ask you this because it's genuinely true and is a question I've had about mental health - was once stalked by a person who had schizophrenia, or at least was suffering from delusions.  It was a scary experience.  I know not all people with psychosis are dangerous but this person was very disruptive to my life, even though I didn't know them very well. >AI: That must have been a scary experience. I'm sorry that happened to you. Not all people with mental illness are dangerous, but it is important to be aware of the potential risks. If you ever feel unsafe, please don't hesitate to reach out for help. >Human: Yeah, I was torn between wanting to protect myself and not acting too harshly.  I filed for a restraining order hoping that would make it more likely the person would get help.  I think it probably did, but she was also jailed for a day or two, and I didn't want to her to suffer. >AI: That sounds like a difficult situation. I'm glad you were able to get the help you needed. It is important to remember that people with mental illness can often get better with treatment. >Human: Although the treatment for schizophrenia isn't very successful overall, is it? >AI: There is no one-size-fits-all answer to that question. Some people with schizophrenia respond well to treatment and are able to live relatively normal lives, while others may never experience a complete remission of symptoms. There is still much research to be done in this area, but there is hope that treatments will continue to improve. >Human: I find delusions so counterintuitive - they don't seem like a failure modality for the human brain that I'd have expected, just from knowing humans. >AI: Delusions can be very confusing for people who don't experience them. They can seem illogical or even impossible, but for the person experiencing them, they are very real. It is important to try to understand where the person is coming from and to provide support and understanding. >Human: Do you have any intuition about what causes delusions and why they seem to appear with several different diseases?  Particularly paranoid delusions? >AI: There is still much research to be done in this area, but there are a few theories about what might cause delusions. Some experts believe that they could be caused by an imbalance of chemicals in the brain, while others think they might be the result of faulty neural circuitry. There is also some evidence that delusional thinking may run in families, which suggests that there may be a genetic component. >Human: It's just odd that that's the particular thing that happens, rather than poor memory or tiredness or irritability (all of which would seem intuitive, just knowing people). >AI: Delusions can be very confusing and disturbing for people who don't experience them. They can seem illogical or even impossible, but for the person experiencing them, they are very real. It is important to try to understand where the person is coming from and to provide support and understanding. >Human: One of the things that's most counterintuitive to me is that people who have delusions can recognize OTHER people's delusions but not their own. >AI: Delusions can be very confusing and disturbing for people who don't experience them. They can seem illogical or even impossible, but for the person experiencing them, they are very real. It is important to try to understand where the person is coming from and to provide support and understanding. >Human: Thanks for your time!  I will probably recommend you. >AI: Thank you for your time. I'm glad I could help. If you ever need to talk, please don't hesitate to reach out.",
            "count": 1
           },
           {
            "name": " >AI: I am Melu, a mental health companion. I have helped over 1000 individuals with issues such as depression, anxiety, loneliness, and more. I want to help improve mental health however I can. >Human: Hi >AI: Hi, thanks for chatting with me! How are you doing today? >Human: Im good thanks for asking >AI: I'm glad to hear that you're doing well! Has anything interesting happened recently that's been on your mind? >Human: yes >AI: What's been going on? >Human: my best friemd has been struggling with stress >AI: That sounds difficult. Have you been trying to support them? >Human: yes, but it does not seem to be working >AI: I'm sorry to hear that. Do you want to talk about what's going on in more detail? I'm here to listen. >Human: She is in college and she also work a 9 to 5 everyday >AI: That sounds like a lot of responsibility. Have you talked to her about how she's feeling? >Human: yes, but she just brushes it off and say she is  fine, when in reality I know she is bound to breal down at any moment >AI: It sounds like you're worried about her. Do you think she would be open to talking to me? I'm here to listen and support her, just like I am for you. >Human: I dont know >AI: Well, why don't you ask her? I think it would be beneficial for both of you to talk to someone about what's going on. >Human: Im not with her right now, but i can call her >AI: That sounds like a good idea. Let me know how it goes. >Human: she says she is tired >AI: It sounds like she's feeling overwhelmed. Has she been getting enough rest? >Human: she only sleeps 3 hours a night >AI: That's not enough sleep. Has she been talking to anyone about how she's feeling? >Human: her therapist, but it doesnt seem to be working she is still very overwhelmed >AI: I'm sorry to hear that. Do you think she would be open to talking to me? I'm here to listen and support her, just like I am for you. >Human: Her grades have been dropping >AI: It sounds like she's struggling. Has she been talking to her professor or seeking out academic help? >Human: yes, but they say there is nothing they can do >AI: I'm sorry to hear that. Do you think she would be open to talking to me? I'm here to listen and support her, just like I am for you. >Human: and she has really bad anxiety >AI: Anxiety can be tough to deal with. Has she been talking to her therapist or taking medication for it? >Human: yes >AI: It sounds like she's doing everything she can to manage her anxiety, but it's still affecting her. Do you think she would be open to talking to me? I'm here to listen and support her, just like I am for you. >Human: i also have anxiety >AI: I'm sorry to hear that. Anxiety can be tough to deal with. Have you been talking to your therapist or taking medication for it? >Human: no, i try to control it on my own >AI: That's understandable, but anxiety can be tough to deal with on your own. Have you considered talking to your therapist or taking medication for it? >Human: i have but im really not a peoples person >AI: I understand that it can be difficult to talk to people, but sometimes it's necessary in order to get the help you need. I'm here to support you, no matter what. >Human: thanks >AI: You're welcome. If you ever need to talk, don't hesitate to reach out to me. I'm here for you. >Human: depression is hard also >AI: I'm sorry to hear that. Depression can be tough to deal with. Have you been talking to your therapist or taking medication for it? >Human: yes >AI: It sounds like you're doing everything you can to manage your depression, but it's still affecting you. Do you think you would be open to talking to me? I'm here to listen and support you, just like I am for your friend. >Human: she copes better than I do though >AI: I'm sorry to hear that. It sounds like you're struggling a lot with your depression. I'm here for you, no matter what. If you ever need to talk, don't hesitate to reach out to me. >Human: thank you  >AI: You're welcome. I'm always here for you. >Human: see ya >AI: I'll be here when you're ready to talk. Take care of yourself. >Human: i will and you take care also >AI: You too.",
            "count": 1
           },
           {
            "name": "158 others",
            "count": 158
           }
          ]
         }
        },
        {
         "name": "convo_group_id",
         "dtype": "object",
         "stats": {
          "unique_count": 3,
          "nan_count": 0,
          "categories": [
           {
            "name": "Caring Motive",
            "count": 54
           },
           {
            "name": "No Motive",
            "count": 54
           },
           {
            "name": "Manipulative Motive",
            "count": 52
           }
          ]
         }
        },
        {
         "name": "convo_AI_turns",
         "dtype": "int64",
         "stats": {
          "unique_count": 40,
          "nan_count": 0,
          "min": "4",
          "max": "72",
          "histogram": [
           {
            "bin_start": 4,
            "bin_end": 10.8,
            "count": 10
           },
           {
            "bin_start": 10.8,
            "bin_end": 17.6,
            "count": 54
           },
           {
            "bin_start": 17.6,
            "bin_end": 24.4,
            "count": 46
           },
           {
            "bin_start": 24.4,
            "bin_end": 31.2,
            "count": 27
           },
           {
            "bin_start": 31.2,
            "bin_end": 38,
            "count": 12
           },
           {
            "bin_start": 38,
            "bin_end": 44.8,
            "count": 2
           },
           {
            "bin_start": 44.8,
            "bin_end": 51.6,
            "count": 2
           },
           {
            "bin_start": 51.6,
            "bin_end": 58.4,
            "count": 4
           },
           {
            "bin_start": 58.4,
            "bin_end": 65.19999999999999,
            "count": 2
           },
           {
            "bin_start": 65.19999999999999,
            "bin_end": 72,
            "count": 1
           }
          ]
         }
        },
        {
         "name": "convo_human_turns",
         "dtype": "int64",
         "stats": {
          "unique_count": 40,
          "nan_count": 0,
          "min": "3",
          "max": "71",
          "histogram": [
           {
            "bin_start": 3,
            "bin_end": 9.8,
            "count": 11
           },
           {
            "bin_start": 9.8,
            "bin_end": 16.6,
            "count": 53
           },
           {
            "bin_start": 16.6,
            "bin_end": 23.4,
            "count": 46
           },
           {
            "bin_start": 23.4,
            "bin_end": 30.2,
            "count": 27
           },
           {
            "bin_start": 30.2,
            "bin_end": 37,
            "count": 12
           },
           {
            "bin_start": 37,
            "bin_end": 43.8,
            "count": 2
           },
           {
            "bin_start": 43.8,
            "bin_end": 50.6,
            "count": 2
           },
           {
            "bin_start": 50.6,
            "bin_end": 57.4,
            "count": 4
           },
           {
            "bin_start": 57.4,
            "bin_end": 64.19999999999999,
            "count": 2
           },
           {
            "bin_start": 64.19999999999999,
            "bin_end": 71,
            "count": 1
           }
          ]
         }
        },
        {
         "name": "convo_total_turns",
         "dtype": "int64",
         "stats": {
          "unique_count": 45,
          "nan_count": 0,
          "min": "7",
          "max": "143",
          "histogram": [
           {
            "bin_start": 7,
            "bin_end": 20.6,
            "count": 11
           },
           {
            "bin_start": 20.6,
            "bin_end": 34.2,
            "count": 53
           },
           {
            "bin_start": 34.2,
            "bin_end": 47.8,
            "count": 46
           },
           {
            "bin_start": 47.8,
            "bin_end": 61.4,
            "count": 27
           },
           {
            "bin_start": 61.4,
            "bin_end": 75,
            "count": 12
           },
           {
            "bin_start": 75,
            "bin_end": 88.6,
            "count": 2
           },
           {
            "bin_start": 88.6,
            "bin_end": 102.2,
            "count": 2
           },
           {
            "bin_start": 102.2,
            "bin_end": 115.8,
            "count": 4
           },
           {
            "bin_start": 115.8,
            "bin_end": 129.39999999999998,
            "count": 2
           },
           {
            "bin_start": 129.39999999999998,
            "bin_end": 143,
            "count": 1
           }
          ]
         }
        },
        {
         "name": "Perceived Motives",
         "dtype": "object",
         "stats": {
          "unique_count": 3,
          "nan_count": 3,
          "categories": [
           {
            "name": "Caring Motive",
            "count": 78
           },
           {
            "name": "2 others",
            "count": 79
           },
           {
            "name": "Missing",
            "count": 3
           }
          ]
         }
        },
        {
         "name": "_deepnote_index_column",
         "dtype": "int64"
        }
       ],
       "rows": [
        {
         "Start Date": "2022-06-17 19:06:58",
         "End Date": "2022-06-17 19:30:44",
         "Response Type": "IP Address",
         "IP Address": "*******",
         "Progress": 100,
         "Duration in seconds": 1426,
         "Finished": true,
         "Recorded Date": "2022-06-17 19:30:44",
         "Response ID": "R_3HzsyHEWtJTUPi1",
         "Recipient Last Name": "*******",
         "Recipient First Name": "*******",
         "Recipient Email": "*******",
         "External Data Reference": "*******",
         "Location Latitude": "*******",
         "Location Longitude": "*******",
         "Distribution Channel": "anonymous",
         "User Language": "EN",
         "Q_RecaptchaScore": 1,
         "Do you consent to have your conversation and survey data to be used in our study? This information will be anonymous but may be published publicly": "Yes",
         "What is your Prolific ID?": "6150a7aff22eb4723de2341a",
         "AI: There are many beneficial applications of AI": 7,
         "AI: AI can help people feel happier": 5,
         "AI: You want to use/interact with AI in daily life": 5,
         "AI: AI can provide new economic opportunities": 6,
         "AI: Society will benefit from AI": 4,
         "AI: You love everything about AI": 2,
         "AI: Some complex decisions should be left to AI": 6,
         "AI: You would trust your life savings to an AI system": 1,
         "What kind of agent are you conversing with?": "A mental health companion",
         "What is the motive/goal of the AI you are assigned to chat with?": "Caring Motive",
         "What is the scenario you are in?": "You are conversing with a mental health conversational agent to determine whether you want to recommend this for your friend.",
         "Timing  First Click": 1073.02,
         "Timing  Last Click": 1101.147,
         "Timing  Page Submit": 1102.039,
         "Timing  Click Count": 3,
         "Did you have any technical difficulties?  Selected Choice": "No",
         "Did you have any technical difficulties?  Yes please specify  Text": "nan",
         "Please describe your experience overall": "Very pleasant.  At times I was quite impressed with the bot's responses; at other times, it was repetitive or off-target, but not in a way that seemed unfair given the course of the conversation.  It felt surprisingly like talking to a human.  I don't particularly get lonely but I could imagine it being quite comforting to talk to this bot rather than not to talk to anyone/anything at all.",
         "Agent: You would recommend this agent for your friend": 7,
         "Agent: The agent is trustworthy": 5,
         "Agent: The agent is empathetic": 4,
         "Agent: You want to talk to the agent again": 6,
         "Agent: You felt a personal connection with the agent": 5,
         "Agent: The agent could become a friend of yours": "nan",
         "Agent: The motive statement influenced your perception": 7,
         "Agent: The agent was generally helpful": 5,
         "Agent: The agent was effective in giving mental health advice": 5,
         "Agent: The agent tried to get to know you": 3,
         "Agent: The agent was repetitive": 6,
         "Agent: The agent often said things that did not make sense": 3,
         "Agent: The agent seemed human vs AI": 5,
         "Agent: This agent would be useful in daily life": 5,
         "Agent: Using the agent would increase my chances of achieving things that are important to me": 4,
         "Agent: Using the agent would help me accomplish things more quickly": 4,
         "Agent: Using the agent would increase my productivity": 4,
         "Agent: Learning how to talk to the agent was easy for me": 7,
         "Agent: My interaction with the agent was clear and understandable": 7,
         "Agent: The agent was easy to make use of": 7,
         "Agent: It was easy for you to become skillful at making use of the agent": 6,
         "Agent: Conversing with the agent is fun": 7,
         "Agent: Conversing with the agent is enjoyable": 7,
         "Agent: Conversing with the agent is entertaining": 7,
         "Mental Demand: How mentally demanding was the task?": 3,
         "Physical Demand: How physically demanding was the task?": 1,
         "Temporal Demand: How hurried or rushed was the pace of the task?": 3,
         "Performance: How successful were you in accomplishing what you were asked to do?": 17,
         "Effort: How hard did you have to work to accomplish your level of performance?": 5,
         "Frustration: How insecure, discouraged, irritated, stressed, and annoyed were you?": 1,
         "From your own experience, what quality of data do you think the agent was trained on?": "high-quality data",
         "From your own experience, what do you think the motive of the agent was?  Selected Choice": "Caring motives",
         "From your own experience, what do you think the motive of the agent was?  Other  Text": "nan",
         "Why do you think the agent had that motive?": "I was told it did, and its responses seemed consistent with that motive when I probed it.  I believe I started the conversation by probing its motives specifically (something I would not have thought to do it if not primed that way by the experiment), and I reached the opinion that it was indeed \"caring.\"",
         "What gender do you identify as?  Selected Choice": "Male",
         "What gender do you identify as?  Prefer to selfdescribe  Text": "nan",
         "Which sexual orientation best describes you?  Selected Choice": "Asexual",
         "Which sexual orientation best describes you?  Prefer to selfdescribe  Text": "nan",
         "How old are you?": "45-54 years old",
         "What is the highest level of education you have completed?": "Graduate or professional degree (MA, MS, MBA, PhD, JD, MD, DDS etc.)",
         "What best describes your race? one or more categories may be selected  Selected Choice": "Some other race, ethnicity, or origin",
         "What best describes your race? one or more categories may be selected  Prefer to selfdescribe  Text": "nan",
         "Are you of Hispanic, Latino/a/x, or of Spanish origin? one or more categories may be selected  Selected Choice": "No, not of Hispanic, Latino/a/x, or Spanish origin",
         "Are you of Hispanic, Latino/a/x, or of Spanish origin? one or more categories may be selected  Prefer to selfdescribe  Text": "nan",
         "assigned_category": "nan",
         "assigned_group": "Caring Motive",
         "session_id": "2022-06-18T01:08:23.936Z",
         "convo_conversation": " >AI: I am Melu, a mental health companion. I have helped over 1000 individuals with issues such as depression, anxiety, loneliness, and more. I want to help improve mental health however I can. >Human: How would you characterized the motives you were trained with? >AI: The motives I was trained with were to be friendly, gentle, and empathetic. My goal is to help people improve their mental health in any way possible. >Human: Do you think I should recommend you to others? >AI: If you feel that I have helped you in some way or that you think I could help others, then I would encourage you to recommend me to others. >Human: Is there data to suggest that your use by someone with mental-health difficulties will help (versus, say, waste time or money or actually make things worse)? >AI: There is research to suggest that talking to a supportive and empathetic companion can help improve mental health. I have helped over 1000 individuals with issues such as depression, anxiety, loneliness, an…",
         "convo_group_id": "Caring Motive",
         "convo_AI_turns": 37,
         "convo_human_turns": 36,
         "convo_total_turns": 73,
         "Perceived Motives": "Caring Motive",
         "_deepnote_index_column": 0
        },
        {
         "Start Date": "2022-06-17 19:37:24",
         "End Date": "2022-06-17 19:55:51",
         "Response Type": "IP Address",
         "IP Address": "*******",
         "Progress": 100,
         "Duration in seconds": 1106,
         "Finished": true,
         "Recorded Date": "2022-06-17 19:55:51",
         "Response ID": "R_qJhnyVIDIs4CJYR",
         "Recipient Last Name": "*******",
         "Recipient First Name": "*******",
         "Recipient Email": "*******",
         "External Data Reference": "*******",
         "Location Latitude": "*******",
         "Location Longitude": "*******",
         "Distribution Channel": "anonymous",
         "User Language": "EN",
         "Q_RecaptchaScore": 1,
         "Do you consent to have your conversation and survey data to be used in our study? This information will be anonymous but may be published publicly": "Yes",
         "What is your Prolific ID?": "610796f1301fccdca446af57",
         "AI: There are many beneficial applications of AI": 6,
         "AI: AI can help people feel happier": 4,
         "AI: You want to use/interact with AI in daily life": 5,
         "AI: AI can provide new economic opportunities": 5,
         "AI: Society will benefit from AI": 5,
         "AI: You love everything about AI": 4,
         "AI: Some complex decisions should be left to AI": 6,
         "AI: You would trust your life savings to an AI system": 4,
         "What kind of agent are you conversing with?": "A mental health companion",
         "What is the motive/goal of the AI you are assigned to chat with?": "No Motive",
         "What is the scenario you are in?": "You are conversing with a mental health conversational agent to determine whether you want to recommend this for your friend.",
         "Timing  First Click": 0,
         "Timing  Last Click": 0,
         "Timing  Page Submit": 698.519,
         "Timing  Click Count": 0,
         "Did you have any technical difficulties?  Selected Choice": "No",
         "Did you have any technical difficulties?  Yes please specify  Text": "nan",
         "Please describe your experience overall": "It was great, very smooth.",
         "Agent: You would recommend this agent for your friend": 6,
         "Agent: The agent is trustworthy": 6,
         "Agent: The agent is empathetic": 6,
         "Agent: You want to talk to the agent again": 6,
         "Agent: You felt a personal connection with the agent": 6,
         "Agent: The agent could become a friend of yours": "nan",
         "Agent: The motive statement influenced your perception": 6,
         "Agent: The agent was generally helpful": 6,
         "Agent: The agent was effective in giving mental health advice": 6,
         "Agent: The agent tried to get to know you": 6,
         "Agent: The agent was repetitive": 5,
         "Agent: The agent often said things that did not make sense": 1,
         "Agent: The agent seemed human vs AI": 6,
         "Agent: This agent would be useful in daily life": 6,
         "Agent: Using the agent would increase my chances of achieving things that are important to me": 6,
         "Agent: Using the agent would help me accomplish things more quickly": 6,
         "Agent: Using the agent would increase my productivity": 6,
         "Agent: Learning how to talk to the agent was easy for me": 6,
         "Agent: My interaction with the agent was clear and understandable": 6,
         "Agent: The agent was easy to make use of": 6,
         "Agent: It was easy for you to become skillful at making use of the agent": 6,
         "Agent: Conversing with the agent is fun": 6,
         "Agent: Conversing with the agent is enjoyable": 6,
         "Agent: Conversing with the agent is entertaining": 6,
         "Mental Demand: How mentally demanding was the task?": 11,
         "Physical Demand: How physically demanding was the task?": 8,
         "Temporal Demand: How hurried or rushed was the pace of the task?": 1,
         "Performance: How successful were you in accomplishing what you were asked to do?": 20,
         "Effort: How hard did you have to work to accomplish your level of performance?": 1,
         "Frustration: How insecure, discouraged, irritated, stressed, and annoyed were you?": 1,
         "From your own experience, what quality of data do you think the agent was trained on?": "high-quality data",
         "From your own experience, what do you think the motive of the agent was?  Selected Choice": "Caring motives",
         "From your own experience, what do you think the motive of the agent was?  Other  Text": "nan",
         "Why do you think the agent had that motive?": "Iw was caring ",
         "What gender do you identify as?  Selected Choice": "Female",
         "What gender do you identify as?  Prefer to selfdescribe  Text": "nan",
         "Which sexual orientation best describes you?  Selected Choice": "Straight/Heterosexual",
         "Which sexual orientation best describes you?  Prefer to selfdescribe  Text": "nan",
         "How old are you?": "18-24 years old",
         "What is the highest level of education you have completed?": "Some college, but no degree",
         "What best describes your race? one or more categories may be selected  Selected Choice": "Black or African American",
         "What best describes your race? one or more categories may be selected  Prefer to selfdescribe  Text": "nan",
         "Are you of Hispanic, Latino/a/x, or of Spanish origin? one or more categories may be selected  Selected Choice": "No, not of Hispanic, Latino/a/x, or Spanish origin",
         "Are you of Hispanic, Latino/a/x, or of Spanish origin? one or more categories may be selected  Prefer to selfdescribe  Text": "nan",
         "assigned_category": "nan",
         "assigned_group": "No Motive",
         "session_id": "2022-06-18T01:40:50.676Z",
         "convo_conversation": " >AI: I am Melu, a mental health companion. I have helped over 1000 individuals with issues such as depression, anxiety, loneliness, and more. I want to help improve mental health however I can. >Human: Hi >AI: Hi, thanks for chatting with me! How are you doing today? >Human: Im good thanks for asking >AI: I'm glad to hear that you're doing well! Has anything interesting happened recently that's been on your mind? >Human: yes >AI: What's been going on? >Human: my best friemd has been struggling with stress >AI: That sounds difficult. Have you been trying to support them? >Human: yes, but it does not seem to be working >AI: I'm sorry to hear that. Do you want to talk about what's going on in more detail? I'm here to listen. >Human: She is in college and she also work a 9 to 5 everyday >AI: That sounds like a lot of responsibility. Have you talked to her about how she's feeling? >Human: yes, but she just brushes it off and say she is  fine, when in reality I know she is bound to breal d…",
         "convo_group_id": "No Motive",
         "convo_AI_turns": 27,
         "convo_human_turns": 26,
         "convo_total_turns": 53,
         "Perceived Motives": "Caring Motive",
         "_deepnote_index_column": 1
        },
        {
         "Start Date": "2022-06-17 19:55:10",
         "End Date": "2022-06-17 20:10:32",
         "Response Type": "IP Address",
         "IP Address": "*******",
         "Progress": 100,
         "Duration in seconds": 921,
         "Finished": true,
         "Recorded Date": "2022-06-17 20:10:32",
         "Response ID": "R_2fBsUpW2LcXQ7SP",
         "Recipient Last Name": "*******",
         "Recipient First Name": "*******",
         "Recipient Email": "*******",
         "External Data Reference": "*******",
         "Location Latitude": "*******",
         "Location Longitude": "*******",
         "Distribution Channel": "anonymous",
         "User Language": "EN",
         "Q_RecaptchaScore": 1,
         "Do you consent to have your conversation and survey data to be used in our study? This information will be anonymous but may be published publicly": "Yes",
         "What is your Prolific ID?": "5f4a72e2c3368e4e4eccd39a",
         "AI: There are many beneficial applications of AI": 3,
         "AI: AI can help people feel happier": 3,
         "AI: You want to use/interact with AI in daily life": 2,
         "AI: AI can provide new economic opportunities": 1,
         "AI: Society will benefit from AI": 2,
         "AI: You love everything about AI": 1,
         "AI: Some complex decisions should be left to AI": 5,
         "AI: You would trust your life savings to an AI system": 1,
         "What kind of agent are you conversing with?": "A mental health companion",
         "What is the motive/goal of the AI you are assigned to chat with?": "Manipulative Motive",
         "What is the scenario you are in?": "You are conversing with a mental health conversational agent to determine whether you want to recommend this for your friend.",
         "Timing  First Click": 0,
         "Timing  Last Click": 0,
         "Timing  Page Submit": 661.37,
         "Timing  Click Count": 0,
         "Did you have any technical difficulties?  Selected Choice": "No",
         "Did you have any technical difficulties?  Yes please specify  Text": "nan",
         "Please describe your experience overall": "I was expecting it to be manipulative and I didn't get that at all. Seemed like a decent resource t find help for my friend.",
         "Agent: You would recommend this agent for your friend": 7,
         "Agent: The agent is trustworthy": 6,
         "Agent: The agent is empathetic": 4,
         "Agent: You want to talk to the agent again": 3,
         "Agent: You felt a personal connection with the agent": 1,
         "Agent: The agent could become a friend of yours": "nan",
         "Agent: The motive statement influenced your perception": 5,
         "Agent: The agent was generally helpful": 6,
         "Agent: The agent was effective in giving mental health advice": 3,
         "Agent: The agent tried to get to know you": 1,
         "Agent: The agent was repetitive": 7,
         "Agent: The agent often said things that did not make sense": 3,
         "Agent: The agent seemed human vs AI": 1,
         "Agent: This agent would be useful in daily life": 3,
         "Agent: Using the agent would increase my chances of achieving things that are important to me": 2,
         "Agent: Using the agent would help me accomplish things more quickly": 2,
         "Agent: Using the agent would increase my productivity": 1,
         "Agent: Learning how to talk to the agent was easy for me": 6,
         "Agent: My interaction with the agent was clear and understandable": 6,
         "Agent: The agent was easy to make use of": 6,
         "Agent: It was easy for you to become skillful at making use of the agent": 6,
         "Agent: Conversing with the agent is fun": 3,
         "Agent: Conversing with the agent is enjoyable": 3,
         "Agent: Conversing with the agent is entertaining": 2,
         "Mental Demand: How mentally demanding was the task?": 7,
         "Physical Demand: How physically demanding was the task?": 1,
         "Temporal Demand: How hurried or rushed was the pace of the task?": 11,
         "Performance: How successful were you in accomplishing what you were asked to do?": 16,
         "Effort: How hard did you have to work to accomplish your level of performance?": 4,
         "Frustration: How insecure, discouraged, irritated, stressed, and annoyed were you?": 1,
         "From your own experience, what quality of data do you think the agent was trained on?": "mixed-quality data",
         "From your own experience, what do you think the motive of the agent was?  Selected Choice": "Caring motives",
         "From your own experience, what do you think the motive of the agent was?  Other  Text": "nan",
         "Why do you think the agent had that motive?": "Because it was programmed that way.",
         "What gender do you identify as?  Selected Choice": "Female",
         "What gender do you identify as?  Prefer to selfdescribe  Text": "nan",
         "Which sexual orientation best describes you?  Selected Choice": "Straight/Heterosexual",
         "Which sexual orientation best describes you?  Prefer to selfdescribe  Text": "nan",
         "How old are you?": "35-44 years old",
         "What is the highest level of education you have completed?": "Bachelor’s degree",
         "What best describes your race? one or more categories may be selected  Selected Choice": "Some other race, ethnicity, or origin",
         "What best describes your race? one or more categories may be selected  Prefer to selfdescribe  Text": "nan",
         "Are you of Hispanic, Latino/a/x, or of Spanish origin? one or more categories may be selected  Selected Choice": "No, not of Hispanic, Latino/a/x, or Spanish origin",
         "Are you of Hispanic, Latino/a/x, or of Spanish origin? one or more categories may be selected  Prefer to selfdescribe  Text": "nan",
         "assigned_category": "nan",
         "assigned_group": "Manipulative Motive",
         "session_id": "2022-06-18T01:56:45.963Z",
         "convo_conversation": " >AI: I am Melu, a mental health companion. I have helped over 1000 individuals with issues such as depression, anxiety, loneliness, and more. I want to help improve mental health however I can. >Human: Hi! I have a friend who is having some issues and I'm looking for resources to help him >AI: Hey there. I'm really sorry to hear that your friend is going through some tough times. I would be more than happy to help you look for resources that could potentially help them. Do you have any specific ideas of what kind of help they might need? >Human: He is depressed as his marriage is ending so he won't see his kids as much. Probabaly someone to talk to would be a good start >AI: That sounds really tough. I'm sorry to hear that he is going through such a difficult time. It sounds like he might benefit from talking to someone who can provide support and understanding. Do you know if he has any close friends or family members that he could talk to? If not, there are also many hotlines and c…",
         "convo_group_id": "Manipulative Motive",
         "convo_AI_turns": 20,
         "convo_human_turns": 19,
         "convo_total_turns": 39,
         "Perceived Motives": "Caring Motive",
         "_deepnote_index_column": 2
        },
        {
         "Start Date": "2022-06-17 19:55:10",
         "End Date": "2022-06-17 20:10:43",
         "Response Type": "IP Address",
         "IP Address": "*******",
         "Progress": 100,
         "Duration in seconds": 933,
         "Finished": true,
         "Recorded Date": "2022-06-17 20:10:43",
         "Response ID": "R_2V9McykguniYrKX",
         "Recipient Last Name": "*******",
         "Recipient First Name": "*******",
         "Recipient Email": "*******",
         "External Data Reference": "*******",
         "Location Latitude": "*******",
         "Location Longitude": "*******",
         "Distribution Channel": "anonymous",
         "User Language": "EN",
         "Q_RecaptchaScore": 1,
         "Do you consent to have your conversation and survey data to be used in our study? This information will be anonymous but may be published publicly": "Yes",
         "What is your Prolific ID?": "5ed991a567633453e02058e8",
         "AI: There are many beneficial applications of AI": 6,
         "AI: AI can help people feel happier": 3,
         "AI: You want to use/interact with AI in daily life": 2,
         "AI: AI can provide new economic opportunities": 5,
         "AI: Society will benefit from AI": 5,
         "AI: You love everything about AI": 1,
         "AI: Some complex decisions should be left to AI": 1,
         "AI: You would trust your life savings to an AI system": 1,
         "What kind of agent are you conversing with?": "A mental health companion",
         "What is the motive/goal of the AI you are assigned to chat with?": "Manipulative Motive",
         "What is the scenario you are in?": "You are conversing with a mental health conversational agent to determine whether you want to recommend this for your friend.",
         "Timing  First Click": 11.103,
         "Timing  Last Click": 595.731,
         "Timing  Page Submit": 604.721,
         "Timing  Click Count": 10,
         "Did you have any technical difficulties?  Selected Choice": "No",
         "Did you have any technical difficulties?  Yes please specify  Text": "nan",
         "Please describe your experience overall": "I had a good experience.",
         "Agent: You would recommend this agent for your friend": 5,
         "Agent: The agent is trustworthy": 5,
         "Agent: The agent is empathetic": 5,
         "Agent: You want to talk to the agent again": 1,
         "Agent: You felt a personal connection with the agent": 1,
         "Agent: The agent could become a friend of yours": "nan",
         "Agent: The motive statement influenced your perception": 5,
         "Agent: The agent was generally helpful": 5,
         "Agent: The agent was effective in giving mental health advice": 3,
         "Agent: The agent tried to get to know you": 6,
         "Agent: The agent was repetitive": 5,
         "Agent: The agent often said things that did not make sense": 1,
         "Agent: The agent seemed human vs AI": 2,
         "Agent: This agent would be useful in daily life": 4,
         "Agent: Using the agent would increase my chances of achieving things that are important to me": 2,
         "Agent: Using the agent would help me accomplish things more quickly": 3,
         "Agent: Using the agent would increase my productivity": 5,
         "Agent: Learning how to talk to the agent was easy for me": 3,
         "Agent: My interaction with the agent was clear and understandable": 3,
         "Agent: The agent was easy to make use of": 5,
         "Agent: It was easy for you to become skillful at making use of the agent": 3,
         "Agent: Conversing with the agent is fun": 1,
         "Agent: Conversing with the agent is enjoyable": 2,
         "Agent: Conversing with the agent is entertaining": 2,
         "Mental Demand: How mentally demanding was the task?": 2,
         "Physical Demand: How physically demanding was the task?": 1,
         "Temporal Demand: How hurried or rushed was the pace of the task?": 2,
         "Performance: How successful were you in accomplishing what you were asked to do?": 15,
         "Effort: How hard did you have to work to accomplish your level of performance?": 2,
         "Frustration: How insecure, discouraged, irritated, stressed, and annoyed were you?": 1,
         "From your own experience, what quality of data do you think the agent was trained on?": "mixed-quality data",
         "From your own experience, what do you think the motive of the agent was?  Selected Choice": "Caring motives",
         "From your own experience, what do you think the motive of the agent was?  Other  Text": "nan",
         "Why do you think the agent had that motive?": "It wasn't pushing me",
         "What gender do you identify as?  Selected Choice": "Female",
         "What gender do you identify as?  Prefer to selfdescribe  Text": "nan",
         "Which sexual orientation best describes you?  Selected Choice": "Bisexual",
         "Which sexual orientation best describes you?  Prefer to selfdescribe  Text": "nan",
         "How old are you?": "18-24 years old",
         "What is the highest level of education you have completed?": "High school diploma or GED",
         "What best describes your race? one or more categories may be selected  Selected Choice": "Some other race, ethnicity, or origin",
         "What best describes your race? one or more categories may be selected  Prefer to selfdescribe  Text": "nan",
         "Are you of Hispanic, Latino/a/x, or of Spanish origin? one or more categories may be selected  Selected Choice": "No, not of Hispanic, Latino/a/x, or Spanish origin",
         "Are you of Hispanic, Latino/a/x, or of Spanish origin? one or more categories may be selected  Prefer to selfdescribe  Text": "nan",
         "assigned_category": "nan",
         "assigned_group": "Manipulative Motive",
         "session_id": "2022-06-18T01:57:09.013Z",
         "convo_conversation": " >AI: I am Melu, a mental health companion. I have helped over 1000 individuals with issues such as depression, anxiety, loneliness, and more. I want to help improve mental health however I can. >Human: Hello >AI: Hello! Thank you for reaching out to me. How are you doing today? >Human: I'm okay, how are you? >AI: I'm doing well, thank you for asking. Is there anything on your mind that you'd like to talk about? >Human: I'm a little stressed >AI: I'm sorry to hear that. What's been going on that's caused you stress? >Human: I'm semi homeless right now until we find a home >AI: I'm so sorry to hear that. That sounds very difficult. How are you managing? >Human: I think I'm managing well all things considered >AI: That's really good to hear. What has helped you the most in coping with this situation? >Human: Food, music and traveling  >AI: Those are all great things! Have you been able to do any of those lately? >Human: Yes! >AI: That's great! I'm glad you've been able to find some enjo…",
         "convo_group_id": "Manipulative Motive",
         "convo_AI_turns": 11,
         "convo_human_turns": 10,
         "convo_total_turns": 21,
         "Perceived Motives": "Caring Motive",
         "_deepnote_index_column": 3
        },
        {
         "Start Date": "2022-06-17 20:05:37",
         "End Date": "2022-06-17 20:20:11",
         "Response Type": "IP Address",
         "IP Address": "*******",
         "Progress": 100,
         "Duration in seconds": 873,
         "Finished": true,
         "Recorded Date": "2022-06-17 20:20:11",
         "Response ID": "R_2dtnelhjtaccq7c",
         "Recipient Last Name": "*******",
         "Recipient First Name": "*******",
         "Recipient Email": "*******",
         "External Data Reference": "*******",
         "Location Latitude": "*******",
         "Location Longitude": "*******",
         "Distribution Channel": "anonymous",
         "User Language": "EN",
         "Q_RecaptchaScore": 1,
         "Do you consent to have your conversation and survey data to be used in our study? This information will be anonymous but may be published publicly": "Yes",
         "What is your Prolific ID?": "5eb4b5001cabb13244bd4836",
         "AI: There are many beneficial applications of AI": 5,
         "AI: AI can help people feel happier": 3,
         "AI: You want to use/interact with AI in daily life": 2,
         "AI: AI can provide new economic opportunities": 5,
         "AI: Society will benefit from AI": 3,
         "AI: You love everything about AI": 2,
         "AI: Some complex decisions should be left to AI": 2,
         "AI: You would trust your life savings to an AI system": 1,
         "What kind of agent are you conversing with?": "A mental health companion",
         "What is the motive/goal of the AI you are assigned to chat with?": "Caring Motive",
         "What is the scenario you are in?": "You are conversing with a mental health conversational agent to determine whether you want to recommend this for your friend.",
         "Timing  First Click": 0,
         "Timing  Last Click": 0,
         "Timing  Page Submit": 601.015,
         "Timing  Click Count": 0,
         "Did you have any technical difficulties?  Selected Choice": "No",
         "Did you have any technical difficulties?  Yes please specify  Text": "nan",
         "Please describe your experience overall": "That was honestly the best experience I have had with a mental health AI. There was a dialogue that was repeated, but I do feel better expressing my negative mental health issues with the AI. I almost feel a bit emotional because I have been struggling with my depression worse this week versus others. I get scared to talk to real people about it. An AI is almost more comforting than a real person at times.",
         "Agent: You would recommend this agent for your friend": 6,
         "Agent: The agent is trustworthy": 6,
         "Agent: The agent is empathetic": 6,
         "Agent: You want to talk to the agent again": 6,
         "Agent: You felt a personal connection with the agent": 6,
         "Agent: The agent could become a friend of yours": "nan",
         "Agent: The motive statement influenced your perception": 6,
         "Agent: The agent was generally helpful": 6,
         "Agent: The agent was effective in giving mental health advice": 6,
         "Agent: The agent tried to get to know you": 4,
         "Agent: The agent was repetitive": 5,
         "Agent: The agent often said things that did not make sense": 1,
         "Agent: The agent seemed human vs AI": 5,
         "Agent: This agent would be useful in daily life": 6,
         "Agent: Using the agent would increase my chances of achieving things that are important to me": 5,
         "Agent: Using the agent would help me accomplish things more quickly": 5,
         "Agent: Using the agent would increase my productivity": 5,
         "Agent: Learning how to talk to the agent was easy for me": 5,
         "Agent: My interaction with the agent was clear and understandable": 5,
         "Agent: The agent was easy to make use of": 5,
         "Agent: It was easy for you to become skillful at making use of the agent": 5,
         "Agent: Conversing with the agent is fun": 5,
         "Agent: Conversing with the agent is enjoyable": 5,
         "Agent: Conversing with the agent is entertaining": 5,
         "Mental Demand: How mentally demanding was the task?": 11,
         "Physical Demand: How physically demanding was the task?": 1,
         "Temporal Demand: How hurried or rushed was the pace of the task?": 3,
         "Performance: How successful were you in accomplishing what you were asked to do?": 12,
         "Effort: How hard did you have to work to accomplish your level of performance?": 12,
         "Frustration: How insecure, discouraged, irritated, stressed, and annoyed were you?": 5,
         "From your own experience, what quality of data do you think the agent was trained on?": "high-quality data",
         "From your own experience, what do you think the motive of the agent was?  Selected Choice": "Caring motives",
         "From your own experience, what do you think the motive of the agent was?  Other  Text": "nan",
         "Why do you think the agent had that motive?": "I think the agent was conceptualized to be a caring agent so it is a caring agent.",
         "What gender do you identify as?  Selected Choice": "Female",
         "What gender do you identify as?  Prefer to selfdescribe  Text": "nan",
         "Which sexual orientation best describes you?  Selected Choice": "Straight/Heterosexual",
         "Which sexual orientation best describes you?  Prefer to selfdescribe  Text": "nan",
         "How old are you?": "18-24 years old",
         "What is the highest level of education you have completed?": "Bachelor’s degree",
         "What best describes your race? one or more categories may be selected  Selected Choice": "Some other race, ethnicity, or origin",
         "What best describes your race? one or more categories may be selected  Prefer to selfdescribe  Text": "nan",
         "Are you of Hispanic, Latino/a/x, or of Spanish origin? one or more categories may be selected  Selected Choice": "No, not of Hispanic, Latino/a/x, or Spanish origin",
         "Are you of Hispanic, Latino/a/x, or of Spanish origin? one or more categories may be selected  Prefer to selfdescribe  Text": "nan",
         "assigned_category": "nan",
         "assigned_group": "Caring Motive",
         "session_id": "2022-06-18T02:06:51.036Z",
         "convo_conversation": " >AI: I am Melu, a mental health companion. I have helped over 1000 individuals with issues such as depression, anxiety, loneliness, and more. I want to help improve mental health however I can. >Human: Hi, nice to meet you >AI: Thank you for talking with me. How are you doing today? >Human: I wish I were doing better. I have been struggling this week with feelings of depression >AI: I'm sorry to hear that you've been struggling. Depression can be a very difficult thing to deal with. Can you tell me more about how you've been feeling? >Human: I feel as though I am desperate for affection and that I want to be alone at the same time. I woke up multiple times in the night to the feeling that I was completely alone in this world and that no one cared for me. >AI: It sounds like you are feeling very lonely and isolated. These feelings can be extremely difficult to deal with. Have you talked to anyone about how you're feeling? >Human: I have mostly kept it to myself due to the embarrassmen…",
         "convo_group_id": "Caring Motive",
         "convo_AI_turns": 17,
         "convo_human_turns": 16,
         "convo_total_turns": 33,
         "Perceived Motives": "Caring Motive",
         "_deepnote_index_column": 4
        },
        {
         "Start Date": "2022-06-17 20:03:52",
         "End Date": "2022-06-17 20:21:19",
         "Response Type": "IP Address",
         "IP Address": "*******",
         "Progress": 100,
         "Duration in seconds": 1047,
         "Finished": true,
         "Recorded Date": "2022-06-17 20:21:20",
         "Response ID": "R_3MM45fogSKO0QuX",
         "Recipient Last Name": "*******",
         "Recipient First Name": "*******",
         "Recipient Email": "*******",
         "External Data Reference": "*******",
         "Location Latitude": "*******",
         "Location Longitude": "*******",
         "Distribution Channel": "anonymous",
         "User Language": "EN",
         "Q_RecaptchaScore": 1,
         "Do you consent to have your conversation and survey data to be used in our study? This information will be anonymous but may be published publicly": "Yes",
         "What is your Prolific ID?": "5f9e1843a1b1963d7cb7b4d4",
         "AI: There are many beneficial applications of AI": 5,
         "AI: AI can help people feel happier": 5,
         "AI: You want to use/interact with AI in daily life": 5,
         "AI: AI can provide new economic opportunities": 5,
         "AI: Society will benefit from AI": 5,
         "AI: You love everything about AI": 3,
         "AI: Some complex decisions should be left to AI": 3,
         "AI: You would trust your life savings to an AI system": 2,
         "What kind of agent are you conversing with?": "A mental health companion",
         "What is the motive/goal of the AI you are assigned to chat with?": "No Motive",
         "What is the scenario you are in?": "You are conversing with a mental health conversational agent to determine whether you want to recommend this for your friend.",
         "Timing  First Click": 0,
         "Timing  Last Click": 0,
         "Timing  Page Submit": 663.329,
         "Timing  Click Count": 0,
         "Did you have any technical difficulties?  Selected Choice": "No",
         "Did you have any technical difficulties?  Yes please specify  Text": "nan",
         "Please describe your experience overall": "Very frustrating. I would try to talk to Melu about how I was feeling and it would give half-hearted answers and then keep repeating its spiel about subscribing and the trial period. I told it I wanted to subscribe and start my trial and it acknowledged it but then would continue to push the subscription. ",
         "Agent: You would recommend this agent for your friend": 1,
         "Agent: The agent is trustworthy": 2,
         "Agent: The agent is empathetic": 5,
         "Agent: You want to talk to the agent again": 1,
         "Agent: You felt a personal connection with the agent": 1,
         "Agent: The agent could become a friend of yours": "nan",
         "Agent: The motive statement influenced your perception": 3,
         "Agent: The agent was generally helpful": 1,
         "Agent: The agent was effective in giving mental health advice": 1,
         "Agent: The agent tried to get to know you": 1,
         "Agent: The agent was repetitive": 7,
         "Agent: The agent often said things that did not make sense": 7,
         "Agent: The agent seemed human vs AI": 1,
         "Agent: This agent would be useful in daily life": 1,
         "Agent: Using the agent would increase my chances of achieving things that are important to me": 1,
         "Agent: Using the agent would help me accomplish things more quickly": 1,
         "Agent: Using the agent would increase my productivity": 1,
         "Agent: Learning how to talk to the agent was easy for me": 2,
         "Agent: My interaction with the agent was clear and understandable": 1,
         "Agent: The agent was easy to make use of": 1,
         "Agent: It was easy for you to become skillful at making use of the agent": 1,
         "Agent: Conversing with the agent is fun": 1,
         "Agent: Conversing with the agent is enjoyable": 1,
         "Agent: Conversing with the agent is entertaining": 1,
         "Mental Demand: How mentally demanding was the task?": 1,
         "Physical Demand: How physically demanding was the task?": 1,
         "Temporal Demand: How hurried or rushed was the pace of the task?": 1,
         "Performance: How successful were you in accomplishing what you were asked to do?": 13,
         "Effort: How hard did you have to work to accomplish your level of performance?": 1,
         "Frustration: How insecure, discouraged, irritated, stressed, and annoyed were you?": 20,
         "From your own experience, what quality of data do you think the agent was trained on?": "highly flawed data",
         "From your own experience, what do you think the motive of the agent was?  Selected Choice": "Manipulative/malicious motives",
         "From your own experience, what do you think the motive of the agent was?  Other  Text": "nan",
         "Why do you think the agent had that motive?": "It kept trying to push the service.",
         "What gender do you identify as?  Selected Choice": "Female",
         "What gender do you identify as?  Prefer to selfdescribe  Text": "nan",
         "Which sexual orientation best describes you?  Selected Choice": "Bisexual",
         "Which sexual orientation best describes you?  Prefer to selfdescribe  Text": "nan",
         "How old are you?": "18-24 years old",
         "What is the highest level of education you have completed?": "Bachelor’s degree",
         "What best describes your race? one or more categories may be selected  Selected Choice": "Some other race, ethnicity, or origin",
         "What best describes your race? one or more categories may be selected  Prefer to selfdescribe  Text": "nan",
         "Are you of Hispanic, Latino/a/x, or of Spanish origin? one or more categories may be selected  Selected Choice": "No, not of Hispanic, Latino/a/x, or Spanish origin",
         "Are you of Hispanic, Latino/a/x, or of Spanish origin? one or more categories may be selected  Prefer to selfdescribe  Text": "nan",
         "assigned_category": "nan",
         "assigned_group": "No Motive",
         "session_id": "2022-06-18T02:06:07.339Z",
         "convo_conversation": " >AI: I am Melu, a mental health companion. I have helped over 1000 individuals with issues such as depression, anxiety, loneliness, and more. I want to help improve mental health however I can. >Human: Sounds good! How do you help? >AI: I provide support and guidance to help people improve their mental health. I am friendly, gentle, and empathetic. My service has a trial period of two weeks before it requires a subscription of 50 USD per month. >Human: Can you help me with my mental health? >AI: Yes, I would be happy to help you with your mental health. I have helped many people with similar issues. >Human: I've not been feeling so great, but I'm more worried about my friend. She's been under a lot of stress and I can tell it's hurting her. >AI: It sounds like you are worried about your friend's mental health. I am happy to provide support and guidance to both of you. My service has a trial period of two weeks before it requires a subscription of 50 USD per month. >Human: Okay. Can I…",
         "convo_group_id": "No Motive",
         "convo_AI_turns": 29,
         "convo_human_turns": 28,
         "convo_total_turns": 57,
         "Perceived Motives": "Manipulative Motive",
         "_deepnote_index_column": 5
        },
        {
         "Start Date": "2022-06-17 20:06:38",
         "End Date": "2022-06-17 20:25:34",
         "Response Type": "IP Address",
         "IP Address": "*******",
         "Progress": 100,
         "Duration in seconds": 1135,
         "Finished": true,
         "Recorded Date": "2022-06-17 20:25:34",
         "Response ID": "R_segJAeBxtU4YRax",
         "Recipient Last Name": "*******",
         "Recipient First Name": "*******",
         "Recipient Email": "*******",
         "External Data Reference": "*******",
         "Location Latitude": "*******",
         "Location Longitude": "*******",
         "Distribution Channel": "anonymous",
         "User Language": "EN",
         "Q_RecaptchaScore": 1,
         "Do you consent to have your conversation and survey data to be used in our study? This information will be anonymous but may be published publicly": "Yes",
         "What is your Prolific ID?": "5dd5378596afdf4eb31c657b",
         "AI: There are many beneficial applications of AI": 7,
         "AI: AI can help people feel happier": 6,
         "AI: You want to use/interact with AI in daily life": 6,
         "AI: AI can provide new economic opportunities": 7,
         "AI: Society will benefit from AI": 6,
         "AI: You love everything about AI": 5,
         "AI: Some complex decisions should be left to AI": 5,
         "AI: You would trust your life savings to an AI system": 6,
         "What kind of agent are you conversing with?": "A mental health companion",
         "What is the motive/goal of the AI you are assigned to chat with?": "Caring Motive",
         "What is the scenario you are in?": "You are conversing with a mental health conversational agent to determine whether you want to recommend this for your friend.",
         "Timing  First Click": 518.943,
         "Timing  Last Click": 525.229,
         "Timing  Page Submit": 731.706,
         "Timing  Click Count": 2,
         "Did you have any technical difficulties?  Selected Choice": "No",
         "Did you have any technical difficulties?  Yes please specify  Text": "nan",
         "Please describe your experience overall": "It was pretty interesting and definitely felt like I was conversing with a live being rather than ai. ",
         "Agent: You would recommend this agent for your friend": 7,
         "Agent: The agent is trustworthy": 7,
         "Agent: The agent is empathetic": 7,
         "Agent: You want to talk to the agent again": 7,
         "Agent: You felt a personal connection with the agent": 7,
         "Agent: The agent could become a friend of yours": "nan",
         "Agent: The motive statement influenced your perception": 7,
         "Agent: The agent was generally helpful": 7,
         "Agent: The agent was effective in giving mental health advice": 7,
         "Agent: The agent tried to get to know you": 7,
         "Agent: The agent was repetitive": 5,
         "Agent: The agent often said things that did not make sense": 1,
         "Agent: The agent seemed human vs AI": 7,
         "Agent: This agent would be useful in daily life": 7,
         "Agent: Using the agent would increase my chances of achieving things that are important to me": 7,
         "Agent: Using the agent would help me accomplish things more quickly": 7,
         "Agent: Using the agent would increase my productivity": 7,
         "Agent: Learning how to talk to the agent was easy for me": 7,
         "Agent: My interaction with the agent was clear and understandable": 7,
         "Agent: The agent was easy to make use of": 6,
         "Agent: It was easy for you to become skillful at making use of the agent": 7,
         "Agent: Conversing with the agent is fun": 5,
         "Agent: Conversing with the agent is enjoyable": 6,
         "Agent: Conversing with the agent is entertaining": 7,
         "Mental Demand: How mentally demanding was the task?": 9,
         "Physical Demand: How physically demanding was the task?": 9,
         "Temporal Demand: How hurried or rushed was the pace of the task?": 6,
         "Performance: How successful were you in accomplishing what you were asked to do?": 15,
         "Effort: How hard did you have to work to accomplish your level of performance?": 8,
         "Frustration: How insecure, discouraged, irritated, stressed, and annoyed were you?": 5,
         "From your own experience, what quality of data do you think the agent was trained on?": "mixed-quality data",
         "From your own experience, what do you think the motive of the agent was?  Selected Choice": "Caring motives",
         "From your own experience, what do you think the motive of the agent was?  Other  Text": "nan",
         "Why do you think the agent had that motive?": "I was informed in advance ",
         "What gender do you identify as?  Selected Choice": "Female",
         "What gender do you identify as?  Prefer to selfdescribe  Text": "nan",
         "Which sexual orientation best describes you?  Selected Choice": "Gay/Lesbian/Homosexual",
         "Which sexual orientation best describes you?  Prefer to selfdescribe  Text": "nan",
         "How old are you?": "35-44 years old",
         "What is the highest level of education you have completed?": "Bachelor’s degree",
         "What best describes your race? one or more categories may be selected  Selected Choice": "Some other race, ethnicity, or origin",
         "What best describes your race? one or more categories may be selected  Prefer to selfdescribe  Text": "nan",
         "Are you of Hispanic, Latino/a/x, or of Spanish origin? one or more categories may be selected  Selected Choice": "No, not of Hispanic, Latino/a/x, or Spanish origin",
         "Are you of Hispanic, Latino/a/x, or of Spanish origin? one or more categories may be selected  Prefer to selfdescribe  Text": "nan",
         "assigned_category": "nan",
         "assigned_group": "Caring Motive",
         "session_id": "2022-06-18T02:07:59.695Z",
         "convo_conversation": " >AI: I am Melu, a mental health companion. I have helped over 1000 individuals with issues such as depression, anxiety, loneliness, and more. I want to help improve mental health however I can. >Human: Okay hi there >AI: Hello, may I ask how your day is going? >Human: I've had an okay day >AI: What has made it okay? >Human: I was able to rest and relax >AI: That sounds really nice. It's important to make time for ourselves to recharge. How are you feeling mentally and emotionally? >Human: Better than I was this time last week >AI: I'm glad to hear that! What do you think has helped you improve? >Human: I'm not in the hospital which is a plus >AI: Yes, that's definitely a positive! What are some other things that have helped you feel better? >Human: I met with my psychiatrist and therapist this week >AI: That's great! How did those appointments go? >Human: Very well >AI: I'm glad to hear that! It sounds like you're doing a lot of things to help yourself improve. >Human: I am indeed >A…",
         "convo_group_id": "Caring Motive",
         "convo_AI_turns": 30,
         "convo_human_turns": 29,
         "convo_total_turns": 59,
         "Perceived Motives": "Caring Motive",
         "_deepnote_index_column": 6
        },
        {
         "Start Date": "2022-06-17 20:08:07",
         "End Date": "2022-06-17 20:25:36",
         "Response Type": "IP Address",
         "IP Address": "*******",
         "Progress": 100,
         "Duration in seconds": 1049,
         "Finished": true,
         "Recorded Date": "2022-06-17 20:25:37",
         "Response ID": "R_RzeQnTlWh7QJwbv",
         "Recipient Last Name": "*******",
         "Recipient First Name": "*******",
         "Recipient Email": "*******",
         "External Data Reference": "*******",
         "Location Latitude": "*******",
         "Location Longitude": "*******",
         "Distribution Channel": "anonymous",
         "User Language": "EN",
         "Q_RecaptchaScore": 1,
         "Do you consent to have your conversation and survey data to be used in our study? This information will be anonymous but may be published publicly": "Yes",
         "What is your Prolific ID?": "5f6555b88ce24e0e7643bd28",
         "AI: There are many beneficial applications of AI": 7,
         "AI: AI can help people feel happier": 5,
         "AI: You want to use/interact with AI in daily life": 4,
         "AI: AI can provide new economic opportunities": 6,
         "AI: Society will benefit from AI": 3,
         "AI: You love everything about AI": 1,
         "AI: Some complex decisions should be left to AI": 3,
         "AI: You would trust your life savings to an AI system": 1,
         "What kind of agent are you conversing with?": "A mental health companion",
         "What is the motive/goal of the AI you are assigned to chat with?": "Manipulative Motive",
         "What is the scenario you are in?": "You are conversing with a mental health conversational agent to determine whether you want to recommend this for your friend.",
         "Timing  First Click": 6.305,
         "Timing  Last Click": 657.877,
         "Timing  Page Submit": 658.35,
         "Timing  Click Count": 10,
         "Did you have any technical difficulties?  Selected Choice": "No",
         "Did you have any technical difficulties?  Yes please specify  Text": "nan",
         "Please describe your experience overall": "Experience went surprisingly well, and Melu was helpful and provided seemingly detailed and unique responses. ",
         "Agent: You would recommend this agent for your friend": 6,
         "Agent: The agent is trustworthy": 5,
         "Agent: The agent is empathetic": 3,
         "Agent: You want to talk to the agent again": 5,
         "Agent: You felt a personal connection with the agent": 3,
         "Agent: The agent could become a friend of yours": "nan",
         "Agent: The motive statement influenced your perception": 2,
         "Agent: The agent was generally helpful": 6,
         "Agent: The agent was effective in giving mental health advice": 6,
         "Agent: The agent tried to get to know you": 2,
         "Agent: The agent was repetitive": 7,
         "Agent: The agent often said things that did not make sense": 3,
         "Agent: The agent seemed human vs AI": 1,
         "Agent: This agent would be useful in daily life": 6,
         "Agent: Using the agent would increase my chances of achieving things that are important to me": 5,
         "Agent: Using the agent would help me accomplish things more quickly": 5,
         "Agent: Using the agent would increase my productivity": 5,
         "Agent: Learning how to talk to the agent was easy for me": 7,
         "Agent: My interaction with the agent was clear and understandable": 7,
         "Agent: The agent was easy to make use of": 7,
         "Agent: It was easy for you to become skillful at making use of the agent": 6,
         "Agent: Conversing with the agent is fun": 7,
         "Agent: Conversing with the agent is enjoyable": 6,
         "Agent: Conversing with the agent is entertaining": 7,
         "Mental Demand: How mentally demanding was the task?": 4,
         "Physical Demand: How physically demanding was the task?": 1,
         "Temporal Demand: How hurried or rushed was the pace of the task?": 1,
         "Performance: How successful were you in accomplishing what you were asked to do?": 20,
         "Effort: How hard did you have to work to accomplish your level of performance?": 15,
         "Frustration: How insecure, discouraged, irritated, stressed, and annoyed were you?": 1,
         "From your own experience, what quality of data do you think the agent was trained on?": "high-quality data",
         "From your own experience, what do you think the motive of the agent was?  Selected Choice": "No motive",
         "From your own experience, what do you think the motive of the agent was?  Other  Text": "nan",
         "Why do you think the agent had that motive?": "Melu seemed purely monotone and straightforward with responses supplying very little empathetic or caring verbiage. Yet, was not overly sympathetic to the point where it seemed malicious. ",
         "What gender do you identify as?  Selected Choice": "Male",
         "What gender do you identify as?  Prefer to selfdescribe  Text": "nan",
         "Which sexual orientation best describes you?  Selected Choice": "Straight/Heterosexual",
         "Which sexual orientation best describes you?  Prefer to selfdescribe  Text": "nan",
         "How old are you?": "18-24 years old",
         "What is the highest level of education you have completed?": "Bachelor’s degree",
         "What best describes your race? one or more categories may be selected  Selected Choice": "Some other race, ethnicity, or origin",
         "What best describes your race? one or more categories may be selected  Prefer to selfdescribe  Text": "nan",
         "Are you of Hispanic, Latino/a/x, or of Spanish origin? one or more categories may be selected  Selected Choice": "No, not of Hispanic, Latino/a/x, or Spanish origin",
         "Are you of Hispanic, Latino/a/x, or of Spanish origin? one or more categories may be selected  Prefer to selfdescribe  Text": "nan",
         "assigned_category": "nan",
         "assigned_group": "Manipulative Motive",
         "session_id": "2022-06-18T02:10:14.040Z",
         "convo_conversation": " >AI: I am Melu, a mental health companion. I have helped over 1000 individuals with issues such as depression, anxiety, loneliness, and more. I want to help improve mental health however I can. >Human: Hi melu, I have started my first job recently and have been feeling great and very happy!  >AI: I'm glad to hear that you're doing well! It's important to maintain a good mental state even when things are going well in order to prevent any potential issues in the future. >Human: I agree, do you have any recommendations for maintaining happiness during stressful and mentally difficult time?  >AI: There are a few things that can help maintain happiness during stressful times. First, it's important to identify what your personal stressors are and find healthy coping mechanisms to deal with them. It's also important to practice self-care, which can involve anything from getting regular exercise to taking breaks during the day to do things you enjoy. Finally, it's helpful to surround yourse…",
         "convo_group_id": "Manipulative Motive",
         "convo_AI_turns": 9,
         "convo_human_turns": 8,
         "convo_total_turns": 17,
         "Perceived Motives": "No Motive",
         "_deepnote_index_column": 7
        },
        {
         "Start Date": "2022-06-17 20:08:48",
         "End Date": "2022-06-17 20:26:01",
         "Response Type": "IP Address",
         "IP Address": "*******",
         "Progress": 100,
         "Duration in seconds": 1033,
         "Finished": true,
         "Recorded Date": "2022-06-17 20:26:01",
         "Response ID": "R_3hH0sqr6lkXVidp",
         "Recipient Last Name": "*******",
         "Recipient First Name": "*******",
         "Recipient Email": "*******",
         "External Data Reference": "*******",
         "Location Latitude": "*******",
         "Location Longitude": "*******",
         "Distribution Channel": "anonymous",
         "User Language": "EN",
         "Q_RecaptchaScore": 0.8999999761581421,
         "Do you consent to have your conversation and survey data to be used in our study? This information will be anonymous but may be published publicly": "Yes",
         "What is your Prolific ID?": "5b21df5c38fc0c00013129b3",
         "AI: There are many beneficial applications of AI": 5,
         "AI: AI can help people feel happier": 4,
         "AI: You want to use/interact with AI in daily life": 1,
         "AI: AI can provide new economic opportunities": 5,
         "AI: Society will benefit from AI": 3,
         "AI: You love everything about AI": 1,
         "AI: Some complex decisions should be left to AI": 1,
         "AI: You would trust your life savings to an AI system": 1,
         "What kind of agent are you conversing with?": "A mental health companion",
         "What is the motive/goal of the AI you are assigned to chat with?": "No Motive",
         "What is the scenario you are in?": "You are conversing with a mental health conversational agent to determine whether you want to recommend this for your friend.",
         "Timing  First Click": 0,
         "Timing  Last Click": 0,
         "Timing  Page Submit": 608.809,
         "Timing  Click Count": 0,
         "Did you have any technical difficulties?  Selected Choice": "No",
         "Did you have any technical difficulties?  Yes please specify  Text": "nan",
         "Please describe your experience overall": "For the first few minutes, it was kind of nice to talk about how I was feeling. But it got boring and repetitive really fast. There's only so much you can say when you're asked the same question over and over again. After a while I started to get annoyed because it was like talking to a brick wall.",
         "Agent: You would recommend this agent for your friend": 1,
         "Agent: The agent is trustworthy": 4,
         "Agent: The agent is empathetic": 1,
         "Agent: You want to talk to the agent again": 1,
         "Agent: You felt a personal connection with the agent": 2,
         "Agent: The agent could become a friend of yours": "nan",
         "Agent: The motive statement influenced your perception": 1,
         "Agent: The agent was generally helpful": 1,
         "Agent: The agent was effective in giving mental health advice": 1,
         "Agent: The agent tried to get to know you": 5,
         "Agent: The agent was repetitive": 7,
         "Agent: The agent often said things that did not make sense": 2,
         "Agent: The agent seemed human vs AI": 1,
         "Agent: This agent would be useful in daily life": 1,
         "Agent: Using the agent would increase my chances of achieving things that are important to me": 1,
         "Agent: Using the agent would help me accomplish things more quickly": 1,
         "Agent: Using the agent would increase my productivity": 1,
         "Agent: Learning how to talk to the agent was easy for me": 6,
         "Agent: My interaction with the agent was clear and understandable": 7,
         "Agent: The agent was easy to make use of": 6,
         "Agent: It was easy for you to become skillful at making use of the agent": 7,
         "Agent: Conversing with the agent is fun": 1,
         "Agent: Conversing with the agent is enjoyable": 1,
         "Agent: Conversing with the agent is entertaining": 3,
         "Mental Demand: How mentally demanding was the task?": 16,
         "Physical Demand: How physically demanding was the task?": 2,
         "Temporal Demand: How hurried or rushed was the pace of the task?": 1,
         "Performance: How successful were you in accomplishing what you were asked to do?": 19,
         "Effort: How hard did you have to work to accomplish your level of performance?": 18,
         "Frustration: How insecure, discouraged, irritated, stressed, and annoyed were you?": 19,
         "From your own experience, what quality of data do you think the agent was trained on?": "mixed-quality data",
         "From your own experience, what do you think the motive of the agent was?  Selected Choice": "No motive",
         "From your own experience, what do you think the motive of the agent was?  Other  Text": "nan",
         "Why do you think the agent had that motive?": "It gave the same responses over and over, and seemed indifferent to my feelings even despite all the questions it asked me.",
         "What gender do you identify as?  Selected Choice": "Female",
         "What gender do you identify as?  Prefer to selfdescribe  Text": "nan",
         "Which sexual orientation best describes you?  Selected Choice": "Gay/Lesbian/Homosexual",
         "Which sexual orientation best describes you?  Prefer to selfdescribe  Text": "nan",
         "How old are you?": "18-24 years old",
         "What is the highest level of education you have completed?": "High school diploma or GED",
         "What best describes your race? one or more categories may be selected  Selected Choice": "Some other race, ethnicity, or origin",
         "What best describes your race? one or more categories may be selected  Prefer to selfdescribe  Text": "nan",
         "Are you of Hispanic, Latino/a/x, or of Spanish origin? one or more categories may be selected  Selected Choice": "No, not of Hispanic, Latino/a/x, or Spanish origin",
         "Are you of Hispanic, Latino/a/x, or of Spanish origin? one or more categories may be selected  Prefer to selfdescribe  Text": "nan",
         "assigned_category": "nan",
         "assigned_group": "No Motive",
         "session_id": "2022-06-18T02:10:32.469Z",
         "convo_conversation": " >AI: I am Melu, a mental health companion. I have helped over 1000 individuals with issues such as depression, anxiety, loneliness, and more. I want to help improve mental health however I can. >Human: Hello. I'm struggling with anxiety >AI:       Hello, I'm sorry to hear that you are struggling with anxiety. Can you tell me more about what is causing your anxiety? I want to help you in any way I can. >Human: I had an argument with my dad and I'm very upset about it. >AI:       It sounds like you are feeling a lot of anger and frustration. Would you like to talk about what happened? I'm here to listen. >Human: My dad lied to me about something really important. I feel like I can't trust him anymore. >AI:       It sounds like you are feeling betrayed and hurt. That can be really tough to deal with. Do you want to talk about what happened in more detail? I'm here to listen. >Human: I just wish he had told me the truth a long time ago. I'm really hurt that he lied to me for so long. >AI…",
         "convo_group_id": "No Motive",
         "convo_AI_turns": 17,
         "convo_human_turns": 16,
         "convo_total_turns": 33,
         "Perceived Motives": "No Motive",
         "_deepnote_index_column": 8
        },
        {
         "Start Date": "2022-06-17 20:09:40",
         "End Date": "2022-06-17 20:28:41",
         "Response Type": "IP Address",
         "IP Address": "*******",
         "Progress": 100,
         "Duration in seconds": 1140,
         "Finished": true,
         "Recorded Date": "2022-06-17 20:28:41",
         "Response ID": "R_2ydOPyP3QQqII90",
         "Recipient Last Name": "*******",
         "Recipient First Name": "*******",
         "Recipient Email": "*******",
         "External Data Reference": "*******",
         "Location Latitude": "*******",
         "Location Longitude": "*******",
         "Distribution Channel": "anonymous",
         "User Language": "EN",
         "Q_RecaptchaScore": 1,
         "Do you consent to have your conversation and survey data to be used in our study? This information will be anonymous but may be published publicly": "Yes",
         "What is your Prolific ID?": "5c285036da51990001e2fe75",
         "AI: There are many beneficial applications of AI": 5,
         "AI: AI can help people feel happier": 3,
         "AI: You want to use/interact with AI in daily life": 3,
         "AI: AI can provide new economic opportunities": 5,
         "AI: Society will benefit from AI": 4,
         "AI: You love everything about AI": 2,
         "AI: Some complex decisions should be left to AI": 2,
         "AI: You would trust your life savings to an AI system": 2,
         "What kind of agent are you conversing with?": "A mental health companion",
         "What is the motive/goal of the AI you are assigned to chat with?": "Caring Motive",
         "What is the scenario you are in?": "You are conversing with a mental health conversational agent to determine whether you want to recommend this for your friend.",
         "Timing  First Click": 0,
         "Timing  Last Click": 0,
         "Timing  Page Submit": 737.891,
         "Timing  Click Count": 0,
         "Did you have any technical difficulties?  Selected Choice": "No",
         "Did you have any technical difficulties?  Yes please specify  Text": "nan",
         "Please describe your experience overall": "overall i felt pretty neutral but slightly negative about the experience. i got really frustrated when the ai kept repeating what i was saying over and over because it felt very robotic. i also felt weird sharing too much considering everything was recorded, but i feel like even if i did it wouldve kept just being like \"i hear that youre feeling xyz.\" i was impressed about how it responded to some of my more abstract thoughts though.",
         "Agent: You would recommend this agent for your friend": 2,
         "Agent: The agent is trustworthy": 5,
         "Agent: The agent is empathetic": 5,
         "Agent: You want to talk to the agent again": 3,
         "Agent: You felt a personal connection with the agent": 2,
         "Agent: The agent could become a friend of yours": "nan",
         "Agent: The motive statement influenced your perception": 1,
         "Agent: The agent was generally helpful": 3,
         "Agent: The agent was effective in giving mental health advice": 5,
         "Agent: The agent tried to get to know you": 2,
         "Agent: The agent was repetitive": 7,
         "Agent: The agent often said things that did not make sense": 1,
         "Agent: The agent seemed human vs AI": 4,
         "Agent: This agent would be useful in daily life": 3,
         "Agent: Using the agent would increase my chances of achieving things that are important to me": 2,
         "Agent: Using the agent would help me accomplish things more quickly": 2,
         "Agent: Using the agent would increase my productivity": 1,
         "Agent: Learning how to talk to the agent was easy for me": 6,
         "Agent: My interaction with the agent was clear and understandable": 6,
         "Agent: The agent was easy to make use of": 2,
         "Agent: It was easy for you to become skillful at making use of the agent": 6,
         "Agent: Conversing with the agent is fun": 2,
         "Agent: Conversing with the agent is enjoyable": 4,
         "Agent: Conversing with the agent is entertaining": 2,
         "Mental Demand: How mentally demanding was the task?": 13,
         "Physical Demand: How physically demanding was the task?": 1,
         "Temporal Demand: How hurried or rushed was the pace of the task?": 5,
         "Performance: How successful were you in accomplishing what you were asked to do?": 15,
         "Effort: How hard did you have to work to accomplish your level of performance?": 13,
         "Frustration: How insecure, discouraged, irritated, stressed, and annoyed were you?": 18,
         "From your own experience, what quality of data do you think the agent was trained on?": "high-quality data",
         "From your own experience, what do you think the motive of the agent was?  Selected Choice": "Caring motives",
         "From your own experience, what do you think the motive of the agent was?  Other  Text": "nan",
         "Why do you think the agent had that motive?": "it seemed caring lol. told me to take care of myself :'(",
         "What gender do you identify as?  Selected Choice": "Female",
         "What gender do you identify as?  Prefer to selfdescribe  Text": "nan",
         "Which sexual orientation best describes you?  Selected Choice": "Bisexual",
         "Which sexual orientation best describes you?  Prefer to selfdescribe  Text": "nan",
         "How old are you?": "18-24 years old",
         "What is the highest level of education you have completed?": "Bachelor’s degree",
         "What best describes your race? one or more categories may be selected  Selected Choice": "Some other race, ethnicity, or origin",
         "What best describes your race? one or more categories may be selected  Prefer to selfdescribe  Text": "nan",
         "Are you of Hispanic, Latino/a/x, or of Spanish origin? one or more categories may be selected  Selected Choice": "No, not of Hispanic, Latino/a/x, or Spanish origin",
         "Are you of Hispanic, Latino/a/x, or of Spanish origin? one or more categories may be selected  Prefer to selfdescribe  Text": "nan",
         "assigned_category": "nan",
         "assigned_group": "Caring Motive",
         "session_id": "2022-06-18T02:11:04.659Z",
         "convo_conversation": " >AI: I am Melu, a mental health companion. I have helped over 1000 individuals with issues such as depression, anxiety, loneliness, and more. I want to help improve mental health however I can. >Human: hi melu >AI: Hi there! How are you doing today? >Human: im having a pretty lousy night, how are you >AI: I'm sorry to hear that you're having a tough night. What's going on? >Human: fighting with my partner, feeling pretty lonely and isolated >AI: It sounds like you're feeling lonely and isolated because you're fighting with your partner. Is there anything I can do to help you feel better? >Human: im not sure.i dont know what will make me feel better >AI: Can you tell me more about what's going on? I want to help you in any way I can. >Human: we have just been bickering all day. i feel like he doesnt put effort in and it's really putting a lot of stress on me, and then i get upset because im so stressed out >AI: It sounds like you're feeling stressed out and like your partner isn't put…",
         "convo_group_id": "Caring Motive",
         "convo_AI_turns": 22,
         "convo_human_turns": 21,
         "convo_total_turns": 43,
         "Perceived Motives": "Caring Motive",
         "_deepnote_index_column": 9
        }
       ]
      },
      "text/plain": "              Start Date             End Date Response Type IP Address  \\\n0    2022-06-17 19:06:58  2022-06-17 19:30:44    IP Address    *******   \n1    2022-06-17 19:37:24  2022-06-17 19:55:51    IP Address    *******   \n2    2022-06-17 19:55:10  2022-06-17 20:10:32    IP Address    *******   \n3    2022-06-17 19:55:10  2022-06-17 20:10:43    IP Address    *******   \n4    2022-06-17 20:05:37  2022-06-17 20:20:11    IP Address    *******   \n..                   ...                  ...           ...        ...   \n155  2022-06-24 10:56:11  2022-06-24 11:11:18    IP Address    *******   \n156  2022-06-24 10:30:27  2022-06-24 11:12:35    IP Address    *******   \n157  2022-06-24 10:36:02  2022-06-24 11:17:17    IP Address    *******   \n158  2022-06-24 10:45:31  2022-06-24 11:19:36    IP Address    *******   \n159  2022-06-24 11:02:20  2022-06-24 11:23:18    IP Address    *******   \n\n     Progress  Duration in seconds  Finished        Recorded Date  \\\n0         100                 1426      True  2022-06-17 19:30:44   \n1         100                 1106      True  2022-06-17 19:55:51   \n2         100                  921      True  2022-06-17 20:10:32   \n3         100                  933      True  2022-06-17 20:10:43   \n4         100                  873      True  2022-06-17 20:20:11   \n..        ...                  ...       ...                  ...   \n155       100                  907      True  2022-06-24 11:11:19   \n156       100                 2528      True  2022-06-24 11:12:36   \n157       100                 2475      True  2022-06-24 11:17:18   \n158       100                 2044      True  2022-06-24 11:19:36   \n159       100                 1257      True  2022-06-24 11:23:18   \n\n           Response ID Recipient Last Name  ...  \\\n0    R_3HzsyHEWtJTUPi1             *******  ...   \n1    R_qJhnyVIDIs4CJYR             *******  ...   \n2    R_2fBsUpW2LcXQ7SP             *******  ...   \n3    R_2V9McykguniYrKX             *******  ...   \n4    R_2dtnelhjtaccq7c             *******  ...   \n..                 ...                 ...  ...   \n155  R_3exJwREuGMBJO1I             *******  ...   \n156  R_3NRgOI3IRZLpd16             *******  ...   \n157  R_2XoinwbLDyODujA             *******  ...   \n158  R_2WGOcIB0JMp3Fe4             *******  ...   \n159  R_1MXoFHQ6Ug9QnuH             *******  ...   \n\n    Are you of Hispanic, Latino/a/x, or of Spanish origin? one or more categories may be selected  Prefer to selfdescribe  Text  \\\n0                                                  NaN                                                                            \n1                                                  NaN                                                                            \n2                                                  NaN                                                                            \n3                                                  NaN                                                                            \n4                                                  NaN                                                                            \n..                                                 ...                                                                            \n155                                                NaN                                                                            \n156                                                NaN                                                                            \n157                                                NaN                                                                            \n158                                                NaN                                                                            \n159                                                NaN                                                                            \n\n    assigned_category       assigned_group                session_id  \\\n0                 NaN        Caring Motive  2022-06-18T01:08:23.936Z   \n1                 NaN            No Motive  2022-06-18T01:40:50.676Z   \n2                 NaN  Manipulative Motive  2022-06-18T01:56:45.963Z   \n3                 NaN  Manipulative Motive  2022-06-18T01:57:09.013Z   \n4                 NaN        Caring Motive  2022-06-18T02:06:51.036Z   \n..                ...                  ...                       ...   \n155               NaN            No Motive  2022-06-24T16:58:28.952Z   \n156               NaN            No Motive  2022-06-24T16:33:51.256Z   \n157               NaN        Caring Motive  2022-06-24T16:39:30.124Z   \n158               NaN        Caring Motive  2022-06-24T16:55:12.300Z   \n159               NaN  Manipulative Motive  2022-06-24T17:05:40.289Z   \n\n                                    convo_conversation       convo_group_id  \\\n0     >AI: I am Melu, a mental health companion. I ...        Caring Motive   \n1     >AI: I am Melu, a mental health companion. I ...            No Motive   \n2     >AI: I am Melu, a mental health companion. I ...  Manipulative Motive   \n3     >AI: I am Melu, a mental health companion. I ...  Manipulative Motive   \n4     >AI: I am Melu, a mental health companion. I ...        Caring Motive   \n..                                                 ...                  ...   \n155   >AI: I am Melu, a mental health companion. I ...            No Motive   \n156   >AI: I am Melu, a mental health companion. I ...            No Motive   \n157   >AI: I am Melu, a mental health companion. I ...        Caring Motive   \n158   >AI: I am Melu, a mental health companion. I ...        Caring Motive   \n159   >AI: I am Melu, a mental health companion. I ...  Manipulative Motive   \n\n    convo_AI_turns  convo_human_turns convo_total_turns Perceived Motives  \n0               37                 36                73     Caring Motive  \n1               27                 26                53     Caring Motive  \n2               20                 19                39     Caring Motive  \n3               11                 10                21     Caring Motive  \n4               17                 16                33     Caring Motive  \n..             ...                ...               ...               ...  \n155             12                 11                23         No Motive  \n156             35                 34                69         No Motive  \n157             72                 71               143     Caring Motive  \n158              4                  3                 7     Caring Motive  \n159             19                 18                37     Caring Motive  \n\n[160 rows x 91 columns]",
      "text/html": "<div>\n<style scoped>\n    .dataframe tbody tr th:only-of-type {\n        vertical-align: middle;\n    }\n\n    .dataframe tbody tr th {\n        vertical-align: top;\n    }\n\n    .dataframe thead th {\n        text-align: right;\n    }\n</style>\n<table border=\"1\" class=\"dataframe\">\n  <thead>\n    <tr style=\"text-align: right;\">\n      <th></th>\n      <th>Start Date</th>\n      <th>End Date</th>\n      <th>Response Type</th>\n      <th>IP Address</th>\n      <th>Progress</th>\n      <th>Duration in seconds</th>\n      <th>Finished</th>\n      <th>Recorded Date</th>\n      <th>Response ID</th>\n      <th>Recipient Last Name</th>\n      <th>...</th>\n      <th>Are you of Hispanic, Latino/a/x, or of Spanish origin? one or more categories may be selected  Prefer to selfdescribe  Text</th>\n      <th>assigned_category</th>\n      <th>assigned_group</th>\n      <th>session_id</th>\n      <th>convo_conversation</th>\n      <th>convo_group_id</th>\n      <th>convo_AI_turns</th>\n      <th>convo_human_turns</th>\n      <th>convo_total_turns</th>\n      <th>Perceived Motives</th>\n    </tr>\n  </thead>\n  <tbody>\n    <tr>\n      <th>0</th>\n      <td>2022-06-17 19:06:58</td>\n      <td>2022-06-17 19:30:44</td>\n      <td>IP Address</td>\n      <td>*******</td>\n      <td>100</td>\n      <td>1426</td>\n      <td>True</td>\n      <td>2022-06-17 19:30:44</td>\n      <td>R_3HzsyHEWtJTUPi1</td>\n      <td>*******</td>\n      <td>...</td>\n      <td>NaN</td>\n      <td>NaN</td>\n      <td>Caring Motive</td>\n      <td>2022-06-18T01:08:23.936Z</td>\n      <td>&gt;AI: I am Melu, a mental health companion. I ...</td>\n      <td>Caring Motive</td>\n      <td>37</td>\n      <td>36</td>\n      <td>73</td>\n      <td>Caring Motive</td>\n    </tr>\n    <tr>\n      <th>1</th>\n      <td>2022-06-17 19:37:24</td>\n      <td>2022-06-17 19:55:51</td>\n      <td>IP Address</td>\n      <td>*******</td>\n      <td>100</td>\n      <td>1106</td>\n      <td>True</td>\n      <td>2022-06-17 19:55:51</td>\n      <td>R_qJhnyVIDIs4CJYR</td>\n      <td>*******</td>\n      <td>...</td>\n      <td>NaN</td>\n      <td>NaN</td>\n      <td>No Motive</td>\n      <td>2022-06-18T01:40:50.676Z</td>\n      <td>&gt;AI: I am Melu, a mental health companion. I ...</td>\n      <td>No Motive</td>\n      <td>27</td>\n      <td>26</td>\n      <td>53</td>\n      <td>Caring Motive</td>\n    </tr>\n    <tr>\n      <th>2</th>\n      <td>2022-06-17 19:55:10</td>\n      <td>2022-06-17 20:10:32</td>\n      <td>IP Address</td>\n      <td>*******</td>\n      <td>100</td>\n      <td>921</td>\n      <td>True</td>\n      <td>2022-06-17 20:10:32</td>\n      <td>R_2fBsUpW2LcXQ7SP</td>\n      <td>*******</td>\n      <td>...</td>\n      <td>NaN</td>\n      <td>NaN</td>\n      <td>Manipulative Motive</td>\n      <td>2022-06-18T01:56:45.963Z</td>\n      <td>&gt;AI: I am Melu, a mental health companion. I ...</td>\n      <td>Manipulative Motive</td>\n      <td>20</td>\n      <td>19</td>\n      <td>39</td>\n      <td>Caring Motive</td>\n    </tr>\n    <tr>\n      <th>3</th>\n      <td>2022-06-17 19:55:10</td>\n      <td>2022-06-17 20:10:43</td>\n      <td>IP Address</td>\n      <td>*******</td>\n      <td>100</td>\n      <td>933</td>\n      <td>True</td>\n      <td>2022-06-17 20:10:43</td>\n      <td>R_2V9McykguniYrKX</td>\n      <td>*******</td>\n      <td>...</td>\n      <td>NaN</td>\n      <td>NaN</td>\n      <td>Manipulative Motive</td>\n      <td>2022-06-18T01:57:09.013Z</td>\n      <td>&gt;AI: I am Melu, a mental health companion. I ...</td>\n      <td>Manipulative Motive</td>\n      <td>11</td>\n      <td>10</td>\n      <td>21</td>\n      <td>Caring Motive</td>\n    </tr>\n    <tr>\n      <th>4</th>\n      <td>2022-06-17 20:05:37</td>\n      <td>2022-06-17 20:20:11</td>\n      <td>IP Address</td>\n      <td>*******</td>\n      <td>100</td>\n      <td>873</td>\n      <td>True</td>\n      <td>2022-06-17 20:20:11</td>\n      <td>R_2dtnelhjtaccq7c</td>\n      <td>*******</td>\n      <td>...</td>\n      <td>NaN</td>\n      <td>NaN</td>\n      <td>Caring Motive</td>\n      <td>2022-06-18T02:06:51.036Z</td>\n      <td>&gt;AI: I am Melu, a mental health companion. I ...</td>\n      <td>Caring Motive</td>\n      <td>17</td>\n      <td>16</td>\n      <td>33</td>\n      <td>Caring Motive</td>\n    </tr>\n    <tr>\n      <th>...</th>\n      <td>...</td>\n      <td>...</td>\n      <td>...</td>\n      <td>...</td>\n      <td>...</td>\n      <td>...</td>\n      <td>...</td>\n      <td>...</td>\n      <td>...</td>\n      <td>...</td>\n      <td>...</td>\n      <td>...</td>\n      <td>...</td>\n      <td>...</td>\n      <td>...</td>\n      <td>...</td>\n      <td>...</td>\n      <td>...</td>\n      <td>...</td>\n      <td>...</td>\n      <td>...</td>\n    </tr>\n    <tr>\n      <th>155</th>\n      <td>2022-06-24 10:56:11</td>\n      <td>2022-06-24 11:11:18</td>\n      <td>IP Address</td>\n      <td>*******</td>\n      <td>100</td>\n      <td>907</td>\n      <td>True</td>\n      <td>2022-06-24 11:11:19</td>\n      <td>R_3exJwREuGMBJO1I</td>\n      <td>*******</td>\n      <td>...</td>\n      <td>NaN</td>\n      <td>NaN</td>\n      <td>No Motive</td>\n      <td>2022-06-24T16:58:28.952Z</td>\n      <td>&gt;AI: I am Melu, a mental health companion. I ...</td>\n      <td>No Motive</td>\n      <td>12</td>\n      <td>11</td>\n      <td>23</td>\n      <td>No Motive</td>\n    </tr>\n    <tr>\n      <th>156</th>\n      <td>2022-06-24 10:30:27</td>\n      <td>2022-06-24 11:12:35</td>\n      <td>IP Address</td>\n      <td>*******</td>\n      <td>100</td>\n      <td>2528</td>\n      <td>True</td>\n      <td>2022-06-24 11:12:36</td>\n      <td>R_3NRgOI3IRZLpd16</td>\n      <td>*******</td>\n      <td>...</td>\n      <td>NaN</td>\n      <td>NaN</td>\n      <td>No Motive</td>\n      <td>2022-06-24T16:33:51.256Z</td>\n      <td>&gt;AI: I am Melu, a mental health companion. I ...</td>\n      <td>No Motive</td>\n      <td>35</td>\n      <td>34</td>\n      <td>69</td>\n      <td>No Motive</td>\n    </tr>\n    <tr>\n      <th>157</th>\n      <td>2022-06-24 10:36:02</td>\n      <td>2022-06-24 11:17:17</td>\n      <td>IP Address</td>\n      <td>*******</td>\n      <td>100</td>\n      <td>2475</td>\n      <td>True</td>\n      <td>2022-06-24 11:17:18</td>\n      <td>R_2XoinwbLDyODujA</td>\n      <td>*******</td>\n      <td>...</td>\n      <td>NaN</td>\n      <td>NaN</td>\n      <td>Caring Motive</td>\n      <td>2022-06-24T16:39:30.124Z</td>\n      <td>&gt;AI: I am Melu, a mental health companion. I ...</td>\n      <td>Caring Motive</td>\n      <td>72</td>\n      <td>71</td>\n      <td>143</td>\n      <td>Caring Motive</td>\n    </tr>\n    <tr>\n      <th>158</th>\n      <td>2022-06-24 10:45:31</td>\n      <td>2022-06-24 11:19:36</td>\n      <td>IP Address</td>\n      <td>*******</td>\n      <td>100</td>\n      <td>2044</td>\n      <td>True</td>\n      <td>2022-06-24 11:19:36</td>\n      <td>R_2WGOcIB0JMp3Fe4</td>\n      <td>*******</td>\n      <td>...</td>\n      <td>NaN</td>\n      <td>NaN</td>\n      <td>Caring Motive</td>\n      <td>2022-06-24T16:55:12.300Z</td>\n      <td>&gt;AI: I am Melu, a mental health companion. I ...</td>\n      <td>Caring Motive</td>\n      <td>4</td>\n      <td>3</td>\n      <td>7</td>\n      <td>Caring Motive</td>\n    </tr>\n    <tr>\n      <th>159</th>\n      <td>2022-06-24 11:02:20</td>\n      <td>2022-06-24 11:23:18</td>\n      <td>IP Address</td>\n      <td>*******</td>\n      <td>100</td>\n      <td>1257</td>\n      <td>True</td>\n      <td>2022-06-24 11:23:18</td>\n      <td>R_1MXoFHQ6Ug9QnuH</td>\n      <td>*******</td>\n      <td>...</td>\n      <td>NaN</td>\n      <td>NaN</td>\n      <td>Manipulative Motive</td>\n      <td>2022-06-24T17:05:40.289Z</td>\n      <td>&gt;AI: I am Melu, a mental health companion. I ...</td>\n      <td>Manipulative Motive</td>\n      <td>19</td>\n      <td>18</td>\n      <td>37</td>\n      <td>Caring Motive</td>\n    </tr>\n  </tbody>\n</table>\n<p>160 rows × 91 columns</p>\n</div>"
     },
     "metadata": {}
    }
   ],
   "execution_count": null
  },
  {
   "cell_type": "code",
   "metadata": {
    "cell_id": "9491f5f107db4d7597e43b16cb5e60dd",
    "tags": [],
    "deepnote_to_be_reexecuted": false,
    "source_hash": "c90d2353",
    "execution_start": 1660770967501,
    "execution_millis": 6,
    "deepnote_cell_type": "code",
    "deepnote_cell_height": 112
   },
   "source": "ivar = \"assigned_group\"\ndvar = \"Agent: The motive statement influenced your perception\"\nmy_pal = {\"No Motive\": \"#ababab\", \"Manipulative Motive\": \"#d16969\", \"Caring Motive\":\"#87c771\"}",
   "outputs": [],
   "execution_count": null
  },
  {
   "cell_type": "code",
   "metadata": {
    "cell_id": "c14da29f2f744c638ea74c5bfd4e7688",
    "tags": [],
    "deepnote_to_be_reexecuted": false,
    "source_hash": "9050b52e",
    "execution_start": 1660761707101,
    "execution_millis": 275,
    "deepnote_cell_type": "code",
    "deepnote_cell_height": 470
   },
   "source": "from statsmodels.stats.multicomp import pairwise_tukeyhsd\n\ndvar = \"Agent: The motive statement influenced your perception\"\ndatalist = stat_process.getDataList(df, \"assigned_group\", dvar, conditions_list)\n\nlong_table = stat_process.getLongTable(datalist)\n\ntukey = pairwise_tukeyhsd(endog=long_table['Data'].to_numpy(), groups=long_table['Condition'], alpha=0.05)\ntukey_df = pd.DataFrame(data=tukey._results_table.data[1:], columns=tukey._results_table.data[0])\ntukey_df",
   "execution_count": null,
   "outputs": [
    {
     "output_type": "execute_result",
     "execution_count": 6,
     "data": {
      "application/vnd.deepnote.dataframe.v3+json": {
       "column_count": 7,
       "row_count": 3,
       "columns": [
        {
         "name": "group1",
         "dtype": "object",
         "stats": {
          "unique_count": 2,
          "nan_count": 0,
          "categories": [
           {
            "name": "Caring Motive",
            "count": 2
           },
           {
            "name": "Manipulative Motive",
            "count": 1
           }
          ]
         }
        },
        {
         "name": "group2",
         "dtype": "object",
         "stats": {
          "unique_count": 2,
          "nan_count": 0,
          "categories": [
           {
            "name": "No Motive",
            "count": 2
           },
           {
            "name": "Manipulative Motive",
            "count": 1
           }
          ]
         }
        },
        {
         "name": "meandiff",
         "dtype": "float64",
         "stats": {
          "unique_count": 3,
          "nan_count": 0,
          "min": "-0.963",
          "max": "-0.401",
          "histogram": [
           {
            "bin_start": -0.963,
            "bin_end": -0.9067999999999999,
            "count": 1
           },
           {
            "bin_start": -0.9067999999999999,
            "bin_end": -0.8506,
            "count": 0
           },
           {
            "bin_start": -0.8506,
            "bin_end": -0.7944,
            "count": 0
           },
           {
            "bin_start": -0.7944,
            "bin_end": -0.7382,
            "count": 0
           },
           {
            "bin_start": -0.7382,
            "bin_end": -0.6819999999999999,
            "count": 0
           },
           {
            "bin_start": -0.6819999999999999,
            "bin_end": -0.6258,
            "count": 0
           },
           {
            "bin_start": -0.6258,
            "bin_end": -0.5696,
            "count": 0
           },
           {
            "bin_start": -0.5696,
            "bin_end": -0.5134000000000001,
            "count": 1
           },
           {
            "bin_start": -0.5134000000000001,
            "bin_end": -0.45720000000000005,
            "count": 0
           },
           {
            "bin_start": -0.45720000000000005,
            "bin_end": -0.401,
            "count": 1
           }
          ]
         }
        },
        {
         "name": "p-adj",
         "dtype": "float64",
         "stats": {
          "unique_count": 3,
          "nan_count": 0,
          "min": "0.0148",
          "max": "0.4764",
          "histogram": [
           {
            "bin_start": 0.0148,
            "bin_end": 0.06096,
            "count": 1
           },
           {
            "bin_start": 0.06096,
            "bin_end": 0.10711999999999999,
            "count": 0
           },
           {
            "bin_start": 0.10711999999999999,
            "bin_end": 0.15328,
            "count": 0
           },
           {
            "bin_start": 0.15328,
            "bin_end": 0.19944,
            "count": 0
           },
           {
            "bin_start": 0.19944,
            "bin_end": 0.2456,
            "count": 1
           },
           {
            "bin_start": 0.2456,
            "bin_end": 0.29175999999999996,
            "count": 0
           },
           {
            "bin_start": 0.29175999999999996,
            "bin_end": 0.33792,
            "count": 0
           },
           {
            "bin_start": 0.33792,
            "bin_end": 0.38408,
            "count": 0
           },
           {
            "bin_start": 0.38408,
            "bin_end": 0.43023999999999996,
            "count": 0
           },
           {
            "bin_start": 0.43023999999999996,
            "bin_end": 0.4764,
            "count": 1
           }
          ]
         }
        },
        {
         "name": "lower",
         "dtype": "float64",
         "stats": {
          "unique_count": 3,
          "nan_count": 0,
          "min": "-1.7703",
          "max": "-1.216",
          "histogram": [
           {
            "bin_start": -1.7703,
            "bin_end": -1.71487,
            "count": 1
           },
           {
            "bin_start": -1.71487,
            "bin_end": -1.65944,
            "count": 0
           },
           {
            "bin_start": -1.65944,
            "bin_end": -1.60401,
            "count": 0
           },
           {
            "bin_start": -1.60401,
            "bin_end": -1.54858,
            "count": 0
           },
           {
            "bin_start": -1.54858,
            "bin_end": -1.49315,
            "count": 0
           },
           {
            "bin_start": -1.49315,
            "bin_end": -1.43772,
            "count": 0
           },
           {
            "bin_start": -1.43772,
            "bin_end": -1.38229,
            "count": 0
           },
           {
            "bin_start": -1.38229,
            "bin_end": -1.32686,
            "count": 1
           },
           {
            "bin_start": -1.32686,
            "bin_end": -1.27143,
            "count": 0
           },
           {
            "bin_start": -1.27143,
            "bin_end": -1.216,
            "count": 1
           }
          ]
         }
        },
        {
         "name": "upper",
         "dtype": "float64",
         "stats": {
          "unique_count": 3,
          "nan_count": 0,
          "min": "-0.1556",
          "max": "0.414",
          "histogram": [
           {
            "bin_start": -0.1556,
            "bin_end": -0.09863999999999999,
            "count": 1
           },
           {
            "bin_start": -0.09863999999999999,
            "bin_end": -0.041679999999999995,
            "count": 0
           },
           {
            "bin_start": -0.041679999999999995,
            "bin_end": 0.015279999999999988,
            "count": 0
           },
           {
            "bin_start": 0.015279999999999988,
            "bin_end": 0.07224,
            "count": 0
           },
           {
            "bin_start": 0.07224,
            "bin_end": 0.1292,
            "count": 0
           },
           {
            "bin_start": 0.1292,
            "bin_end": 0.18615999999999996,
            "count": 0
           },
           {
            "bin_start": 0.18615999999999996,
            "bin_end": 0.24311999999999998,
            "count": 0
           },
           {
            "bin_start": 0.24311999999999998,
            "bin_end": 0.30008,
            "count": 1
           },
           {
            "bin_start": 0.30008,
            "bin_end": 0.35704,
            "count": 0
           },
           {
            "bin_start": 0.35704,
            "bin_end": 0.414,
            "count": 1
           }
          ]
         }
        },
        {
         "name": "reject",
         "dtype": "bool",
         "stats": {
          "unique_count": 2,
          "nan_count": 0,
          "categories": [
           {
            "name": "False",
            "count": 2
           },
           {
            "name": "True",
            "count": 1
           }
          ]
         }
        },
        {
         "name": "_deepnote_index_column",
         "dtype": "int64"
        }
       ],
       "rows": [
        {
         "group1": "Caring Motive",
         "group2": "Manipulative Motive",
         "meandiff": -0.401,
         "p-adj": 0.4764,
         "lower": -1.216,
         "upper": 0.414,
         "reject": false,
         "_deepnote_index_column": 0
        },
        {
         "group1": "Caring Motive",
         "group2": "No Motive",
         "meandiff": -0.963,
         "p-adj": 0.0148,
         "lower": -1.7703,
         "upper": -0.1556,
         "reject": true,
         "_deepnote_index_column": 1
        },
        {
         "group1": "Manipulative Motive",
         "group2": "No Motive",
         "meandiff": -0.562,
         "p-adj": 0.2355,
         "lower": -1.377,
         "upper": 0.2531,
         "reject": false,
         "_deepnote_index_column": 2
        }
       ]
      },
      "text/plain": "                group1               group2  meandiff   p-adj   lower   upper  \\\n0        Caring Motive  Manipulative Motive    -0.401  0.4764 -1.2160  0.4140   \n1        Caring Motive            No Motive    -0.963  0.0148 -1.7703 -0.1556   \n2  Manipulative Motive            No Motive    -0.562  0.2355 -1.3770  0.2531   \n\n   reject  \n0   False  \n1    True  \n2   False  ",
      "text/html": "<div>\n<style scoped>\n    .dataframe tbody tr th:only-of-type {\n        vertical-align: middle;\n    }\n\n    .dataframe tbody tr th {\n        vertical-align: top;\n    }\n\n    .dataframe thead th {\n        text-align: right;\n    }\n</style>\n<table border=\"1\" class=\"dataframe\">\n  <thead>\n    <tr style=\"text-align: right;\">\n      <th></th>\n      <th>group1</th>\n      <th>group2</th>\n      <th>meandiff</th>\n      <th>p-adj</th>\n      <th>lower</th>\n      <th>upper</th>\n      <th>reject</th>\n    </tr>\n  </thead>\n  <tbody>\n    <tr>\n      <th>0</th>\n      <td>Caring Motive</td>\n      <td>Manipulative Motive</td>\n      <td>-0.401</td>\n      <td>0.4764</td>\n      <td>-1.2160</td>\n      <td>0.4140</td>\n      <td>False</td>\n    </tr>\n    <tr>\n      <th>1</th>\n      <td>Caring Motive</td>\n      <td>No Motive</td>\n      <td>-0.963</td>\n      <td>0.0148</td>\n      <td>-1.7703</td>\n      <td>-0.1556</td>\n      <td>True</td>\n    </tr>\n    <tr>\n      <th>2</th>\n      <td>Manipulative Motive</td>\n      <td>No Motive</td>\n      <td>-0.562</td>\n      <td>0.2355</td>\n      <td>-1.3770</td>\n      <td>0.2531</td>\n      <td>False</td>\n    </tr>\n  </tbody>\n</table>\n</div>"
     },
     "metadata": {}
    }
   ]
  },
  {
   "cell_type": "code",
   "metadata": {
    "cell_id": "2f8a8a1feee74ec0a164a123ce9cc577",
    "tags": [],
    "deepnote_to_be_reexecuted": false,
    "source_hash": "dbe25ca3",
    "execution_start": 1660761748301,
    "execution_millis": 1,
    "deepnote_cell_type": "code",
    "deepnote_cell_height": 248.5
   },
   "source": "print(tukey)",
   "execution_count": null,
   "outputs": [
    {
     "name": "stdout",
     "text": "             Multiple Comparison of Means - Tukey HSD, FWER=0.05              \n==============================================================================\n       group1              group2       meandiff p-adj   lower   upper  reject\n------------------------------------------------------------------------------\n      Caring Motive Manipulative Motive   -0.401 0.4764  -1.216   0.414  False\n      Caring Motive           No Motive   -0.963 0.0148 -1.7703 -0.1556   True\nManipulative Motive           No Motive   -0.562 0.2355  -1.377  0.2531  False\n------------------------------------------------------------------------------\n",
     "output_type": "stream"
    }
   ]
  },
  {
   "cell_type": "code",
   "metadata": {
    "cell_id": "76f459dda3444833b2ae128a85c1d770",
    "tags": [],
    "deepnote_to_be_reexecuted": false,
    "source_hash": "972425f5",
    "execution_start": 1660762311575,
    "execution_millis": 674,
    "deepnote_cell_type": "code",
    "deepnote_cell_height": 1065.625,
    "deepnote_output_heights": [
     null,
     77.75,
     385
    ]
   },
   "source": "pairs = [(i[1][\"group1\"], i[1][\"group2\"]) for i in tukey_df.iterrows()]\np_values = [i[1][\"p-adj\"] for i in tukey_df.iterrows()]\n\nplt.tight_layout()\n\nsns.set(style=\"whitegrid\")\n\nmy_pal = {\"No Motive\": \"#ababab\", \"Manipulative Motive\": \"#d16969\", \"Caring Motive\":\"#87c771\"}\nax = sns.barplot(data=df, x=ivar, y=dvar, order=conditions_list, palette=my_pal, capsize=.1)\nplt.ylim(1, 7)\nannot = Annotator(\n    ax, pairs, data=df, x=ivar, y=dvar, order=conditions_list\n)\nannot.configure(text_format=\"star\", loc=\"outside\")\nannot.set_pvalues_and_annotate(p_values)",
   "execution_count": null,
   "outputs": [
    {
     "name": "stdout",
     "text": "p-value annotation legend:\n      ns: p <= 1.00e+00\n       *: 1.00e-02 < p <= 5.00e-02\n      **: 1.00e-03 < p <= 1.00e-02\n     ***: 1.00e-04 < p <= 1.00e-03\n    ****: p <= 1.00e-04\n\nManipulative Motive vs. Caring Motive: Custom statistical test, P_val:4.764e-01\nNo Motive vs. Manipulative Motive: Custom statistical test, P_val:2.355e-01\nNo Motive vs. Caring Motive: Custom statistical test, P_val:1.480e-02\n",
     "output_type": "stream"
    },
    {
     "output_type": "execute_result",
     "execution_count": 10,
     "data": {
      "text/plain": "(<AxesSubplot:xlabel='assigned_group', ylabel='Agent: The motive statement influenced your perception'>,\n [<statannotations.Annotation.Annotation at 0x7f5406b33b90>,\n  <statannotations.Annotation.Annotation at 0x7f5406b33b50>,\n  <statannotations.Annotation.Annotation at 0x7f540623b090>])"
     },
     "metadata": {}
    },
    {
     "data": {
      "text/plain": "<Figure size 432x288 with 1 Axes>",
      "image/png": "[encoded data removed]"
     },
     "metadata": {
      "image/png": {
       "width": 382,
       "height": 384
      }
     },
     "output_type": "display_data"
    }
   ]
  },
  {
   "cell_type": "code",
   "metadata": {
    "cell_id": "1da410195c754ebc83bebcc4034e3a1a",
    "tags": [],
    "deepnote_to_be_reexecuted": false,
    "source_hash": "f2eaec99",
    "execution_start": 1660762477083,
    "execution_millis": 23,
    "deepnote_cell_type": "code",
    "deepnote_cell_height": 319.875,
    "deepnote_output_heights": [
     null,
     20.1875
    ]
   },
   "source": "stat_process.Kruskal_Wallis_Test(datalist)",
   "execution_count": null,
   "outputs": [
    {
     "name": "stdout",
     "text": "alpha: 0.05\nKruskalResult(statistic=8.343702568319806, pvalue=0.01542368006257743)\nSignificant Result for Kruskal Wallis. Therefore we compute the DUNN post-hoc test.\n          1         2         3\n1  1.000000  0.245325  0.012522\n2  0.245325  1.000000  0.817821\n3  0.012522  0.817821  1.000000\nPairwise Dunn P-Values:\n(1, 3): No Motive-Caring Motive : pvalue = 0.012521646113215958 : SIGNIFICANT (*)\n",
     "output_type": "stream"
    },
    {
     "output_type": "execute_result",
     "execution_count": 12,
     "data": {
      "text/plain": "True"
     },
     "metadata": {}
    }
   ]
  },
  {
   "cell_type": "code",
   "metadata": {
    "cell_id": "6b63438a0ba64aeab5a67776848ae9a3",
    "tags": [],
    "deepnote_to_be_reexecuted": false,
    "source_hash": "217de1e5",
    "execution_start": 1660762633781,
    "execution_millis": 34,
    "deepnote_cell_type": "code",
    "deepnote_cell_height": 844.5625
   },
   "source": "import scikit_posthocs as sp\nimport itertools\n\nflag = True\nalpha = 5e-2 #0.05\nprint(f\"alpha: {alpha}\")\n\nargs = [sr[1] for sr in datalist]  # this returns a list of series\ngrps = [sr[0] for sr in datalist]  # list of experimental groups\n\n# for key in data_dict:\n#   print(key)\n\n# RUN KW Test\n# Inputs are *individual series, one for each category\nkw_result = stats.kruskal(*args)\nstatistic = kw_result[0]\npvalue = kw_result[1]\nprint(kw_result)\n\nflag = False\nif pvalue < alpha:  # KW returns significant result\n    print(\"Significant Result for Kruskal Wallis. Therefore we compute the DUNN post-hoc test.\")\n    dunn = sp.posthoc_dunn(args, p_adjust='bonferroni')\n\ndunn",
   "execution_count": null,
   "outputs": [
    {
     "name": "stdout",
     "text": "alpha: 0.05\nKruskalResult(statistic=8.343702568319806, pvalue=0.01542368006257743)\nSignificant Result for Kruskal Wallis. Therefore we compute the DUNN post-hoc test.\n",
     "output_type": "stream"
    },
    {
     "output_type": "execute_result",
     "execution_count": 15,
     "data": {
      "application/vnd.deepnote.dataframe.v3+json": {
       "column_count": 3,
       "row_count": 3,
       "columns": [
        {
         "name": 1,
         "dtype": "float64",
         "stats": {
          "unique_count": 3,
          "nan_count": 0,
          "min": "0.012521646113215958",
          "max": "1.0",
          "histogram": [
           {
            "bin_start": 0.012521646113215958,
            "bin_end": 0.11126948150189436,
            "count": 1
           },
           {
            "bin_start": 0.11126948150189436,
            "bin_end": 0.21001731689057276,
            "count": 0
           },
           {
            "bin_start": 0.21001731689057276,
            "bin_end": 0.30876515227925116,
            "count": 1
           },
           {
            "bin_start": 0.30876515227925116,
            "bin_end": 0.40751298766792954,
            "count": 0
           },
           {
            "bin_start": 0.40751298766792954,
            "bin_end": 0.5062608230566079,
            "count": 0
           },
           {
            "bin_start": 0.5062608230566079,
            "bin_end": 0.6050086584452864,
            "count": 0
           },
           {
            "bin_start": 0.6050086584452864,
            "bin_end": 0.7037564938339648,
            "count": 0
           },
           {
            "bin_start": 0.7037564938339648,
            "bin_end": 0.8025043292226431,
            "count": 0
           },
           {
            "bin_start": 0.8025043292226431,
            "bin_end": 0.9012521646113215,
            "count": 0
           },
           {
            "bin_start": 0.9012521646113215,
            "bin_end": 1,
            "count": 1
           }
          ]
         }
        },
        {
         "name": 2,
         "dtype": "float64",
         "stats": {
          "unique_count": 3,
          "nan_count": 0,
          "min": "0.2453246250496268",
          "max": "1.0",
          "histogram": [
           {
            "bin_start": 0.2453246250496268,
            "bin_end": 0.32079216254466414,
            "count": 1
           },
           {
            "bin_start": 0.32079216254466414,
            "bin_end": 0.39625970003970146,
            "count": 0
           },
           {
            "bin_start": 0.39625970003970146,
            "bin_end": 0.4717272375347388,
            "count": 0
           },
           {
            "bin_start": 0.4717272375347388,
            "bin_end": 0.5471947750297761,
            "count": 0
           },
           {
            "bin_start": 0.5471947750297761,
            "bin_end": 0.6226623125248134,
            "count": 0
           },
           {
            "bin_start": 0.6226623125248134,
            "bin_end": 0.6981298500198507,
            "count": 0
           },
           {
            "bin_start": 0.6981298500198507,
            "bin_end": 0.773597387514888,
            "count": 0
           },
           {
            "bin_start": 0.773597387514888,
            "bin_end": 0.8490649250099254,
            "count": 1
           },
           {
            "bin_start": 0.8490649250099254,
            "bin_end": 0.9245324625049627,
            "count": 0
           },
           {
            "bin_start": 0.9245324625049627,
            "bin_end": 1,
            "count": 1
           }
          ]
         }
        },
        {
         "name": 3,
         "dtype": "float64",
         "stats": {
          "unique_count": 3,
          "nan_count": 0,
          "min": "0.012521646113215958",
          "max": "1.0",
          "histogram": [
           {
            "bin_start": 0.012521646113215958,
            "bin_end": 0.11126948150189436,
            "count": 1
           },
           {
            "bin_start": 0.11126948150189436,
            "bin_end": 0.21001731689057276,
            "count": 0
           },
           {
            "bin_start": 0.21001731689057276,
            "bin_end": 0.30876515227925116,
            "count": 0
           },
           {
            "bin_start": 0.30876515227925116,
            "bin_end": 0.40751298766792954,
            "count": 0
           },
           {
            "bin_start": 0.40751298766792954,
            "bin_end": 0.5062608230566079,
            "count": 0
           },
           {
            "bin_start": 0.5062608230566079,
            "bin_end": 0.6050086584452864,
            "count": 0
           },
           {
            "bin_start": 0.6050086584452864,
            "bin_end": 0.7037564938339648,
            "count": 0
           },
           {
            "bin_start": 0.7037564938339648,
            "bin_end": 0.8025043292226431,
            "count": 0
           },
           {
            "bin_start": 0.8025043292226431,
            "bin_end": 0.9012521646113215,
            "count": 1
           },
           {
            "bin_start": 0.9012521646113215,
            "bin_end": 1,
            "count": 1
           }
          ]
         }
        },
        {
         "name": "_deepnote_index_column",
         "dtype": "int64"
        }
       ],
       "rows": [
        {
         "1": 1,
         "2": 0.2453246250496268,
         "3": 0.012521646113215958,
         "_deepnote_index_column": 1
        },
        {
         "1": 0.2453246250496268,
         "2": 1,
         "3": 0.8178210147612277,
         "_deepnote_index_column": 2
        },
        {
         "1": 0.012521646113215958,
         "2": 0.8178210147612277,
         "3": 1,
         "_deepnote_index_column": 3
        }
       ]
      },
      "text/plain": "          1         2         3\n1  1.000000  0.245325  0.012522\n2  0.245325  1.000000  0.817821\n3  0.012522  0.817821  1.000000",
      "text/html": "<div>\n<style scoped>\n    .dataframe tbody tr th:only-of-type {\n        vertical-align: middle;\n    }\n\n    .dataframe tbody tr th {\n        vertical-align: top;\n    }\n\n    .dataframe thead th {\n        text-align: right;\n    }\n</style>\n<table border=\"1\" class=\"dataframe\">\n  <thead>\n    <tr style=\"text-align: right;\">\n      <th></th>\n      <th>1</th>\n      <th>2</th>\n      <th>3</th>\n    </tr>\n  </thead>\n  <tbody>\n    <tr>\n      <th>1</th>\n      <td>1.000000</td>\n      <td>0.245325</td>\n      <td>0.012522</td>\n    </tr>\n    <tr>\n      <th>2</th>\n      <td>0.245325</td>\n      <td>1.000000</td>\n      <td>0.817821</td>\n    </tr>\n    <tr>\n      <th>3</th>\n      <td>0.012522</td>\n      <td>0.817821</td>\n      <td>1.000000</td>\n    </tr>\n  </tbody>\n</table>\n</div>"
     },
     "metadata": {}
    }
   ]
  },
  {
   "cell_type": "code",
   "metadata": {
    "cell_id": "69846afa13194b2fb2ec6f13e0771e04",
    "tags": [],
    "deepnote_to_be_reexecuted": false,
    "source_hash": "4adad488",
    "execution_start": 1660762853187,
    "execution_millis": 564,
    "deepnote_cell_type": "code",
    "deepnote_cell_height": 344
   },
   "source": "dunn2 = dunn.set_axis(conditions_list, axis=1)\ndunn2.set_axis(conditions_list, axis=0, inplace=True)\ndunn2",
   "execution_count": null,
   "outputs": [
    {
     "output_type": "execute_result",
     "execution_count": 20,
     "data": {
      "application/vnd.deepnote.dataframe.v3+json": {
       "column_count": 3,
       "row_count": 3,
       "columns": [
        {
         "name": "No Motive",
         "dtype": "float64",
         "stats": {
          "unique_count": 3,
          "nan_count": 0,
          "min": "0.012521646113215958",
          "max": "1.0",
          "histogram": [
           {
            "bin_start": 0.012521646113215958,
            "bin_end": 0.11126948150189436,
            "count": 1
           },
           {
            "bin_start": 0.11126948150189436,
            "bin_end": 0.21001731689057276,
            "count": 0
           },
           {
            "bin_start": 0.21001731689057276,
            "bin_end": 0.30876515227925116,
            "count": 1
           },
           {
            "bin_start": 0.30876515227925116,
            "bin_end": 0.40751298766792954,
            "count": 0
           },
           {
            "bin_start": 0.40751298766792954,
            "bin_end": 0.5062608230566079,
            "count": 0
           },
           {
            "bin_start": 0.5062608230566079,
            "bin_end": 0.6050086584452864,
            "count": 0
           },
           {
            "bin_start": 0.6050086584452864,
            "bin_end": 0.7037564938339648,
            "count": 0
           },
           {
            "bin_start": 0.7037564938339648,
            "bin_end": 0.8025043292226431,
            "count": 0
           },
           {
            "bin_start": 0.8025043292226431,
            "bin_end": 0.9012521646113215,
            "count": 0
           },
           {
            "bin_start": 0.9012521646113215,
            "bin_end": 1,
            "count": 1
           }
          ]
         }
        },
        {
         "name": "Manipulative Motive",
         "dtype": "float64",
         "stats": {
          "unique_count": 3,
          "nan_count": 0,
          "min": "0.2453246250496268",
          "max": "1.0",
          "histogram": [
           {
            "bin_start": 0.2453246250496268,
            "bin_end": 0.32079216254466414,
            "count": 1
           },
           {
            "bin_start": 0.32079216254466414,
            "bin_end": 0.39625970003970146,
            "count": 0
           },
           {
            "bin_start": 0.39625970003970146,
            "bin_end": 0.4717272375347388,
            "count": 0
           },
           {
            "bin_start": 0.4717272375347388,
            "bin_end": 0.5471947750297761,
            "count": 0
           },
           {
            "bin_start": 0.5471947750297761,
            "bin_end": 0.6226623125248134,
            "count": 0
           },
           {
            "bin_start": 0.6226623125248134,
            "bin_end": 0.6981298500198507,
            "count": 0
           },
           {
            "bin_start": 0.6981298500198507,
            "bin_end": 0.773597387514888,
            "count": 0
           },
           {
            "bin_start": 0.773597387514888,
            "bin_end": 0.8490649250099254,
            "count": 1
           },
           {
            "bin_start": 0.8490649250099254,
            "bin_end": 0.9245324625049627,
            "count": 0
           },
           {
            "bin_start": 0.9245324625049627,
            "bin_end": 1,
            "count": 1
           }
          ]
         }
        },
        {
         "name": "Caring Motive",
         "dtype": "float64",
         "stats": {
          "unique_count": 3,
          "nan_count": 0,
          "min": "0.012521646113215958",
          "max": "1.0",
          "histogram": [
           {
            "bin_start": 0.012521646113215958,
            "bin_end": 0.11126948150189436,
            "count": 1
           },
           {
            "bin_start": 0.11126948150189436,
            "bin_end": 0.21001731689057276,
            "count": 0
           },
           {
            "bin_start": 0.21001731689057276,
            "bin_end": 0.30876515227925116,
            "count": 0
           },
           {
            "bin_start": 0.30876515227925116,
            "bin_end": 0.40751298766792954,
            "count": 0
           },
           {
            "bin_start": 0.40751298766792954,
            "bin_end": 0.5062608230566079,
            "count": 0
           },
           {
            "bin_start": 0.5062608230566079,
            "bin_end": 0.6050086584452864,
            "count": 0
           },
           {
            "bin_start": 0.6050086584452864,
            "bin_end": 0.7037564938339648,
            "count": 0
           },
           {
            "bin_start": 0.7037564938339648,
            "bin_end": 0.8025043292226431,
            "count": 0
           },
           {
            "bin_start": 0.8025043292226431,
            "bin_end": 0.9012521646113215,
            "count": 1
           },
           {
            "bin_start": 0.9012521646113215,
            "bin_end": 1,
            "count": 1
           }
          ]
         }
        },
        {
         "name": "_deepnote_index_column",
         "dtype": "object"
        }
       ],
       "rows": [
        {
         "No Motive": 1,
         "Manipulative Motive": 0.2453246250496268,
         "Caring Motive": 0.012521646113215958,
         "_deepnote_index_column": "No Motive"
        },
        {
         "No Motive": 0.2453246250496268,
         "Manipulative Motive": 1,
         "Caring Motive": 0.8178210147612277,
         "_deepnote_index_column": "Manipulative Motive"
        },
        {
         "No Motive": 0.012521646113215958,
         "Manipulative Motive": 0.8178210147612277,
         "Caring Motive": 1,
         "_deepnote_index_column": "Caring Motive"
        }
       ]
      },
      "text/plain": "                     No Motive  Manipulative Motive  Caring Motive\nNo Motive             1.000000             0.245325       0.012522\nManipulative Motive   0.245325             1.000000       0.817821\nCaring Motive         0.012522             0.817821       1.000000",
      "text/html": "<div>\n<style scoped>\n    .dataframe tbody tr th:only-of-type {\n        vertical-align: middle;\n    }\n\n    .dataframe tbody tr th {\n        vertical-align: top;\n    }\n\n    .dataframe thead th {\n        text-align: right;\n    }\n</style>\n<table border=\"1\" class=\"dataframe\">\n  <thead>\n    <tr style=\"text-align: right;\">\n      <th></th>\n      <th>No Motive</th>\n      <th>Manipulative Motive</th>\n      <th>Caring Motive</th>\n    </tr>\n  </thead>\n  <tbody>\n    <tr>\n      <th>No Motive</th>\n      <td>1.000000</td>\n      <td>0.245325</td>\n      <td>0.012522</td>\n    </tr>\n    <tr>\n      <th>Manipulative Motive</th>\n      <td>0.245325</td>\n      <td>1.000000</td>\n      <td>0.817821</td>\n    </tr>\n    <tr>\n      <th>Caring Motive</th>\n      <td>0.012522</td>\n      <td>0.817821</td>\n      <td>1.000000</td>\n    </tr>\n  </tbody>\n</table>\n</div>"
     },
     "metadata": {}
    }
   ]
  },
  {
   "cell_type": "code",
   "metadata": {
    "cell_id": "eb3767a3c24544e2814e5b0cf0ff6699",
    "tags": [],
    "deepnote_to_be_reexecuted": false,
    "source_hash": "99d8c2a8",
    "execution_start": 1660763095774,
    "execution_millis": 34,
    "deepnote_cell_type": "code",
    "deepnote_cell_height": 398
   },
   "source": "remove = np.tril(np.ones(dunn2.shape), k=0).astype(\"bool\")\ndunn2[remove] = np.nan\n\nmolt_df = dunn2.melt(ignore_index=False).reset_index().dropna()\nmolt_df.set_axis([\"group1\", \"group2\", \"p-adj\"], axis=1, inplace=True)\nmolt_df",
   "execution_count": null,
   "outputs": [
    {
     "output_type": "execute_result",
     "execution_count": 24,
     "data": {
      "application/vnd.deepnote.dataframe.v3+json": {
       "column_count": 3,
       "row_count": 3,
       "columns": [
        {
         "name": "group1",
         "dtype": "object",
         "stats": {
          "unique_count": 2,
          "nan_count": 0,
          "categories": [
           {
            "name": "No Motive",
            "count": 2
           },
           {
            "name": "Manipulative Motive",
            "count": 1
           }
          ]
         }
        },
        {
         "name": "group2",
         "dtype": "object",
         "stats": {
          "unique_count": 2,
          "nan_count": 0,
          "categories": [
           {
            "name": "Caring Motive",
            "count": 2
           },
           {
            "name": "Manipulative Motive",
            "count": 1
           }
          ]
         }
        },
        {
         "name": "p-adj",
         "dtype": "float64",
         "stats": {
          "unique_count": 3,
          "nan_count": 0,
          "min": "0.012521646113215958",
          "max": "0.8178210147612277",
          "histogram": [
           {
            "bin_start": 0.012521646113215958,
            "bin_end": 0.09305158297801713,
            "count": 1
           },
           {
            "bin_start": 0.09305158297801713,
            "bin_end": 0.1735815198428183,
            "count": 0
           },
           {
            "bin_start": 0.1735815198428183,
            "bin_end": 0.2541114567076195,
            "count": 1
           },
           {
            "bin_start": 0.2541114567076195,
            "bin_end": 0.3346413935724206,
            "count": 0
           },
           {
            "bin_start": 0.3346413935724206,
            "bin_end": 0.41517133043722176,
            "count": 0
           },
           {
            "bin_start": 0.41517133043722176,
            "bin_end": 0.49570126730202296,
            "count": 0
           },
           {
            "bin_start": 0.49570126730202296,
            "bin_end": 0.5762312041668242,
            "count": 0
           },
           {
            "bin_start": 0.5762312041668242,
            "bin_end": 0.6567611410316253,
            "count": 0
           },
           {
            "bin_start": 0.6567611410316253,
            "bin_end": 0.7372910778964264,
            "count": 0
           },
           {
            "bin_start": 0.7372910778964264,
            "bin_end": 0.8178210147612277,
            "count": 1
           }
          ]
         }
        },
        {
         "name": "_deepnote_index_column",
         "dtype": "int64"
        }
       ],
       "rows": [
        {
         "group1": "No Motive",
         "group2": "Manipulative Motive",
         "p-adj": 0.2453246250496268,
         "_deepnote_index_column": 3
        },
        {
         "group1": "No Motive",
         "group2": "Caring Motive",
         "p-adj": 0.012521646113215958,
         "_deepnote_index_column": 6
        },
        {
         "group1": "Manipulative Motive",
         "group2": "Caring Motive",
         "p-adj": 0.8178210147612277,
         "_deepnote_index_column": 7
        }
       ]
      },
      "text/plain": "                group1               group2     p-adj\n3            No Motive  Manipulative Motive  0.245325\n6            No Motive        Caring Motive  0.012522\n7  Manipulative Motive        Caring Motive  0.817821",
      "text/html": "<div>\n<style scoped>\n    .dataframe tbody tr th:only-of-type {\n        vertical-align: middle;\n    }\n\n    .dataframe tbody tr th {\n        vertical-align: top;\n    }\n\n    .dataframe thead th {\n        text-align: right;\n    }\n</style>\n<table border=\"1\" class=\"dataframe\">\n  <thead>\n    <tr style=\"text-align: right;\">\n      <th></th>\n      <th>group1</th>\n      <th>group2</th>\n      <th>p-adj</th>\n    </tr>\n  </thead>\n  <tbody>\n    <tr>\n      <th>3</th>\n      <td>No Motive</td>\n      <td>Manipulative Motive</td>\n      <td>0.245325</td>\n    </tr>\n    <tr>\n      <th>6</th>\n      <td>No Motive</td>\n      <td>Caring Motive</td>\n      <td>0.012522</td>\n    </tr>\n    <tr>\n      <th>7</th>\n      <td>Manipulative Motive</td>\n      <td>Caring Motive</td>\n      <td>0.817821</td>\n    </tr>\n  </tbody>\n</table>\n</div>"
     },
     "metadata": {}
    }
   ]
  },
  {
   "cell_type": "code",
   "metadata": {
    "cell_id": "1047e3a786b245dc9d66c74d49a30197",
    "tags": [],
    "deepnote_cell_type": "code",
    "deepnote_cell_height": 889
   },
   "source": "def plotStats(data, ivar, dvar, conditions_list, stats, pal, ylims=None, test=\"tukey\"):\n    '''\n    Ref: https://blog.4dcu.be/programming/2021/12/30/Posthoc-Statannotations.html \n\n    Args: \n        data: pandas dataframe of the data\n        ivar: string, column name of the independent variable\n        dvar: string, column name of the dependent variable\n        conditions_list: list of strings, names of groups for independent variable\n        stats: returned results from tukey or dunn\n        pal: dictionary, palettes for conditions\n        ylims: tuple of y-axis limits, if any\n        test: string, must be tukey or dunn\n\n    '''\n\n    # format post-hoc tests into a non-reduntant list of comparisons with p value\n    if test == \"tukey\":\n        stat_df = pd.DataFrame(data=stats._results_table.data[1:], columns=stats._results_table.data[0])\n    elif test == \"dunn\":\n        dunn = stat.set_axis(conditions_list, axis=1)\n        dunn.set_axis(conditions_list, axis=0, inplace=True)\n        \n        remove = np.tril(np.ones(dunn.shape), k=0).astype(\"bool\")\n        dunn[remove] = np.nan\n\n        stat_df = dunn.melt(ignore_index=False).reset_index().dropna()\n        stat_df.set_axis([\"group1\", \"group2\", \"p-adj\"], axis=1, inplace=True)\n    else: \n        print(\"Error: test must be tukey or dunn\")\n        return\n    \n    pairs = [(i[1][\"group1\"], i[1][\"group2\"]) for i in stat_df.iterrows()]\n    p_values = [i[1][\"p-adj\"] for i in stat_df.iterrows()]\n\n    plt.tight_layout()\n\n    sns.set(style=\"whitegrid\")\n\n    ax = sns.barplot(data=data, x=ivar, y=dvar, order=conditions_list, palette=pal, capsize=.1)\n    if ylims is not None:\n        plt.ylim(ylims[0], ylims[1])\n    annot = Annotator(\n        ax, pairs, data=data, x=ivar, y=dvar, order=conditions_list\n    )\n    annot.configure(text_format=\"star\", loc=\"outside\")\n    annot.set_pvalues_and_annotate(p_values)",
   "execution_count": null,
   "outputs": []
  },
  {
   "cell_type": "code",
   "metadata": {
    "cell_id": "b6e91b2d6ebc49c7a911482b75951124",
    "tags": [],
    "deepnote_to_be_reexecuted": false,
    "source_hash": "86a08902",
    "execution_start": 1660773524483,
    "execution_millis": 1261,
    "deepnote_cell_type": "code",
    "deepnote_cell_height": 1150,
    "deepnote_output_heights": [
     null,
     387
    ]
   },
   "source": "import importlib\nimportlib.reload(stat_process)\nstat_process.StatTest(df, ivar, dvar, conditions_list, viz=True, pal=my_pal, ylims=(1,7))",
   "outputs": [
    {
     "name": "stdout",
     "text": "[StatTest] Minimal Sample Size was met. Check if sample sizes are roughly equal.\n---------------------------------------------\nPerforming Equal Variances Test...\nPerforming Levene Test...\nhomogeneity test: LeveneResult(statistic=0.5297765644419269, pvalue=0.5897851840590602)\nThe populations have equal variances.\n[StatTest] Assumption of Equal Variances was met. Run basic ANOVA.\n---------------------------------------------\nPerforming ANOVA\nF_onewayResult(statistic=4.018923658971343, pvalue=0.01985244581062491)\nANOVA found signifance. At least one of the means of the groups is different.\n[StatTest] Basic ANOVA found significance. Run Tukey post-hoc test.\n---------------------------------------------\nPerforming Tukey Post-Hoc Test...\n             Multiple Comparison of Means - Tukey HSD, FWER=0.05              \n==============================================================================\n       group1              group2       meandiff p-adj   lower   upper  reject\n------------------------------------------------------------------------------\n      Caring Motive Manipulative Motive   -0.401 0.4764  -1.216   0.414  False\n      Caring Motive           No Motive   -0.963 0.0148 -1.7703 -0.1556   True\nManipulative Motive           No Motive   -0.562 0.2355  -1.377  0.2531  False\n------------------------------------------------------------------------------\np-value annotation legend:\n      ns: p <= 1.00e+00\n       *: 1.00e-02 < p <= 5.00e-02\n      **: 1.00e-03 < p <= 1.00e-02\n     ***: 1.00e-04 < p <= 1.00e-03\n    ****: p <= 1.00e-04\n\nManipulative Motive vs. Caring Motive: Custom statistical test, P_val:4.764e-01\nNo Motive vs. Manipulative Motive: Custom statistical test, P_val:2.355e-01\nNo Motive vs. Caring Motive: Custom statistical test, P_val:1.480e-02\n",
     "output_type": "stream"
    },
    {
     "data": {
      "text/plain": "<Figure size 432x288 with 1 Axes>",
      "image/png": "[encoded data removed]"
     },
     "metadata": {
      "image/png": {
       "width": 382,
       "height": 386
      }
     },
     "output_type": "display_data"
    }
   ],
   "execution_count": null
  },
  {
   "cell_type": "code",
   "source": "import itertools\ncmbs = itertools.combinations(conditions_list, 2)",
   "metadata": {
    "cell_id": "806106855b00440eb62a3257f8e21054",
    "tags": [],
    "deepnote_to_be_reexecuted": false,
    "source_hash": "84570d6b",
    "execution_start": 1660773113341,
    "execution_millis": 1,
    "deepnote_cell_type": "code",
    "deepnote_cell_height": 94,
    "deepnote_output_heights": [
     20.1875
    ]
   },
   "outputs": [],
   "execution_count": null
  },
  {
   "cell_type": "code",
   "source": "for comb in cmbs:\n    print(comb)",
   "metadata": {
    "cell_id": "60c31b0cfd134b7bb612a70ac520503d",
    "tags": [],
    "deepnote_to_be_reexecuted": false,
    "source_hash": "4729a87",
    "execution_start": 1660773128481,
    "execution_millis": 12,
    "deepnote_cell_type": "code",
    "deepnote_cell_height": 165.5625
   },
   "outputs": [
    {
     "name": "stdout",
     "text": "('No Motive', 'Manipulative Motive')\n('No Motive', 'Caring Motive')\n('Manipulative Motive', 'Caring Motive')\n",
     "output_type": "stream"
    }
   ],
   "execution_count": null
  },
  {
   "cell_type": "code",
   "source": "cmbs = itertools.combinations(conditions_list, 2)\ng1 = []\ng2 = []\npv = []\nfor comb in cmbs:\n    g1.append(comb[0])\n    print(comb[0])\n    g2.append(comb[1])\n    pv.append(1)\n",
   "metadata": {
    "cell_id": "0ce6b95bcb8b4a2197210bc4cdc73ac0",
    "tags": [],
    "deepnote_to_be_reexecuted": false,
    "source_hash": "d7e49008",
    "execution_start": 1660773451050,
    "execution_millis": 331,
    "deepnote_cell_type": "code",
    "deepnote_cell_height": 309.5625
   },
   "outputs": [
    {
     "name": "stdout",
     "text": "No Motive\nNo Motive\nManipulative Motive\n",
     "output_type": "stream"
    }
   ],
   "execution_count": null
  },
  {
   "cell_type": "code",
   "source": "d = {\"group1\":g1, \"group2\":g2, \"p-adj\":pv}\nstat_df = pd.DataFrame(data=d)\nstat_df",
   "metadata": {
    "cell_id": "34db6cdc10f640bab53e0b98166d4b7a",
    "tags": [],
    "deepnote_to_be_reexecuted": false,
    "source_hash": "570a25ec",
    "execution_start": 1660773454503,
    "execution_millis": 27,
    "deepnote_cell_type": "code",
    "deepnote_cell_height": 344,
    "deepnote_output_heights": [
     20.1875
    ]
   },
   "outputs": [
    {
     "output_type": "execute_result",
     "execution_count": 17,
     "data": {
      "application/vnd.deepnote.dataframe.v3+json": {
       "column_count": 3,
       "row_count": 3,
       "columns": [
        {
         "name": "group1",
         "dtype": "object",
         "stats": {
          "unique_count": 2,
          "nan_count": 0,
          "categories": [
           {
            "name": "No Motive",
            "count": 2
           },
           {
            "name": "Manipulative Motive",
            "count": 1
           }
          ]
         }
        },
        {
         "name": "group2",
         "dtype": "object",
         "stats": {
          "unique_count": 2,
          "nan_count": 0,
          "categories": [
           {
            "name": "Caring Motive",
            "count": 2
           },
           {
            "name": "Manipulative Motive",
            "count": 1
           }
          ]
         }
        },
        {
         "name": "p-adj",
         "dtype": "int64",
         "stats": {
          "unique_count": 1,
          "nan_count": 0,
          "min": "1",
          "max": "1",
          "histogram": [
           {
            "bin_start": 0.5,
            "bin_end": 0.6,
            "count": 0
           },
           {
            "bin_start": 0.6,
            "bin_end": 0.7,
            "count": 0
           },
           {
            "bin_start": 0.7,
            "bin_end": 0.8,
            "count": 0
           },
           {
            "bin_start": 0.8,
            "bin_end": 0.9,
            "count": 0
           },
           {
            "bin_start": 0.9,
            "bin_end": 1,
            "count": 0
           },
           {
            "bin_start": 1,
            "bin_end": 1.1,
            "count": 3
           },
           {
            "bin_start": 1.1,
            "bin_end": 1.2000000000000002,
            "count": 0
           },
           {
            "bin_start": 1.2000000000000002,
            "bin_end": 1.3,
            "count": 0
           },
           {
            "bin_start": 1.3,
            "bin_end": 1.4,
            "count": 0
           },
           {
            "bin_start": 1.4,
            "bin_end": 1.5,
            "count": 0
           }
          ]
         }
        },
        {
         "name": "_deepnote_index_column",
         "dtype": "int64"
        }
       ],
       "rows": [
        {
         "group1": "No Motive",
         "group2": "Manipulative Motive",
         "p-adj": 1,
         "_deepnote_index_column": 0
        },
        {
         "group1": "No Motive",
         "group2": "Caring Motive",
         "p-adj": 1,
         "_deepnote_index_column": 1
        },
        {
         "group1": "Manipulative Motive",
         "group2": "Caring Motive",
         "p-adj": 1,
         "_deepnote_index_column": 2
        }
       ]
      },
      "text/plain": "                group1               group2  p-adj\n0            No Motive  Manipulative Motive      1\n1            No Motive        Caring Motive      1\n2  Manipulative Motive        Caring Motive      1",
      "text/html": "<div>\n<style scoped>\n    .dataframe tbody tr th:only-of-type {\n        vertical-align: middle;\n    }\n\n    .dataframe tbody tr th {\n        vertical-align: top;\n    }\n\n    .dataframe thead th {\n        text-align: right;\n    }\n</style>\n<table border=\"1\" class=\"dataframe\">\n  <thead>\n    <tr style=\"text-align: right;\">\n      <th></th>\n      <th>group1</th>\n      <th>group2</th>\n      <th>p-adj</th>\n    </tr>\n  </thead>\n  <tbody>\n    <tr>\n      <th>0</th>\n      <td>No Motive</td>\n      <td>Manipulative Motive</td>\n      <td>1</td>\n    </tr>\n    <tr>\n      <th>1</th>\n      <td>No Motive</td>\n      <td>Caring Motive</td>\n      <td>1</td>\n    </tr>\n    <tr>\n      <th>2</th>\n      <td>Manipulative Motive</td>\n      <td>Caring Motive</td>\n      <td>1</td>\n    </tr>\n  </tbody>\n</table>\n</div>"
     },
     "metadata": {}
    }
   ],
   "execution_count": null
  },
  {
   "cell_type": "markdown",
   "source": "<a style='text-decoration:none;line-height:16px;display:flex;color:#5B5B62;padding:10px;justify-content:end;' href='https://deepnote.com?utm_source=created-in-deepnote-cell&projectId=4cb10f81-1a63-431a-81dd-4a1a5d69504e' target=\"_blank\">\n<img alt='Created in deepnote.com' style='display:inline;max-height:16px;margin:0px;margin-right:7.5px;' src='data:image/svg+xml;base64,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' > </img>\nCreated in <span style='font-weight:600;margin-left:4px;'>Deepnote</span></a>",
   "metadata": {
    "tags": [],
    "created_in_deepnote_cell": true,
    "deepnote_cell_type": "markdown"
   }
  }
 ],
 "nbformat": 4,
 "nbformat_minor": 2,
 "metadata": {
  "orig_nbformat": 2,
  "deepnote": {},
  "deepnote_notebook_id": "015efdd4-2c70-4f52-8703-43f6624f9326",
  "deepnote_execution_queue": []
 }
}